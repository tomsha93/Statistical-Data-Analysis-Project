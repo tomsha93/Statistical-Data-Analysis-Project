{
 "cells": [
  {
   "cell_type": "markdown",
   "id": "430e02a1",
   "metadata": {},
   "source": [
    "# SDA Project"
   ]
  },
  {
   "cell_type": "markdown",
   "id": "33c5f750",
   "metadata": {},
   "source": [
    "**Our goal in this project is to determine which prepaid plan brings in more revenue**"
   ]
  },
  {
   "cell_type": "markdown",
   "id": "a3f994d4",
   "metadata": {},
   "source": [
    "## Study and prepare the datasets\n"
   ]
  },
  {
   "cell_type": "code",
   "execution_count": 1,
   "id": "f91efd11",
   "metadata": {},
   "outputs": [
    {
     "name": "stdout",
     "output_type": "stream",
     "text": [
      "Requirement already satisfied: seaborn in c:\\users\\tomsh\\anaconda3\\lib\\site-packages (0.11.2)\n",
      "Requirement already satisfied: matplotlib>=2.2 in c:\\users\\tomsh\\anaconda3\\lib\\site-packages (from seaborn) (3.3.4)\n",
      "Requirement already satisfied: pandas>=0.23 in c:\\users\\tomsh\\anaconda3\\lib\\site-packages (from seaborn) (1.2.4)\n",
      "Requirement already satisfied: numpy>=1.15 in c:\\users\\tomsh\\anaconda3\\lib\\site-packages (from seaborn) (1.20.1)\n",
      "Requirement already satisfied: scipy>=1.0 in c:\\users\\tomsh\\anaconda3\\lib\\site-packages (from seaborn) (1.6.2)\n",
      "Requirement already satisfied: pillow>=6.2.0 in c:\\users\\tomsh\\anaconda3\\lib\\site-packages (from matplotlib>=2.2->seaborn) (8.2.0)\n",
      "Requirement already satisfied: cycler>=0.10 in c:\\users\\tomsh\\anaconda3\\lib\\site-packages (from matplotlib>=2.2->seaborn) (0.10.0)\n",
      "Requirement already satisfied: pyparsing!=2.0.4,!=2.1.2,!=2.1.6,>=2.0.3 in c:\\users\\tomsh\\anaconda3\\lib\\site-packages (from matplotlib>=2.2->seaborn) (2.4.7)\n",
      "Requirement already satisfied: kiwisolver>=1.0.1 in c:\\users\\tomsh\\anaconda3\\lib\\site-packages (from matplotlib>=2.2->seaborn) (1.3.1)\n",
      "Requirement already satisfied: python-dateutil>=2.1 in c:\\users\\tomsh\\anaconda3\\lib\\site-packages (from matplotlib>=2.2->seaborn) (2.8.1)\n",
      "Requirement already satisfied: six in c:\\users\\tomsh\\anaconda3\\lib\\site-packages (from cycler>=0.10->matplotlib>=2.2->seaborn) (1.15.0)\n",
      "Requirement already satisfied: pytz>=2017.3 in c:\\users\\tomsh\\anaconda3\\lib\\site-packages (from pandas>=0.23->seaborn) (2021.1)\n"
     ]
    }
   ],
   "source": [
    "# Reviewer's code\n",
    "!pip install --upgrade seaborn"
   ]
  },
  {
   "cell_type": "code",
   "execution_count": 2,
   "id": "798dc972",
   "metadata": {},
   "outputs": [],
   "source": [
    "import pandas as pd\n",
    "import numpy as np\n",
    "import datetime as dt\n",
    "import matplotlib.pyplot as plt\n",
    "import seaborn as sns\n",
    "import math"
   ]
  },
  {
   "cell_type": "code",
   "execution_count": 3,
   "id": "8baf87d7",
   "metadata": {},
   "outputs": [],
   "source": [
    "try:\n",
    "    megaline_calls = pd.read_csv(r\"C:\\Users\\tomsh\\Desktop\\Python Projects\\Project 3 - Statistics\\megaline_calls.csv\")\n",
    "except:\n",
    "    megaline_calls = pd.read_csv('/datasets/megaline_calls.csv')"
   ]
  },
  {
   "cell_type": "code",
   "execution_count": 4,
   "id": "c1cb52b6",
   "metadata": {},
   "outputs": [],
   "source": [
    "try:\n",
    "    megaline_internet = pd.read_csv(r\"C:\\Users\\tomsh\\Desktop\\Python Projects\\Project 3 - Statistics\\megaline_internet.csv\")\n",
    "except:\n",
    "    megaline_internet = pd.read_csv('/datasets/megaline_internet.csv')"
   ]
  },
  {
   "cell_type": "code",
   "execution_count": 5,
   "id": "1fef3ce4",
   "metadata": {},
   "outputs": [],
   "source": [
    "try:\n",
    "    megaline_messages = pd.read_csv(r\"C:\\Users\\tomsh\\Desktop\\Python Projects\\Project 3 - Statistics\\megaline_messages.csv\")\n",
    "except:\n",
    "    megaline_messages = pd.read_csv('/datasets/megaline_messages.csv')"
   ]
  },
  {
   "cell_type": "code",
   "execution_count": 6,
   "id": "1478d305",
   "metadata": {},
   "outputs": [],
   "source": [
    "try:\n",
    "    megaline_plans = pd.read_csv(r\"C:\\Users\\tomsh\\Desktop\\Python Projects\\Project 3 - Statistics\\megaline_plans.csv\")\n",
    "except:\n",
    "    megaline_plans = pd.read_csv('/datasets/megaline_plans.csv')"
   ]
  },
  {
   "cell_type": "code",
   "execution_count": 7,
   "id": "ce507e69",
   "metadata": {},
   "outputs": [],
   "source": [
    "try:\n",
    "    megaline_users = pd.read_csv(r\"C:\\Users\\tomsh\\Desktop\\Python Projects\\Project 3 - Statistics\\megaline_users.csv\")\n",
    "except:\n",
    "    megaline_users = pd.read_csv('/datasets/megaline_users.csv')"
   ]
  },
  {
   "cell_type": "code",
   "execution_count": 8,
   "id": "fd7b008d",
   "metadata": {},
   "outputs": [],
   "source": [
    "def study(i):\n",
    "    print(i.head())\n",
    "    print('-----------------------------')\n",
    "    print(i.info())\n",
    "    print('-----------------------------')\n",
    "    print(i.describe())"
   ]
  },
  {
   "cell_type": "markdown",
   "id": "05143ac8",
   "metadata": {},
   "source": [
    "**Above we can see that for our project we use multiple datasets, We will probably merge specific data from each dataset to one dataset which will be called 'data'**"
   ]
  },
  {
   "cell_type": "markdown",
   "id": "d11ebf6d",
   "metadata": {},
   "source": [
    "### Megaline calls data"
   ]
  },
  {
   "cell_type": "code",
   "execution_count": 9,
   "id": "0f77caa5",
   "metadata": {},
   "outputs": [
    {
     "name": "stdout",
     "output_type": "stream",
     "text": [
      "         id  user_id   call_date  duration\n",
      "0   1000_93     1000  2018-12-27      8.52\n",
      "1  1000_145     1000  2018-12-27     13.66\n",
      "2  1000_247     1000  2018-12-27     14.48\n",
      "3  1000_309     1000  2018-12-28      5.76\n",
      "4  1000_380     1000  2018-12-30      4.22\n",
      "-----------------------------\n",
      "<class 'pandas.core.frame.DataFrame'>\n",
      "RangeIndex: 137735 entries, 0 to 137734\n",
      "Data columns (total 4 columns):\n",
      " #   Column     Non-Null Count   Dtype  \n",
      "---  ------     --------------   -----  \n",
      " 0   id         137735 non-null  object \n",
      " 1   user_id    137735 non-null  int64  \n",
      " 2   call_date  137735 non-null  object \n",
      " 3   duration   137735 non-null  float64\n",
      "dtypes: float64(1), int64(1), object(2)\n",
      "memory usage: 4.2+ MB\n",
      "None\n",
      "-----------------------------\n",
      "             user_id       duration\n",
      "count  137735.000000  137735.000000\n",
      "mean     1247.658046       6.745927\n",
      "std       139.416268       5.839241\n",
      "min      1000.000000       0.000000\n",
      "25%      1128.000000       1.290000\n",
      "50%      1247.000000       5.980000\n",
      "75%      1365.000000      10.690000\n",
      "max      1499.000000      37.600000\n"
     ]
    }
   ],
   "source": [
    "study(megaline_calls)"
   ]
  },
  {
   "cell_type": "code",
   "execution_count": 10,
   "id": "641ccc4f",
   "metadata": {},
   "outputs": [],
   "source": [
    "megaline_calls['call_date'] = pd.to_datetime(megaline_calls['call_date'],format=('%Y-%m-%d'))"
   ]
  },
  {
   "cell_type": "code",
   "execution_count": 11,
   "id": "8de3aaf1",
   "metadata": {},
   "outputs": [
    {
     "name": "stdout",
     "output_type": "stream",
     "text": [
      "<class 'pandas.core.frame.DataFrame'>\n",
      "RangeIndex: 137735 entries, 0 to 137734\n",
      "Data columns (total 4 columns):\n",
      " #   Column     Non-Null Count   Dtype         \n",
      "---  ------     --------------   -----         \n",
      " 0   id         137735 non-null  object        \n",
      " 1   user_id    137735 non-null  int64         \n",
      " 2   call_date  137735 non-null  datetime64[ns]\n",
      " 3   duration   137735 non-null  float64       \n",
      "dtypes: datetime64[ns](1), float64(1), int64(1), object(1)\n",
      "memory usage: 4.2+ MB\n"
     ]
    }
   ],
   "source": [
    "megaline_calls.info()"
   ]
  },
  {
   "cell_type": "code",
   "execution_count": 12,
   "id": "206cc11e",
   "metadata": {},
   "outputs": [
    {
     "name": "stdout",
     "output_type": "stream",
     "text": [
      "Percentage of missed calls: 19%\n"
     ]
    }
   ],
   "source": [
    "print('Percentage of missed calls: {:.0%}'.format(len(megaline_calls[megaline_calls['duration']==0])/len(megaline_calls)))"
   ]
  },
  {
   "cell_type": "markdown",
   "id": "e53ddabc",
   "metadata": {},
   "source": [
    "* I converted the data type of call_date to be datetime\n",
    "* I have found a large amount of zeros in duration column, we'll leave it as it is because the zeros are called that the users didn't pick up."
   ]
  },
  {
   "cell_type": "markdown",
   "id": "a034ff00",
   "metadata": {},
   "source": [
    "### Megalin internet data"
   ]
  },
  {
   "cell_type": "code",
   "execution_count": 13,
   "id": "ffcbbc4c",
   "metadata": {},
   "outputs": [
    {
     "name": "stdout",
     "output_type": "stream",
     "text": [
      "         id  user_id session_date  mb_used\n",
      "0   1000_13     1000   2018-12-29    89.86\n",
      "1  1000_204     1000   2018-12-31     0.00\n",
      "2  1000_379     1000   2018-12-28   660.40\n",
      "3  1000_413     1000   2018-12-26   270.99\n",
      "4  1000_442     1000   2018-12-27   880.22\n",
      "-----------------------------\n",
      "<class 'pandas.core.frame.DataFrame'>\n",
      "RangeIndex: 104825 entries, 0 to 104824\n",
      "Data columns (total 4 columns):\n",
      " #   Column        Non-Null Count   Dtype  \n",
      "---  ------        --------------   -----  \n",
      " 0   id            104825 non-null  object \n",
      " 1   user_id       104825 non-null  int64  \n",
      " 2   session_date  104825 non-null  object \n",
      " 3   mb_used       104825 non-null  float64\n",
      "dtypes: float64(1), int64(1), object(2)\n",
      "memory usage: 3.2+ MB\n",
      "None\n",
      "-----------------------------\n",
      "             user_id        mb_used\n",
      "count  104825.000000  104825.000000\n",
      "mean     1242.496361     366.713701\n",
      "std       142.053913     277.170542\n",
      "min      1000.000000       0.000000\n",
      "25%      1122.000000     136.080000\n",
      "50%      1236.000000     343.980000\n",
      "75%      1367.000000     554.610000\n",
      "max      1499.000000    1693.470000\n"
     ]
    }
   ],
   "source": [
    "study(megaline_internet)"
   ]
  },
  {
   "cell_type": "code",
   "execution_count": 14,
   "id": "a30372b6",
   "metadata": {},
   "outputs": [],
   "source": [
    "megaline_internet['session_date'] = pd.to_datetime(megaline_internet['session_date'],format=('%Y-%m-%d'))"
   ]
  },
  {
   "cell_type": "code",
   "execution_count": 15,
   "id": "e8604a97",
   "metadata": {
    "scrolled": true
   },
   "outputs": [
    {
     "name": "stdout",
     "output_type": "stream",
     "text": [
      "<class 'pandas.core.frame.DataFrame'>\n",
      "RangeIndex: 104825 entries, 0 to 104824\n",
      "Data columns (total 4 columns):\n",
      " #   Column        Non-Null Count   Dtype         \n",
      "---  ------        --------------   -----         \n",
      " 0   id            104825 non-null  object        \n",
      " 1   user_id       104825 non-null  int64         \n",
      " 2   session_date  104825 non-null  datetime64[ns]\n",
      " 3   mb_used       104825 non-null  float64       \n",
      "dtypes: datetime64[ns](1), float64(1), int64(1), object(1)\n",
      "memory usage: 3.2+ MB\n"
     ]
    }
   ],
   "source": [
    "megaline_internet.info()"
   ]
  },
  {
   "cell_type": "code",
   "execution_count": 16,
   "id": "73b03282",
   "metadata": {},
   "outputs": [
    {
     "name": "stdout",
     "output_type": "stream",
     "text": [
      "Percentage of session with 0.0 mb_used: 0.46%\n"
     ]
    }
   ],
   "source": [
    "print('Percentage of session with 0.0 mb_used: {:.2%}'.format(len(megaline_internet[megaline_internet['mb_used']==0]['user_id'].value_counts())/len(megaline_internet)))"
   ]
  },
  {
   "cell_type": "code",
   "execution_count": 17,
   "id": "3199f06e",
   "metadata": {},
   "outputs": [
    {
     "name": "stdout",
     "output_type": "stream",
     "text": [
      "Percentage of session with 0.0 mb_used after removing them: 0%\n"
     ]
    }
   ],
   "source": [
    "megaline_internet = megaline_internet[megaline_internet['mb_used']!=0]\n",
    "print('Percentage of session with 0.0 mb_used after removing them: {:.0%}'.format(len(megaline_internet[megaline_internet['mb_used']==0])))"
   ]
  },
  {
   "cell_type": "markdown",
   "id": "a31739de",
   "metadata": {},
   "source": [
    "* I converted the session date column to be datetime type\n",
    "* Removed the session with mb_used of 0.0"
   ]
  },
  {
   "cell_type": "markdown",
   "id": "11ca4224",
   "metadata": {},
   "source": [
    "### Megalin messages data"
   ]
  },
  {
   "cell_type": "code",
   "execution_count": 18,
   "id": "11675b08",
   "metadata": {},
   "outputs": [
    {
     "name": "stdout",
     "output_type": "stream",
     "text": [
      "         id  user_id message_date\n",
      "0  1000_125     1000   2018-12-27\n",
      "1  1000_160     1000   2018-12-31\n",
      "2  1000_223     1000   2018-12-31\n",
      "3  1000_251     1000   2018-12-27\n",
      "4  1000_255     1000   2018-12-26\n",
      "-----------------------------\n",
      "<class 'pandas.core.frame.DataFrame'>\n",
      "RangeIndex: 76051 entries, 0 to 76050\n",
      "Data columns (total 3 columns):\n",
      " #   Column        Non-Null Count  Dtype \n",
      "---  ------        --------------  ----- \n",
      " 0   id            76051 non-null  object\n",
      " 1   user_id       76051 non-null  int64 \n",
      " 2   message_date  76051 non-null  object\n",
      "dtypes: int64(1), object(2)\n",
      "memory usage: 1.7+ MB\n",
      "None\n",
      "-----------------------------\n",
      "            user_id\n",
      "count  76051.000000\n",
      "mean    1245.972768\n",
      "std      139.843635\n",
      "min     1000.000000\n",
      "25%     1123.000000\n",
      "50%     1251.000000\n",
      "75%     1362.000000\n",
      "max     1497.000000\n"
     ]
    }
   ],
   "source": [
    "study(megaline_messages)"
   ]
  },
  {
   "cell_type": "code",
   "execution_count": 19,
   "id": "fbd92a5b",
   "metadata": {},
   "outputs": [
    {
     "name": "stdout",
     "output_type": "stream",
     "text": [
      "<class 'pandas.core.frame.DataFrame'>\n",
      "RangeIndex: 76051 entries, 0 to 76050\n",
      "Data columns (total 3 columns):\n",
      " #   Column        Non-Null Count  Dtype         \n",
      "---  ------        --------------  -----         \n",
      " 0   id            76051 non-null  object        \n",
      " 1   user_id       76051 non-null  int64         \n",
      " 2   message_date  76051 non-null  datetime64[ns]\n",
      "dtypes: datetime64[ns](1), int64(1), object(1)\n",
      "memory usage: 1.7+ MB\n"
     ]
    }
   ],
   "source": [
    "megaline_messages['message_date'] = pd.to_datetime(megaline_messages['message_date'],format=('%Y-%m-%d'))\n",
    "megaline_messages.info()"
   ]
  },
  {
   "cell_type": "markdown",
   "id": "a10d7e65",
   "metadata": {},
   "source": [
    "* I converted the message date to datetime type"
   ]
  },
  {
   "cell_type": "markdown",
   "id": "5a06bc94",
   "metadata": {},
   "source": [
    "### Megalin plans data"
   ]
  },
  {
   "cell_type": "code",
   "execution_count": 20,
   "id": "080cb8a8",
   "metadata": {},
   "outputs": [
    {
     "name": "stdout",
     "output_type": "stream",
     "text": [
      "   messages_included  mb_per_month_included  minutes_included  \\\n",
      "0                 50                  15360               500   \n",
      "1               1000                  30720              3000   \n",
      "\n",
      "   usd_monthly_pay  usd_per_gb  usd_per_message  usd_per_minute plan_name  \n",
      "0               20          10             0.03            0.03      surf  \n",
      "1               70           7             0.01            0.01  ultimate  \n",
      "-----------------------------\n",
      "<class 'pandas.core.frame.DataFrame'>\n",
      "RangeIndex: 2 entries, 0 to 1\n",
      "Data columns (total 8 columns):\n",
      " #   Column                 Non-Null Count  Dtype  \n",
      "---  ------                 --------------  -----  \n",
      " 0   messages_included      2 non-null      int64  \n",
      " 1   mb_per_month_included  2 non-null      int64  \n",
      " 2   minutes_included       2 non-null      int64  \n",
      " 3   usd_monthly_pay        2 non-null      int64  \n",
      " 4   usd_per_gb             2 non-null      int64  \n",
      " 5   usd_per_message        2 non-null      float64\n",
      " 6   usd_per_minute         2 non-null      float64\n",
      " 7   plan_name              2 non-null      object \n",
      "dtypes: float64(2), int64(5), object(1)\n",
      "memory usage: 256.0+ bytes\n",
      "None\n",
      "-----------------------------\n",
      "       messages_included  mb_per_month_included  minutes_included  \\\n",
      "count           2.000000               2.000000          2.000000   \n",
      "mean          525.000000           23040.000000       1750.000000   \n",
      "std           671.751442           10861.160159       1767.766953   \n",
      "min            50.000000           15360.000000        500.000000   \n",
      "25%           287.500000           19200.000000       1125.000000   \n",
      "50%           525.000000           23040.000000       1750.000000   \n",
      "75%           762.500000           26880.000000       2375.000000   \n",
      "max          1000.000000           30720.000000       3000.000000   \n",
      "\n",
      "       usd_monthly_pay  usd_per_gb  usd_per_message  usd_per_minute  \n",
      "count         2.000000     2.00000         2.000000        2.000000  \n",
      "mean         45.000000     8.50000         0.020000        0.020000  \n",
      "std          35.355339     2.12132         0.014142        0.014142  \n",
      "min          20.000000     7.00000         0.010000        0.010000  \n",
      "25%          32.500000     7.75000         0.015000        0.015000  \n",
      "50%          45.000000     8.50000         0.020000        0.020000  \n",
      "75%          57.500000     9.25000         0.025000        0.025000  \n",
      "max          70.000000    10.00000         0.030000        0.030000  \n"
     ]
    }
   ],
   "source": [
    "study(megaline_plans)"
   ]
  },
  {
   "cell_type": "code",
   "execution_count": 21,
   "id": "b4c58457",
   "metadata": {},
   "outputs": [
    {
     "data": {
      "text/html": [
       "<div>\n",
       "<style scoped>\n",
       "    .dataframe tbody tr th:only-of-type {\n",
       "        vertical-align: middle;\n",
       "    }\n",
       "\n",
       "    .dataframe tbody tr th {\n",
       "        vertical-align: top;\n",
       "    }\n",
       "\n",
       "    .dataframe thead th {\n",
       "        text-align: right;\n",
       "    }\n",
       "</style>\n",
       "<table border=\"1\" class=\"dataframe\">\n",
       "  <thead>\n",
       "    <tr style=\"text-align: right;\">\n",
       "      <th></th>\n",
       "      <th>messages_included</th>\n",
       "      <th>mb_per_month_included</th>\n",
       "      <th>minutes_included</th>\n",
       "      <th>usd_monthly_pay</th>\n",
       "      <th>usd_per_gb</th>\n",
       "      <th>usd_per_message</th>\n",
       "      <th>usd_per_minute</th>\n",
       "      <th>plan_name</th>\n",
       "    </tr>\n",
       "  </thead>\n",
       "  <tbody>\n",
       "    <tr>\n",
       "      <th>0</th>\n",
       "      <td>50</td>\n",
       "      <td>15360</td>\n",
       "      <td>500</td>\n",
       "      <td>20</td>\n",
       "      <td>10</td>\n",
       "      <td>0.03</td>\n",
       "      <td>0.03</td>\n",
       "      <td>surf</td>\n",
       "    </tr>\n",
       "    <tr>\n",
       "      <th>1</th>\n",
       "      <td>1000</td>\n",
       "      <td>30720</td>\n",
       "      <td>3000</td>\n",
       "      <td>70</td>\n",
       "      <td>7</td>\n",
       "      <td>0.01</td>\n",
       "      <td>0.01</td>\n",
       "      <td>ultimate</td>\n",
       "    </tr>\n",
       "  </tbody>\n",
       "</table>\n",
       "</div>"
      ],
      "text/plain": [
       "   messages_included  mb_per_month_included  minutes_included  \\\n",
       "0                 50                  15360               500   \n",
       "1               1000                  30720              3000   \n",
       "\n",
       "   usd_monthly_pay  usd_per_gb  usd_per_message  usd_per_minute plan_name  \n",
       "0               20          10             0.03            0.03      surf  \n",
       "1               70           7             0.01            0.01  ultimate  "
      ]
     },
     "execution_count": 21,
     "metadata": {},
     "output_type": "execute_result"
    }
   ],
   "source": [
    "megaline_plans.head()"
   ]
  },
  {
   "cell_type": "markdown",
   "id": "456e6b89",
   "metadata": {},
   "source": [
    "### Megalin users data"
   ]
  },
  {
   "cell_type": "code",
   "execution_count": 22,
   "id": "626979aa",
   "metadata": {},
   "outputs": [
    {
     "name": "stdout",
     "output_type": "stream",
     "text": [
      "   user_id first_name  last_name  age                                   city  \\\n",
      "0     1000   Anamaria      Bauer   45  Atlanta-Sandy Springs-Roswell, GA MSA   \n",
      "1     1001     Mickey  Wilkerson   28        Seattle-Tacoma-Bellevue, WA MSA   \n",
      "2     1002     Carlee    Hoffman   36   Las Vegas-Henderson-Paradise, NV MSA   \n",
      "3     1003   Reynaldo    Jenkins   52                          Tulsa, OK MSA   \n",
      "4     1004    Leonila   Thompson   40        Seattle-Tacoma-Bellevue, WA MSA   \n",
      "\n",
      "     reg_date      plan churn_date  \n",
      "0  2018-12-24  ultimate        NaN  \n",
      "1  2018-08-13      surf        NaN  \n",
      "2  2018-10-21      surf        NaN  \n",
      "3  2018-01-28      surf        NaN  \n",
      "4  2018-05-23      surf        NaN  \n",
      "-----------------------------\n",
      "<class 'pandas.core.frame.DataFrame'>\n",
      "RangeIndex: 500 entries, 0 to 499\n",
      "Data columns (total 8 columns):\n",
      " #   Column      Non-Null Count  Dtype \n",
      "---  ------      --------------  ----- \n",
      " 0   user_id     500 non-null    int64 \n",
      " 1   first_name  500 non-null    object\n",
      " 2   last_name   500 non-null    object\n",
      " 3   age         500 non-null    int64 \n",
      " 4   city        500 non-null    object\n",
      " 5   reg_date    500 non-null    object\n",
      " 6   plan        500 non-null    object\n",
      " 7   churn_date  34 non-null     object\n",
      "dtypes: int64(2), object(6)\n",
      "memory usage: 31.4+ KB\n",
      "None\n",
      "-----------------------------\n",
      "           user_id         age\n",
      "count   500.000000  500.000000\n",
      "mean   1249.500000   45.486000\n",
      "std     144.481833   16.972269\n",
      "min    1000.000000   18.000000\n",
      "25%    1124.750000   30.000000\n",
      "50%    1249.500000   46.000000\n",
      "75%    1374.250000   61.000000\n",
      "max    1499.000000   75.000000\n"
     ]
    }
   ],
   "source": [
    "study(megaline_users)"
   ]
  },
  {
   "cell_type": "code",
   "execution_count": 23,
   "id": "8a27264b",
   "metadata": {
    "scrolled": true
   },
   "outputs": [
    {
     "name": "stdout",
     "output_type": "stream",
     "text": [
      "<class 'pandas.core.frame.DataFrame'>\n",
      "RangeIndex: 500 entries, 0 to 499\n",
      "Data columns (total 8 columns):\n",
      " #   Column      Non-Null Count  Dtype         \n",
      "---  ------      --------------  -----         \n",
      " 0   user_id     500 non-null    int64         \n",
      " 1   first_name  500 non-null    object        \n",
      " 2   last_name   500 non-null    object        \n",
      " 3   age         500 non-null    int64         \n",
      " 4   city        500 non-null    object        \n",
      " 5   reg_date    500 non-null    datetime64[ns]\n",
      " 6   plan        500 non-null    object        \n",
      " 7   churn_date  34 non-null     datetime64[ns]\n",
      "dtypes: datetime64[ns](2), int64(2), object(4)\n",
      "memory usage: 31.4+ KB\n"
     ]
    }
   ],
   "source": [
    "megaline_users['reg_date'] = pd.to_datetime(megaline_users['reg_date'],format=('%Y-%m-%d'))\n",
    "megaline_users['churn_date'] = pd.to_datetime(megaline_users['churn_date'],format=('%Y-%m-%d'),errors='ignore')\n",
    "megaline_users.info()"
   ]
  },
  {
   "cell_type": "markdown",
   "id": "52875349",
   "metadata": {},
   "source": [
    "* I convert both churn_date and reg_date to datetime type"
   ]
  },
  {
   "cell_type": "code",
   "execution_count": 24,
   "id": "99597b83",
   "metadata": {},
   "outputs": [],
   "source": [
    "calls = megaline_calls\n",
    "internet = megaline_internet\n",
    "messages = megaline_messages\n",
    "plans = megaline_plans\n",
    "users = megaline_users"
   ]
  },
  {
   "cell_type": "markdown",
   "id": "0faa78f3",
   "metadata": {},
   "source": [
    "* I renamed the datasets so it will be easier to access each dataset"
   ]
  },
  {
   "cell_type": "markdown",
   "id": "d14d35f5",
   "metadata": {},
   "source": [
    "### Calculate the number of calls made and minutes used per month"
   ]
  },
  {
   "cell_type": "code",
   "execution_count": 25,
   "id": "6ca47729",
   "metadata": {},
   "outputs": [
    {
     "data": {
      "text/html": [
       "<div>\n",
       "<style scoped>\n",
       "    .dataframe tbody tr th:only-of-type {\n",
       "        vertical-align: middle;\n",
       "    }\n",
       "\n",
       "    .dataframe tbody tr th {\n",
       "        vertical-align: top;\n",
       "    }\n",
       "\n",
       "    .dataframe thead th {\n",
       "        text-align: right;\n",
       "    }\n",
       "</style>\n",
       "<table border=\"1\" class=\"dataframe\">\n",
       "  <thead>\n",
       "    <tr style=\"text-align: right;\">\n",
       "      <th></th>\n",
       "      <th>id</th>\n",
       "      <th>user_id</th>\n",
       "      <th>call_date</th>\n",
       "      <th>duration</th>\n",
       "    </tr>\n",
       "  </thead>\n",
       "  <tbody>\n",
       "    <tr>\n",
       "      <th>0</th>\n",
       "      <td>1000_93</td>\n",
       "      <td>1000</td>\n",
       "      <td>2018-12-27</td>\n",
       "      <td>8.52</td>\n",
       "    </tr>\n",
       "    <tr>\n",
       "      <th>1</th>\n",
       "      <td>1000_145</td>\n",
       "      <td>1000</td>\n",
       "      <td>2018-12-27</td>\n",
       "      <td>13.66</td>\n",
       "    </tr>\n",
       "    <tr>\n",
       "      <th>2</th>\n",
       "      <td>1000_247</td>\n",
       "      <td>1000</td>\n",
       "      <td>2018-12-27</td>\n",
       "      <td>14.48</td>\n",
       "    </tr>\n",
       "    <tr>\n",
       "      <th>3</th>\n",
       "      <td>1000_309</td>\n",
       "      <td>1000</td>\n",
       "      <td>2018-12-28</td>\n",
       "      <td>5.76</td>\n",
       "    </tr>\n",
       "    <tr>\n",
       "      <th>4</th>\n",
       "      <td>1000_380</td>\n",
       "      <td>1000</td>\n",
       "      <td>2018-12-30</td>\n",
       "      <td>4.22</td>\n",
       "    </tr>\n",
       "  </tbody>\n",
       "</table>\n",
       "</div>"
      ],
      "text/plain": [
       "         id  user_id  call_date  duration\n",
       "0   1000_93     1000 2018-12-27      8.52\n",
       "1  1000_145     1000 2018-12-27     13.66\n",
       "2  1000_247     1000 2018-12-27     14.48\n",
       "3  1000_309     1000 2018-12-28      5.76\n",
       "4  1000_380     1000 2018-12-30      4.22"
      ]
     },
     "execution_count": 25,
     "metadata": {},
     "output_type": "execute_result"
    }
   ],
   "source": [
    "calls.head()"
   ]
  },
  {
   "cell_type": "code",
   "execution_count": 26,
   "id": "5dd459eb",
   "metadata": {},
   "outputs": [
    {
     "data": {
      "text/html": [
       "<div>\n",
       "<style scoped>\n",
       "    .dataframe tbody tr th:only-of-type {\n",
       "        vertical-align: middle;\n",
       "    }\n",
       "\n",
       "    .dataframe tbody tr th {\n",
       "        vertical-align: top;\n",
       "    }\n",
       "\n",
       "    .dataframe thead th {\n",
       "        text-align: right;\n",
       "    }\n",
       "</style>\n",
       "<table border=\"1\" class=\"dataframe\">\n",
       "  <thead>\n",
       "    <tr style=\"text-align: right;\">\n",
       "      <th></th>\n",
       "      <th>id</th>\n",
       "      <th>user_id</th>\n",
       "      <th>call_date</th>\n",
       "      <th>duration</th>\n",
       "      <th>month</th>\n",
       "    </tr>\n",
       "  </thead>\n",
       "  <tbody>\n",
       "    <tr>\n",
       "      <th>0</th>\n",
       "      <td>1000_93</td>\n",
       "      <td>1000</td>\n",
       "      <td>2018-12-27</td>\n",
       "      <td>8.52</td>\n",
       "      <td>12</td>\n",
       "    </tr>\n",
       "    <tr>\n",
       "      <th>1</th>\n",
       "      <td>1000_145</td>\n",
       "      <td>1000</td>\n",
       "      <td>2018-12-27</td>\n",
       "      <td>13.66</td>\n",
       "      <td>12</td>\n",
       "    </tr>\n",
       "    <tr>\n",
       "      <th>2</th>\n",
       "      <td>1000_247</td>\n",
       "      <td>1000</td>\n",
       "      <td>2018-12-27</td>\n",
       "      <td>14.48</td>\n",
       "      <td>12</td>\n",
       "    </tr>\n",
       "    <tr>\n",
       "      <th>3</th>\n",
       "      <td>1000_309</td>\n",
       "      <td>1000</td>\n",
       "      <td>2018-12-28</td>\n",
       "      <td>5.76</td>\n",
       "      <td>12</td>\n",
       "    </tr>\n",
       "    <tr>\n",
       "      <th>4</th>\n",
       "      <td>1000_380</td>\n",
       "      <td>1000</td>\n",
       "      <td>2018-12-30</td>\n",
       "      <td>4.22</td>\n",
       "      <td>12</td>\n",
       "    </tr>\n",
       "  </tbody>\n",
       "</table>\n",
       "</div>"
      ],
      "text/plain": [
       "         id  user_id  call_date  duration  month\n",
       "0   1000_93     1000 2018-12-27      8.52     12\n",
       "1  1000_145     1000 2018-12-27     13.66     12\n",
       "2  1000_247     1000 2018-12-27     14.48     12\n",
       "3  1000_309     1000 2018-12-28      5.76     12\n",
       "4  1000_380     1000 2018-12-30      4.22     12"
      ]
     },
     "execution_count": 26,
     "metadata": {},
     "output_type": "execute_result"
    }
   ],
   "source": [
    "calls['month'] = calls['call_date'].dt.month\n",
    "calls.head()"
   ]
  },
  {
   "cell_type": "code",
   "execution_count": 27,
   "id": "ffe89d08",
   "metadata": {},
   "outputs": [],
   "source": [
    "calls['duration'] = calls['duration'].apply(np.ceil)"
   ]
  },
  {
   "cell_type": "code",
   "execution_count": 28,
   "id": "9e1ef34d",
   "metadata": {},
   "outputs": [
    {
     "data": {
      "text/html": [
       "<div>\n",
       "<style scoped>\n",
       "    .dataframe tbody tr th:only-of-type {\n",
       "        vertical-align: middle;\n",
       "    }\n",
       "\n",
       "    .dataframe tbody tr th {\n",
       "        vertical-align: top;\n",
       "    }\n",
       "\n",
       "    .dataframe thead th {\n",
       "        text-align: right;\n",
       "    }\n",
       "</style>\n",
       "<table border=\"1\" class=\"dataframe\">\n",
       "  <thead>\n",
       "    <tr style=\"text-align: right;\">\n",
       "      <th></th>\n",
       "      <th>user_id</th>\n",
       "      <th>month</th>\n",
       "      <th>calls</th>\n",
       "      <th>duration</th>\n",
       "    </tr>\n",
       "  </thead>\n",
       "  <tbody>\n",
       "    <tr>\n",
       "      <th>0</th>\n",
       "      <td>1000</td>\n",
       "      <td>12</td>\n",
       "      <td>16</td>\n",
       "      <td>124.0</td>\n",
       "    </tr>\n",
       "    <tr>\n",
       "      <th>1</th>\n",
       "      <td>1001</td>\n",
       "      <td>8</td>\n",
       "      <td>27</td>\n",
       "      <td>182.0</td>\n",
       "    </tr>\n",
       "    <tr>\n",
       "      <th>2</th>\n",
       "      <td>1001</td>\n",
       "      <td>9</td>\n",
       "      <td>49</td>\n",
       "      <td>315.0</td>\n",
       "    </tr>\n",
       "    <tr>\n",
       "      <th>3</th>\n",
       "      <td>1001</td>\n",
       "      <td>10</td>\n",
       "      <td>65</td>\n",
       "      <td>393.0</td>\n",
       "    </tr>\n",
       "    <tr>\n",
       "      <th>4</th>\n",
       "      <td>1001</td>\n",
       "      <td>11</td>\n",
       "      <td>64</td>\n",
       "      <td>426.0</td>\n",
       "    </tr>\n",
       "  </tbody>\n",
       "</table>\n",
       "</div>"
      ],
      "text/plain": [
       "   user_id  month  calls  duration\n",
       "0     1000     12     16     124.0\n",
       "1     1001      8     27     182.0\n",
       "2     1001      9     49     315.0\n",
       "3     1001     10     65     393.0\n",
       "4     1001     11     64     426.0"
      ]
     },
     "execution_count": 28,
     "metadata": {},
     "output_type": "execute_result"
    }
   ],
   "source": [
    "calls_group = calls.pivot_table(values='duration', index=['user_id','month'],aggfunc=['count','sum'])\n",
    "calls_group.reset_index(inplace=True)\n",
    "calls_group.columns = ['user_id','month','calls','duration']\n",
    "calls_group.head()"
   ]
  },
  {
   "cell_type": "markdown",
   "id": "4333727f",
   "metadata": {},
   "source": [
    "### Calculate the number of text messages sent per month"
   ]
  },
  {
   "cell_type": "code",
   "execution_count": 29,
   "id": "3a163310",
   "metadata": {},
   "outputs": [
    {
     "data": {
      "text/html": [
       "<div>\n",
       "<style scoped>\n",
       "    .dataframe tbody tr th:only-of-type {\n",
       "        vertical-align: middle;\n",
       "    }\n",
       "\n",
       "    .dataframe tbody tr th {\n",
       "        vertical-align: top;\n",
       "    }\n",
       "\n",
       "    .dataframe thead th {\n",
       "        text-align: right;\n",
       "    }\n",
       "</style>\n",
       "<table border=\"1\" class=\"dataframe\">\n",
       "  <thead>\n",
       "    <tr style=\"text-align: right;\">\n",
       "      <th></th>\n",
       "      <th>id</th>\n",
       "      <th>user_id</th>\n",
       "      <th>message_date</th>\n",
       "    </tr>\n",
       "  </thead>\n",
       "  <tbody>\n",
       "    <tr>\n",
       "      <th>0</th>\n",
       "      <td>1000_125</td>\n",
       "      <td>1000</td>\n",
       "      <td>2018-12-27</td>\n",
       "    </tr>\n",
       "    <tr>\n",
       "      <th>1</th>\n",
       "      <td>1000_160</td>\n",
       "      <td>1000</td>\n",
       "      <td>2018-12-31</td>\n",
       "    </tr>\n",
       "    <tr>\n",
       "      <th>2</th>\n",
       "      <td>1000_223</td>\n",
       "      <td>1000</td>\n",
       "      <td>2018-12-31</td>\n",
       "    </tr>\n",
       "    <tr>\n",
       "      <th>3</th>\n",
       "      <td>1000_251</td>\n",
       "      <td>1000</td>\n",
       "      <td>2018-12-27</td>\n",
       "    </tr>\n",
       "    <tr>\n",
       "      <th>4</th>\n",
       "      <td>1000_255</td>\n",
       "      <td>1000</td>\n",
       "      <td>2018-12-26</td>\n",
       "    </tr>\n",
       "  </tbody>\n",
       "</table>\n",
       "</div>"
      ],
      "text/plain": [
       "         id  user_id message_date\n",
       "0  1000_125     1000   2018-12-27\n",
       "1  1000_160     1000   2018-12-31\n",
       "2  1000_223     1000   2018-12-31\n",
       "3  1000_251     1000   2018-12-27\n",
       "4  1000_255     1000   2018-12-26"
      ]
     },
     "execution_count": 29,
     "metadata": {},
     "output_type": "execute_result"
    }
   ],
   "source": [
    "messages.head()"
   ]
  },
  {
   "cell_type": "code",
   "execution_count": 30,
   "id": "f6ccf0ad",
   "metadata": {},
   "outputs": [
    {
     "data": {
      "text/html": [
       "<div>\n",
       "<style scoped>\n",
       "    .dataframe tbody tr th:only-of-type {\n",
       "        vertical-align: middle;\n",
       "    }\n",
       "\n",
       "    .dataframe tbody tr th {\n",
       "        vertical-align: top;\n",
       "    }\n",
       "\n",
       "    .dataframe thead th {\n",
       "        text-align: right;\n",
       "    }\n",
       "</style>\n",
       "<table border=\"1\" class=\"dataframe\">\n",
       "  <thead>\n",
       "    <tr style=\"text-align: right;\">\n",
       "      <th></th>\n",
       "      <th>id</th>\n",
       "      <th>user_id</th>\n",
       "      <th>message_date</th>\n",
       "      <th>month</th>\n",
       "    </tr>\n",
       "  </thead>\n",
       "  <tbody>\n",
       "    <tr>\n",
       "      <th>0</th>\n",
       "      <td>1000_125</td>\n",
       "      <td>1000</td>\n",
       "      <td>2018-12-27</td>\n",
       "      <td>12</td>\n",
       "    </tr>\n",
       "    <tr>\n",
       "      <th>1</th>\n",
       "      <td>1000_160</td>\n",
       "      <td>1000</td>\n",
       "      <td>2018-12-31</td>\n",
       "      <td>12</td>\n",
       "    </tr>\n",
       "    <tr>\n",
       "      <th>2</th>\n",
       "      <td>1000_223</td>\n",
       "      <td>1000</td>\n",
       "      <td>2018-12-31</td>\n",
       "      <td>12</td>\n",
       "    </tr>\n",
       "    <tr>\n",
       "      <th>3</th>\n",
       "      <td>1000_251</td>\n",
       "      <td>1000</td>\n",
       "      <td>2018-12-27</td>\n",
       "      <td>12</td>\n",
       "    </tr>\n",
       "    <tr>\n",
       "      <th>4</th>\n",
       "      <td>1000_255</td>\n",
       "      <td>1000</td>\n",
       "      <td>2018-12-26</td>\n",
       "      <td>12</td>\n",
       "    </tr>\n",
       "  </tbody>\n",
       "</table>\n",
       "</div>"
      ],
      "text/plain": [
       "         id  user_id message_date  month\n",
       "0  1000_125     1000   2018-12-27     12\n",
       "1  1000_160     1000   2018-12-31     12\n",
       "2  1000_223     1000   2018-12-31     12\n",
       "3  1000_251     1000   2018-12-27     12\n",
       "4  1000_255     1000   2018-12-26     12"
      ]
     },
     "execution_count": 30,
     "metadata": {},
     "output_type": "execute_result"
    }
   ],
   "source": [
    "messages['month'] = messages['message_date'].dt.month\n",
    "messages.head()"
   ]
  },
  {
   "cell_type": "code",
   "execution_count": 31,
   "id": "05e476b6",
   "metadata": {},
   "outputs": [
    {
     "data": {
      "text/html": [
       "<div>\n",
       "<style scoped>\n",
       "    .dataframe tbody tr th:only-of-type {\n",
       "        vertical-align: middle;\n",
       "    }\n",
       "\n",
       "    .dataframe tbody tr th {\n",
       "        vertical-align: top;\n",
       "    }\n",
       "\n",
       "    .dataframe thead th {\n",
       "        text-align: right;\n",
       "    }\n",
       "</style>\n",
       "<table border=\"1\" class=\"dataframe\">\n",
       "  <thead>\n",
       "    <tr style=\"text-align: right;\">\n",
       "      <th></th>\n",
       "      <th>user_id</th>\n",
       "      <th>month</th>\n",
       "      <th>messages</th>\n",
       "    </tr>\n",
       "  </thead>\n",
       "  <tbody>\n",
       "    <tr>\n",
       "      <th>0</th>\n",
       "      <td>1000</td>\n",
       "      <td>12</td>\n",
       "      <td>11</td>\n",
       "    </tr>\n",
       "    <tr>\n",
       "      <th>1</th>\n",
       "      <td>1001</td>\n",
       "      <td>8</td>\n",
       "      <td>30</td>\n",
       "    </tr>\n",
       "    <tr>\n",
       "      <th>2</th>\n",
       "      <td>1001</td>\n",
       "      <td>9</td>\n",
       "      <td>44</td>\n",
       "    </tr>\n",
       "    <tr>\n",
       "      <th>3</th>\n",
       "      <td>1001</td>\n",
       "      <td>10</td>\n",
       "      <td>53</td>\n",
       "    </tr>\n",
       "    <tr>\n",
       "      <th>4</th>\n",
       "      <td>1001</td>\n",
       "      <td>11</td>\n",
       "      <td>36</td>\n",
       "    </tr>\n",
       "  </tbody>\n",
       "</table>\n",
       "</div>"
      ],
      "text/plain": [
       "   user_id  month  messages\n",
       "0     1000     12        11\n",
       "1     1001      8        30\n",
       "2     1001      9        44\n",
       "3     1001     10        53\n",
       "4     1001     11        36"
      ]
     },
     "execution_count": 31,
     "metadata": {},
     "output_type": "execute_result"
    }
   ],
   "source": [
    "messages_group = messages.pivot_table(values='message_date',index=['user_id','month'],aggfunc='count')\n",
    "messages_group.reset_index(inplace=True)\n",
    "messages_group.columns = ['user_id','month','messages']\n",
    "messages_group.head()"
   ]
  },
  {
   "cell_type": "markdown",
   "id": "b834970e",
   "metadata": {},
   "source": [
    "### Calculate the volume of data per month"
   ]
  },
  {
   "cell_type": "code",
   "execution_count": 32,
   "id": "57e8e8a5",
   "metadata": {},
   "outputs": [
    {
     "data": {
      "text/html": [
       "<div>\n",
       "<style scoped>\n",
       "    .dataframe tbody tr th:only-of-type {\n",
       "        vertical-align: middle;\n",
       "    }\n",
       "\n",
       "    .dataframe tbody tr th {\n",
       "        vertical-align: top;\n",
       "    }\n",
       "\n",
       "    .dataframe thead th {\n",
       "        text-align: right;\n",
       "    }\n",
       "</style>\n",
       "<table border=\"1\" class=\"dataframe\">\n",
       "  <thead>\n",
       "    <tr style=\"text-align: right;\">\n",
       "      <th></th>\n",
       "      <th>id</th>\n",
       "      <th>user_id</th>\n",
       "      <th>session_date</th>\n",
       "      <th>mb_used</th>\n",
       "    </tr>\n",
       "  </thead>\n",
       "  <tbody>\n",
       "    <tr>\n",
       "      <th>0</th>\n",
       "      <td>1000_13</td>\n",
       "      <td>1000</td>\n",
       "      <td>2018-12-29</td>\n",
       "      <td>89.86</td>\n",
       "    </tr>\n",
       "    <tr>\n",
       "      <th>2</th>\n",
       "      <td>1000_379</td>\n",
       "      <td>1000</td>\n",
       "      <td>2018-12-28</td>\n",
       "      <td>660.40</td>\n",
       "    </tr>\n",
       "    <tr>\n",
       "      <th>3</th>\n",
       "      <td>1000_413</td>\n",
       "      <td>1000</td>\n",
       "      <td>2018-12-26</td>\n",
       "      <td>270.99</td>\n",
       "    </tr>\n",
       "    <tr>\n",
       "      <th>4</th>\n",
       "      <td>1000_442</td>\n",
       "      <td>1000</td>\n",
       "      <td>2018-12-27</td>\n",
       "      <td>880.22</td>\n",
       "    </tr>\n",
       "    <tr>\n",
       "      <th>5</th>\n",
       "      <td>1001_0</td>\n",
       "      <td>1001</td>\n",
       "      <td>2018-08-24</td>\n",
       "      <td>284.68</td>\n",
       "    </tr>\n",
       "  </tbody>\n",
       "</table>\n",
       "</div>"
      ],
      "text/plain": [
       "         id  user_id session_date  mb_used\n",
       "0   1000_13     1000   2018-12-29    89.86\n",
       "2  1000_379     1000   2018-12-28   660.40\n",
       "3  1000_413     1000   2018-12-26   270.99\n",
       "4  1000_442     1000   2018-12-27   880.22\n",
       "5    1001_0     1001   2018-08-24   284.68"
      ]
     },
     "execution_count": 32,
     "metadata": {},
     "output_type": "execute_result"
    }
   ],
   "source": [
    "internet.head()"
   ]
  },
  {
   "cell_type": "code",
   "execution_count": 33,
   "id": "0a25bf0d",
   "metadata": {},
   "outputs": [
    {
     "data": {
      "text/html": [
       "<div>\n",
       "<style scoped>\n",
       "    .dataframe tbody tr th:only-of-type {\n",
       "        vertical-align: middle;\n",
       "    }\n",
       "\n",
       "    .dataframe tbody tr th {\n",
       "        vertical-align: top;\n",
       "    }\n",
       "\n",
       "    .dataframe thead th {\n",
       "        text-align: right;\n",
       "    }\n",
       "</style>\n",
       "<table border=\"1\" class=\"dataframe\">\n",
       "  <thead>\n",
       "    <tr style=\"text-align: right;\">\n",
       "      <th></th>\n",
       "      <th>id</th>\n",
       "      <th>user_id</th>\n",
       "      <th>session_date</th>\n",
       "      <th>mb_used</th>\n",
       "      <th>month</th>\n",
       "    </tr>\n",
       "  </thead>\n",
       "  <tbody>\n",
       "    <tr>\n",
       "      <th>0</th>\n",
       "      <td>1000_13</td>\n",
       "      <td>1000</td>\n",
       "      <td>2018-12-29</td>\n",
       "      <td>89.86</td>\n",
       "      <td>12</td>\n",
       "    </tr>\n",
       "    <tr>\n",
       "      <th>2</th>\n",
       "      <td>1000_379</td>\n",
       "      <td>1000</td>\n",
       "      <td>2018-12-28</td>\n",
       "      <td>660.40</td>\n",
       "      <td>12</td>\n",
       "    </tr>\n",
       "    <tr>\n",
       "      <th>3</th>\n",
       "      <td>1000_413</td>\n",
       "      <td>1000</td>\n",
       "      <td>2018-12-26</td>\n",
       "      <td>270.99</td>\n",
       "      <td>12</td>\n",
       "    </tr>\n",
       "    <tr>\n",
       "      <th>4</th>\n",
       "      <td>1000_442</td>\n",
       "      <td>1000</td>\n",
       "      <td>2018-12-27</td>\n",
       "      <td>880.22</td>\n",
       "      <td>12</td>\n",
       "    </tr>\n",
       "    <tr>\n",
       "      <th>5</th>\n",
       "      <td>1001_0</td>\n",
       "      <td>1001</td>\n",
       "      <td>2018-08-24</td>\n",
       "      <td>284.68</td>\n",
       "      <td>8</td>\n",
       "    </tr>\n",
       "  </tbody>\n",
       "</table>\n",
       "</div>"
      ],
      "text/plain": [
       "         id  user_id session_date  mb_used  month\n",
       "0   1000_13     1000   2018-12-29    89.86     12\n",
       "2  1000_379     1000   2018-12-28   660.40     12\n",
       "3  1000_413     1000   2018-12-26   270.99     12\n",
       "4  1000_442     1000   2018-12-27   880.22     12\n",
       "5    1001_0     1001   2018-08-24   284.68      8"
      ]
     },
     "execution_count": 33,
     "metadata": {},
     "output_type": "execute_result"
    }
   ],
   "source": [
    "internet['month'] = internet['session_date'].dt.month\n",
    "internet.head()"
   ]
  },
  {
   "cell_type": "code",
   "execution_count": 34,
   "id": "ef236bfa",
   "metadata": {},
   "outputs": [
    {
     "data": {
      "text/html": [
       "<div>\n",
       "<style scoped>\n",
       "    .dataframe tbody tr th:only-of-type {\n",
       "        vertical-align: middle;\n",
       "    }\n",
       "\n",
       "    .dataframe tbody tr th {\n",
       "        vertical-align: top;\n",
       "    }\n",
       "\n",
       "    .dataframe thead th {\n",
       "        text-align: right;\n",
       "    }\n",
       "</style>\n",
       "<table border=\"1\" class=\"dataframe\">\n",
       "  <thead>\n",
       "    <tr style=\"text-align: right;\">\n",
       "      <th></th>\n",
       "      <th>user_id</th>\n",
       "      <th>month</th>\n",
       "      <th>mb_used</th>\n",
       "    </tr>\n",
       "  </thead>\n",
       "  <tbody>\n",
       "    <tr>\n",
       "      <th>0</th>\n",
       "      <td>1000</td>\n",
       "      <td>12</td>\n",
       "      <td>1901.47</td>\n",
       "    </tr>\n",
       "    <tr>\n",
       "      <th>1</th>\n",
       "      <td>1001</td>\n",
       "      <td>8</td>\n",
       "      <td>6919.15</td>\n",
       "    </tr>\n",
       "    <tr>\n",
       "      <th>2</th>\n",
       "      <td>1001</td>\n",
       "      <td>9</td>\n",
       "      <td>13314.82</td>\n",
       "    </tr>\n",
       "    <tr>\n",
       "      <th>3</th>\n",
       "      <td>1001</td>\n",
       "      <td>10</td>\n",
       "      <td>22330.49</td>\n",
       "    </tr>\n",
       "    <tr>\n",
       "      <th>4</th>\n",
       "      <td>1001</td>\n",
       "      <td>11</td>\n",
       "      <td>18504.30</td>\n",
       "    </tr>\n",
       "  </tbody>\n",
       "</table>\n",
       "</div>"
      ],
      "text/plain": [
       "   user_id  month   mb_used\n",
       "0     1000     12   1901.47\n",
       "1     1001      8   6919.15\n",
       "2     1001      9  13314.82\n",
       "3     1001     10  22330.49\n",
       "4     1001     11  18504.30"
      ]
     },
     "execution_count": 34,
     "metadata": {},
     "output_type": "execute_result"
    }
   ],
   "source": [
    "internet_group = internet.pivot_table(values='mb_used', index=['user_id','month'],aggfunc='sum')\n",
    "internet_group.reset_index(inplace=True)\n",
    "internet_group.head()"
   ]
  },
  {
   "cell_type": "markdown",
   "id": "ec2ec3bc",
   "metadata": {},
   "source": [
    "### Calculate the monthly revenue from each user"
   ]
  },
  {
   "cell_type": "markdown",
   "id": "b58b7712",
   "metadata": {},
   "source": [
    "**Merge our grouped data**"
   ]
  },
  {
   "cell_type": "code",
   "execution_count": 35,
   "id": "6fd62979",
   "metadata": {},
   "outputs": [
    {
     "data": {
      "text/html": [
       "<div>\n",
       "<style scoped>\n",
       "    .dataframe tbody tr th:only-of-type {\n",
       "        vertical-align: middle;\n",
       "    }\n",
       "\n",
       "    .dataframe tbody tr th {\n",
       "        vertical-align: top;\n",
       "    }\n",
       "\n",
       "    .dataframe thead th {\n",
       "        text-align: right;\n",
       "    }\n",
       "</style>\n",
       "<table border=\"1\" class=\"dataframe\">\n",
       "  <thead>\n",
       "    <tr style=\"text-align: right;\">\n",
       "      <th></th>\n",
       "      <th>user_id</th>\n",
       "      <th>month</th>\n",
       "      <th>mb_used</th>\n",
       "      <th>calls</th>\n",
       "      <th>duration</th>\n",
       "      <th>messages</th>\n",
       "      <th>first_name</th>\n",
       "      <th>last_name</th>\n",
       "      <th>age</th>\n",
       "      <th>city</th>\n",
       "      <th>reg_date</th>\n",
       "      <th>plan</th>\n",
       "      <th>churn_date</th>\n",
       "    </tr>\n",
       "  </thead>\n",
       "  <tbody>\n",
       "    <tr>\n",
       "      <th>0</th>\n",
       "      <td>1000</td>\n",
       "      <td>12.0</td>\n",
       "      <td>1901.47</td>\n",
       "      <td>16.0</td>\n",
       "      <td>124.0</td>\n",
       "      <td>11.0</td>\n",
       "      <td>Anamaria</td>\n",
       "      <td>Bauer</td>\n",
       "      <td>45</td>\n",
       "      <td>Atlanta-Sandy Springs-Roswell, GA MSA</td>\n",
       "      <td>2018-12-24</td>\n",
       "      <td>ultimate</td>\n",
       "      <td>NaT</td>\n",
       "    </tr>\n",
       "    <tr>\n",
       "      <th>1</th>\n",
       "      <td>1001</td>\n",
       "      <td>8.0</td>\n",
       "      <td>6919.15</td>\n",
       "      <td>27.0</td>\n",
       "      <td>182.0</td>\n",
       "      <td>30.0</td>\n",
       "      <td>Mickey</td>\n",
       "      <td>Wilkerson</td>\n",
       "      <td>28</td>\n",
       "      <td>Seattle-Tacoma-Bellevue, WA MSA</td>\n",
       "      <td>2018-08-13</td>\n",
       "      <td>surf</td>\n",
       "      <td>NaT</td>\n",
       "    </tr>\n",
       "    <tr>\n",
       "      <th>2</th>\n",
       "      <td>1001</td>\n",
       "      <td>9.0</td>\n",
       "      <td>13314.82</td>\n",
       "      <td>49.0</td>\n",
       "      <td>315.0</td>\n",
       "      <td>44.0</td>\n",
       "      <td>Mickey</td>\n",
       "      <td>Wilkerson</td>\n",
       "      <td>28</td>\n",
       "      <td>Seattle-Tacoma-Bellevue, WA MSA</td>\n",
       "      <td>2018-08-13</td>\n",
       "      <td>surf</td>\n",
       "      <td>NaT</td>\n",
       "    </tr>\n",
       "    <tr>\n",
       "      <th>3</th>\n",
       "      <td>1001</td>\n",
       "      <td>10.0</td>\n",
       "      <td>22330.49</td>\n",
       "      <td>65.0</td>\n",
       "      <td>393.0</td>\n",
       "      <td>53.0</td>\n",
       "      <td>Mickey</td>\n",
       "      <td>Wilkerson</td>\n",
       "      <td>28</td>\n",
       "      <td>Seattle-Tacoma-Bellevue, WA MSA</td>\n",
       "      <td>2018-08-13</td>\n",
       "      <td>surf</td>\n",
       "      <td>NaT</td>\n",
       "    </tr>\n",
       "    <tr>\n",
       "      <th>4</th>\n",
       "      <td>1001</td>\n",
       "      <td>11.0</td>\n",
       "      <td>18504.30</td>\n",
       "      <td>64.0</td>\n",
       "      <td>426.0</td>\n",
       "      <td>36.0</td>\n",
       "      <td>Mickey</td>\n",
       "      <td>Wilkerson</td>\n",
       "      <td>28</td>\n",
       "      <td>Seattle-Tacoma-Bellevue, WA MSA</td>\n",
       "      <td>2018-08-13</td>\n",
       "      <td>surf</td>\n",
       "      <td>NaT</td>\n",
       "    </tr>\n",
       "  </tbody>\n",
       "</table>\n",
       "</div>"
      ],
      "text/plain": [
       "   user_id  month   mb_used  calls  duration  messages first_name  last_name  \\\n",
       "0     1000   12.0   1901.47   16.0     124.0      11.0   Anamaria      Bauer   \n",
       "1     1001    8.0   6919.15   27.0     182.0      30.0     Mickey  Wilkerson   \n",
       "2     1001    9.0  13314.82   49.0     315.0      44.0     Mickey  Wilkerson   \n",
       "3     1001   10.0  22330.49   65.0     393.0      53.0     Mickey  Wilkerson   \n",
       "4     1001   11.0  18504.30   64.0     426.0      36.0     Mickey  Wilkerson   \n",
       "\n",
       "   age                                   city   reg_date      plan churn_date  \n",
       "0   45  Atlanta-Sandy Springs-Roswell, GA MSA 2018-12-24  ultimate        NaT  \n",
       "1   28        Seattle-Tacoma-Bellevue, WA MSA 2018-08-13      surf        NaT  \n",
       "2   28        Seattle-Tacoma-Bellevue, WA MSA 2018-08-13      surf        NaT  \n",
       "3   28        Seattle-Tacoma-Bellevue, WA MSA 2018-08-13      surf        NaT  \n",
       "4   28        Seattle-Tacoma-Bellevue, WA MSA 2018-08-13      surf        NaT  "
      ]
     },
     "execution_count": 35,
     "metadata": {},
     "output_type": "execute_result"
    }
   ],
   "source": [
    "data = pd.merge(left=internet_group, right=calls_group, how='outer', on=['user_id','month']).fillna(0)\n",
    "data = pd.merge(left=data, right=messages_group, how='outer', on=['user_id','month']).fillna(0)\n",
    "data = pd.merge(left=data, right=users, how='outer',on=['user_id'])\n",
    "data.head()"
   ]
  },
  {
   "cell_type": "code",
   "execution_count": 36,
   "id": "258ec73f",
   "metadata": {},
   "outputs": [
    {
     "data": {
      "text/html": [
       "<div>\n",
       "<style scoped>\n",
       "    .dataframe tbody tr th:only-of-type {\n",
       "        vertical-align: middle;\n",
       "    }\n",
       "\n",
       "    .dataframe tbody tr th {\n",
       "        vertical-align: top;\n",
       "    }\n",
       "\n",
       "    .dataframe thead th {\n",
       "        text-align: right;\n",
       "    }\n",
       "</style>\n",
       "<table border=\"1\" class=\"dataframe\">\n",
       "  <thead>\n",
       "    <tr style=\"text-align: right;\">\n",
       "      <th></th>\n",
       "      <th>user_id</th>\n",
       "      <th>month</th>\n",
       "      <th>mb_used</th>\n",
       "      <th>calls</th>\n",
       "      <th>duration</th>\n",
       "      <th>messages</th>\n",
       "      <th>first_name</th>\n",
       "      <th>last_name</th>\n",
       "      <th>age</th>\n",
       "      <th>city</th>\n",
       "      <th>reg_date</th>\n",
       "      <th>plan</th>\n",
       "      <th>churn_date</th>\n",
       "    </tr>\n",
       "  </thead>\n",
       "  <tbody>\n",
       "    <tr>\n",
       "      <th>2293</th>\n",
       "      <td>1025</td>\n",
       "      <td>NaN</td>\n",
       "      <td>NaN</td>\n",
       "      <td>NaN</td>\n",
       "      <td>NaN</td>\n",
       "      <td>NaN</td>\n",
       "      <td>Jess</td>\n",
       "      <td>Wilkinson</td>\n",
       "      <td>64</td>\n",
       "      <td>Atlanta-Sandy Springs-Roswell, GA MSA</td>\n",
       "      <td>2018-10-28</td>\n",
       "      <td>ultimate</td>\n",
       "      <td>NaT</td>\n",
       "    </tr>\n",
       "    <tr>\n",
       "      <th>2294</th>\n",
       "      <td>1129</td>\n",
       "      <td>NaN</td>\n",
       "      <td>NaN</td>\n",
       "      <td>NaN</td>\n",
       "      <td>NaN</td>\n",
       "      <td>NaN</td>\n",
       "      <td>Marin</td>\n",
       "      <td>Bolton</td>\n",
       "      <td>70</td>\n",
       "      <td>Baton Rouge, LA MSA</td>\n",
       "      <td>2018-11-10</td>\n",
       "      <td>surf</td>\n",
       "      <td>2018-12-27</td>\n",
       "    </tr>\n",
       "    <tr>\n",
       "      <th>2295</th>\n",
       "      <td>1143</td>\n",
       "      <td>NaN</td>\n",
       "      <td>NaN</td>\n",
       "      <td>NaN</td>\n",
       "      <td>NaN</td>\n",
       "      <td>NaN</td>\n",
       "      <td>Lorina</td>\n",
       "      <td>Stevens</td>\n",
       "      <td>69</td>\n",
       "      <td>Cincinnati, OH-KY-IN MSA</td>\n",
       "      <td>2018-10-26</td>\n",
       "      <td>surf</td>\n",
       "      <td>NaT</td>\n",
       "    </tr>\n",
       "    <tr>\n",
       "      <th>2296</th>\n",
       "      <td>1269</td>\n",
       "      <td>NaN</td>\n",
       "      <td>NaN</td>\n",
       "      <td>NaN</td>\n",
       "      <td>NaN</td>\n",
       "      <td>NaN</td>\n",
       "      <td>Irving</td>\n",
       "      <td>Thompson</td>\n",
       "      <td>39</td>\n",
       "      <td>Dallas-Fort Worth-Arlington, TX MSA</td>\n",
       "      <td>2018-09-13</td>\n",
       "      <td>ultimate</td>\n",
       "      <td>2018-12-15</td>\n",
       "    </tr>\n",
       "    <tr>\n",
       "      <th>2297</th>\n",
       "      <td>1275</td>\n",
       "      <td>NaN</td>\n",
       "      <td>NaN</td>\n",
       "      <td>NaN</td>\n",
       "      <td>NaN</td>\n",
       "      <td>NaN</td>\n",
       "      <td>Elvie</td>\n",
       "      <td>Velazquez</td>\n",
       "      <td>33</td>\n",
       "      <td>New York-Newark-Jersey City, NY-NJ-PA MSA</td>\n",
       "      <td>2018-11-29</td>\n",
       "      <td>ultimate</td>\n",
       "      <td>NaT</td>\n",
       "    </tr>\n",
       "    <tr>\n",
       "      <th>2298</th>\n",
       "      <td>1307</td>\n",
       "      <td>NaN</td>\n",
       "      <td>NaN</td>\n",
       "      <td>NaN</td>\n",
       "      <td>NaN</td>\n",
       "      <td>NaN</td>\n",
       "      <td>Kristopher</td>\n",
       "      <td>Lang</td>\n",
       "      <td>28</td>\n",
       "      <td>Boston-Cambridge-Newton, MA-NH MSA</td>\n",
       "      <td>2018-12-31</td>\n",
       "      <td>surf</td>\n",
       "      <td>NaT</td>\n",
       "    </tr>\n",
       "    <tr>\n",
       "      <th>2299</th>\n",
       "      <td>1319</td>\n",
       "      <td>NaN</td>\n",
       "      <td>NaN</td>\n",
       "      <td>NaN</td>\n",
       "      <td>NaN</td>\n",
       "      <td>NaN</td>\n",
       "      <td>Eliseo</td>\n",
       "      <td>Carson</td>\n",
       "      <td>21</td>\n",
       "      <td>Colorado Springs, CO MSA</td>\n",
       "      <td>2018-06-17</td>\n",
       "      <td>surf</td>\n",
       "      <td>NaT</td>\n",
       "    </tr>\n",
       "    <tr>\n",
       "      <th>2300</th>\n",
       "      <td>1378</td>\n",
       "      <td>NaN</td>\n",
       "      <td>NaN</td>\n",
       "      <td>NaN</td>\n",
       "      <td>NaN</td>\n",
       "      <td>NaN</td>\n",
       "      <td>Mckinley</td>\n",
       "      <td>Clayton</td>\n",
       "      <td>22</td>\n",
       "      <td>Denver-Aurora-Lakewood, CO MSA</td>\n",
       "      <td>2018-12-17</td>\n",
       "      <td>surf</td>\n",
       "      <td>NaT</td>\n",
       "    </tr>\n",
       "    <tr>\n",
       "      <th>2301</th>\n",
       "      <td>1463</td>\n",
       "      <td>NaN</td>\n",
       "      <td>NaN</td>\n",
       "      <td>NaN</td>\n",
       "      <td>NaN</td>\n",
       "      <td>NaN</td>\n",
       "      <td>Dinorah</td>\n",
       "      <td>Simmons</td>\n",
       "      <td>30</td>\n",
       "      <td>Atlanta-Sandy Springs-Roswell, GA MSA</td>\n",
       "      <td>2018-11-27</td>\n",
       "      <td>ultimate</td>\n",
       "      <td>NaT</td>\n",
       "    </tr>\n",
       "    <tr>\n",
       "      <th>2302</th>\n",
       "      <td>1473</td>\n",
       "      <td>NaN</td>\n",
       "      <td>NaN</td>\n",
       "      <td>NaN</td>\n",
       "      <td>NaN</td>\n",
       "      <td>NaN</td>\n",
       "      <td>Kirk</td>\n",
       "      <td>Velez</td>\n",
       "      <td>61</td>\n",
       "      <td>Louisville/Jefferson County, KY-IN MSA</td>\n",
       "      <td>2018-12-31</td>\n",
       "      <td>surf</td>\n",
       "      <td>NaT</td>\n",
       "    </tr>\n",
       "  </tbody>\n",
       "</table>\n",
       "</div>"
      ],
      "text/plain": [
       "      user_id  month  mb_used  calls  duration  messages  first_name  \\\n",
       "2293     1025    NaN      NaN    NaN       NaN       NaN        Jess   \n",
       "2294     1129    NaN      NaN    NaN       NaN       NaN       Marin   \n",
       "2295     1143    NaN      NaN    NaN       NaN       NaN      Lorina   \n",
       "2296     1269    NaN      NaN    NaN       NaN       NaN      Irving   \n",
       "2297     1275    NaN      NaN    NaN       NaN       NaN       Elvie   \n",
       "2298     1307    NaN      NaN    NaN       NaN       NaN  Kristopher   \n",
       "2299     1319    NaN      NaN    NaN       NaN       NaN      Eliseo   \n",
       "2300     1378    NaN      NaN    NaN       NaN       NaN    Mckinley   \n",
       "2301     1463    NaN      NaN    NaN       NaN       NaN     Dinorah   \n",
       "2302     1473    NaN      NaN    NaN       NaN       NaN        Kirk   \n",
       "\n",
       "      last_name  age                                       city   reg_date  \\\n",
       "2293  Wilkinson   64      Atlanta-Sandy Springs-Roswell, GA MSA 2018-10-28   \n",
       "2294     Bolton   70                        Baton Rouge, LA MSA 2018-11-10   \n",
       "2295    Stevens   69                   Cincinnati, OH-KY-IN MSA 2018-10-26   \n",
       "2296   Thompson   39        Dallas-Fort Worth-Arlington, TX MSA 2018-09-13   \n",
       "2297  Velazquez   33  New York-Newark-Jersey City, NY-NJ-PA MSA 2018-11-29   \n",
       "2298       Lang   28         Boston-Cambridge-Newton, MA-NH MSA 2018-12-31   \n",
       "2299     Carson   21                   Colorado Springs, CO MSA 2018-06-17   \n",
       "2300    Clayton   22             Denver-Aurora-Lakewood, CO MSA 2018-12-17   \n",
       "2301    Simmons   30      Atlanta-Sandy Springs-Roswell, GA MSA 2018-11-27   \n",
       "2302      Velez   61     Louisville/Jefferson County, KY-IN MSA 2018-12-31   \n",
       "\n",
       "          plan churn_date  \n",
       "2293  ultimate        NaT  \n",
       "2294      surf 2018-12-27  \n",
       "2295      surf        NaT  \n",
       "2296  ultimate 2018-12-15  \n",
       "2297  ultimate        NaT  \n",
       "2298      surf        NaT  \n",
       "2299      surf        NaT  \n",
       "2300      surf        NaT  \n",
       "2301  ultimate        NaT  \n",
       "2302      surf        NaT  "
      ]
     },
     "execution_count": 36,
     "metadata": {},
     "output_type": "execute_result"
    }
   ],
   "source": [
    "data[data['month'].isnull()]"
   ]
  },
  {
   "cell_type": "code",
   "execution_count": 37,
   "id": "453a2c8e",
   "metadata": {},
   "outputs": [
    {
     "name": "stdout",
     "output_type": "stream",
     "text": [
      "Percentage of NaN values in month column is: 0.434216%\n"
     ]
    }
   ],
   "source": [
    "len(data[data['month'].isnull()])/len(data)\n",
    "print('Percentage of NaN values in month column is: {:%}'.format(len(data[data['month'].isnull()])/len(data)))"
   ]
  },
  {
   "cell_type": "code",
   "execution_count": 38,
   "id": "71795ced",
   "metadata": {},
   "outputs": [
    {
     "data": {
      "text/plain": [
       "0"
      ]
     },
     "execution_count": 38,
     "metadata": {},
     "output_type": "execute_result"
    }
   ],
   "source": [
    "data = data[data['month'].notna()]\n",
    "data.month.isnull().sum()"
   ]
  },
  {
   "cell_type": "code",
   "execution_count": 39,
   "id": "4c36f876",
   "metadata": {},
   "outputs": [
    {
     "data": {
      "text/plain": [
       "array(['ultimate', 'surf'], dtype=object)"
      ]
     },
     "execution_count": 39,
     "metadata": {},
     "output_type": "execute_result"
    }
   ],
   "source": [
    "data.plan.unique()"
   ]
  },
  {
   "cell_type": "markdown",
   "id": "1cae1c31",
   "metadata": {},
   "source": [
    "**Surf**\n",
    "* Monthly charge: $20\n",
    "\n",
    "* 500 monthly minutes, 50 texts, and 15 GB of data\n",
    "\n",
    "* After exceeding the package limits:\n",
    "\n",
    "* 1 minute: 3 cents\n",
    "\n",
    "* 1 text message: 3 cents\n",
    "\n",
    "* 1 GB of data: $10"
   ]
  },
  {
   "cell_type": "markdown",
   "id": "bdf5a4d2",
   "metadata": {},
   "source": [
    "**Ultimate**\n",
    "* Monthly charge: $70\n",
    "\n",
    "* 3000 monthly minutes, 1000 text messages, and 30 GB of data\n",
    "\n",
    "* After exceeding the package limits:\n",
    "\n",
    "* 1 minute: 1 cents\n",
    "\n",
    "* 1 text message: 1 cents\n",
    "\n",
    "* 1 GB of data: $7"
   ]
  },
  {
   "cell_type": "code",
   "execution_count": 40,
   "id": "d2620e8b",
   "metadata": {},
   "outputs": [],
   "source": [
    "def cost(row):\n",
    "    plan = row['plan']\n",
    "    mb = row['mb_used']\n",
    "    minutes = row['duration']\n",
    "    messages = row['messages']\n",
    "    \n",
    "\n",
    "    #Costs for Surf users:\n",
    "    if plan=='surf':\n",
    "        monthly_charge=20\n",
    "        \n",
    "        if minutes > 500:\n",
    "            minutes_charge=(minutes - 500)*0.03\n",
    "        else:\n",
    "            minutes_charge=0\n",
    "        \n",
    "        if messages > 50:\n",
    "            messages_charge=(messages - 50)*0.03\n",
    "        else:\n",
    "            messages_charge=0\n",
    "        \n",
    "        if (mb/1024) > 15:\n",
    "            mb_charge=(mb/1024 - 15)*10\n",
    "        else:\n",
    "            mb_charge=0\n",
    "    \n",
    "    #Cost for Ultimate users:\n",
    "    else:\n",
    "        monthly_charge=70\n",
    "      \n",
    "        if minutes > 3000:\n",
    "            minutes_charge=(minutes - 3000) * 0.01\n",
    "        else:\n",
    "            minutes_charge=0\n",
    "        \n",
    "        if messages > 1000:\n",
    "            messages_charge=(messages - 1000) * 0.01\n",
    "        else:\n",
    "            messages_charge=0\n",
    "        \n",
    "        if (mb/1024) > 30:\n",
    "            mb_charge=(mb/1024 - 30)*7\n",
    "        else:\n",
    "            mb_charge=0\n",
    "    total_cost=monthly_charge+minutes_charge+messages_charge+mb_charge\n",
    "    return total_cost"
   ]
  },
  {
   "cell_type": "code",
   "execution_count": 41,
   "id": "f864ab43",
   "metadata": {},
   "outputs": [
    {
     "data": {
      "text/html": [
       "<div>\n",
       "<style scoped>\n",
       "    .dataframe tbody tr th:only-of-type {\n",
       "        vertical-align: middle;\n",
       "    }\n",
       "\n",
       "    .dataframe tbody tr th {\n",
       "        vertical-align: top;\n",
       "    }\n",
       "\n",
       "    .dataframe thead th {\n",
       "        text-align: right;\n",
       "    }\n",
       "</style>\n",
       "<table border=\"1\" class=\"dataframe\">\n",
       "  <thead>\n",
       "    <tr style=\"text-align: right;\">\n",
       "      <th></th>\n",
       "      <th>user_id</th>\n",
       "      <th>month</th>\n",
       "      <th>mb_used</th>\n",
       "      <th>calls</th>\n",
       "      <th>duration</th>\n",
       "      <th>messages</th>\n",
       "      <th>first_name</th>\n",
       "      <th>last_name</th>\n",
       "      <th>age</th>\n",
       "      <th>city</th>\n",
       "      <th>reg_date</th>\n",
       "      <th>plan</th>\n",
       "      <th>churn_date</th>\n",
       "      <th>total_cost</th>\n",
       "    </tr>\n",
       "  </thead>\n",
       "  <tbody>\n",
       "    <tr>\n",
       "      <th>0</th>\n",
       "      <td>1000</td>\n",
       "      <td>12.0</td>\n",
       "      <td>1901.47</td>\n",
       "      <td>16.0</td>\n",
       "      <td>124.0</td>\n",
       "      <td>11.0</td>\n",
       "      <td>Anamaria</td>\n",
       "      <td>Bauer</td>\n",
       "      <td>45</td>\n",
       "      <td>Atlanta-Sandy Springs-Roswell, GA MSA</td>\n",
       "      <td>2018-12-24</td>\n",
       "      <td>ultimate</td>\n",
       "      <td>NaT</td>\n",
       "      <td>70.000000</td>\n",
       "    </tr>\n",
       "    <tr>\n",
       "      <th>1</th>\n",
       "      <td>1001</td>\n",
       "      <td>8.0</td>\n",
       "      <td>6919.15</td>\n",
       "      <td>27.0</td>\n",
       "      <td>182.0</td>\n",
       "      <td>30.0</td>\n",
       "      <td>Mickey</td>\n",
       "      <td>Wilkerson</td>\n",
       "      <td>28</td>\n",
       "      <td>Seattle-Tacoma-Bellevue, WA MSA</td>\n",
       "      <td>2018-08-13</td>\n",
       "      <td>surf</td>\n",
       "      <td>NaT</td>\n",
       "      <td>20.000000</td>\n",
       "    </tr>\n",
       "    <tr>\n",
       "      <th>2</th>\n",
       "      <td>1001</td>\n",
       "      <td>9.0</td>\n",
       "      <td>13314.82</td>\n",
       "      <td>49.0</td>\n",
       "      <td>315.0</td>\n",
       "      <td>44.0</td>\n",
       "      <td>Mickey</td>\n",
       "      <td>Wilkerson</td>\n",
       "      <td>28</td>\n",
       "      <td>Seattle-Tacoma-Bellevue, WA MSA</td>\n",
       "      <td>2018-08-13</td>\n",
       "      <td>surf</td>\n",
       "      <td>NaT</td>\n",
       "      <td>20.000000</td>\n",
       "    </tr>\n",
       "    <tr>\n",
       "      <th>3</th>\n",
       "      <td>1001</td>\n",
       "      <td>10.0</td>\n",
       "      <td>22330.49</td>\n",
       "      <td>65.0</td>\n",
       "      <td>393.0</td>\n",
       "      <td>53.0</td>\n",
       "      <td>Mickey</td>\n",
       "      <td>Wilkerson</td>\n",
       "      <td>28</td>\n",
       "      <td>Seattle-Tacoma-Bellevue, WA MSA</td>\n",
       "      <td>2018-08-13</td>\n",
       "      <td>surf</td>\n",
       "      <td>NaT</td>\n",
       "      <td>88.161191</td>\n",
       "    </tr>\n",
       "    <tr>\n",
       "      <th>4</th>\n",
       "      <td>1001</td>\n",
       "      <td>11.0</td>\n",
       "      <td>18504.30</td>\n",
       "      <td>64.0</td>\n",
       "      <td>426.0</td>\n",
       "      <td>36.0</td>\n",
       "      <td>Mickey</td>\n",
       "      <td>Wilkerson</td>\n",
       "      <td>28</td>\n",
       "      <td>Seattle-Tacoma-Bellevue, WA MSA</td>\n",
       "      <td>2018-08-13</td>\n",
       "      <td>surf</td>\n",
       "      <td>NaT</td>\n",
       "      <td>50.706055</td>\n",
       "    </tr>\n",
       "    <tr>\n",
       "      <th>...</th>\n",
       "      <td>...</td>\n",
       "      <td>...</td>\n",
       "      <td>...</td>\n",
       "      <td>...</td>\n",
       "      <td>...</td>\n",
       "      <td>...</td>\n",
       "      <td>...</td>\n",
       "      <td>...</td>\n",
       "      <td>...</td>\n",
       "      <td>...</td>\n",
       "      <td>...</td>\n",
       "      <td>...</td>\n",
       "      <td>...</td>\n",
       "      <td>...</td>\n",
       "    </tr>\n",
       "    <tr>\n",
       "      <th>2288</th>\n",
       "      <td>1470</td>\n",
       "      <td>8.0</td>\n",
       "      <td>0.00</td>\n",
       "      <td>84.0</td>\n",
       "      <td>580.0</td>\n",
       "      <td>141.0</td>\n",
       "      <td>Gerald</td>\n",
       "      <td>Reese</td>\n",
       "      <td>45</td>\n",
       "      <td>Washington-Arlington-Alexandria, DC-VA-MD-WV MSA</td>\n",
       "      <td>2018-04-21</td>\n",
       "      <td>surf</td>\n",
       "      <td>NaT</td>\n",
       "      <td>25.130000</td>\n",
       "    </tr>\n",
       "    <tr>\n",
       "      <th>2289</th>\n",
       "      <td>1470</td>\n",
       "      <td>9.0</td>\n",
       "      <td>0.00</td>\n",
       "      <td>70.0</td>\n",
       "      <td>471.0</td>\n",
       "      <td>130.0</td>\n",
       "      <td>Gerald</td>\n",
       "      <td>Reese</td>\n",
       "      <td>45</td>\n",
       "      <td>Washington-Arlington-Alexandria, DC-VA-MD-WV MSA</td>\n",
       "      <td>2018-04-21</td>\n",
       "      <td>surf</td>\n",
       "      <td>NaT</td>\n",
       "      <td>22.400000</td>\n",
       "    </tr>\n",
       "    <tr>\n",
       "      <th>2290</th>\n",
       "      <td>1470</td>\n",
       "      <td>10.0</td>\n",
       "      <td>0.00</td>\n",
       "      <td>72.0</td>\n",
       "      <td>459.0</td>\n",
       "      <td>145.0</td>\n",
       "      <td>Gerald</td>\n",
       "      <td>Reese</td>\n",
       "      <td>45</td>\n",
       "      <td>Washington-Arlington-Alexandria, DC-VA-MD-WV MSA</td>\n",
       "      <td>2018-04-21</td>\n",
       "      <td>surf</td>\n",
       "      <td>NaT</td>\n",
       "      <td>22.850000</td>\n",
       "    </tr>\n",
       "    <tr>\n",
       "      <th>2291</th>\n",
       "      <td>1470</td>\n",
       "      <td>11.0</td>\n",
       "      <td>0.00</td>\n",
       "      <td>81.0</td>\n",
       "      <td>632.0</td>\n",
       "      <td>156.0</td>\n",
       "      <td>Gerald</td>\n",
       "      <td>Reese</td>\n",
       "      <td>45</td>\n",
       "      <td>Washington-Arlington-Alexandria, DC-VA-MD-WV MSA</td>\n",
       "      <td>2018-04-21</td>\n",
       "      <td>surf</td>\n",
       "      <td>NaT</td>\n",
       "      <td>27.140000</td>\n",
       "    </tr>\n",
       "    <tr>\n",
       "      <th>2292</th>\n",
       "      <td>1470</td>\n",
       "      <td>12.0</td>\n",
       "      <td>0.00</td>\n",
       "      <td>78.0</td>\n",
       "      <td>592.0</td>\n",
       "      <td>153.0</td>\n",
       "      <td>Gerald</td>\n",
       "      <td>Reese</td>\n",
       "      <td>45</td>\n",
       "      <td>Washington-Arlington-Alexandria, DC-VA-MD-WV MSA</td>\n",
       "      <td>2018-04-21</td>\n",
       "      <td>surf</td>\n",
       "      <td>NaT</td>\n",
       "      <td>25.850000</td>\n",
       "    </tr>\n",
       "  </tbody>\n",
       "</table>\n",
       "<p>2293 rows × 14 columns</p>\n",
       "</div>"
      ],
      "text/plain": [
       "      user_id  month   mb_used  calls  duration  messages first_name  \\\n",
       "0        1000   12.0   1901.47   16.0     124.0      11.0   Anamaria   \n",
       "1        1001    8.0   6919.15   27.0     182.0      30.0     Mickey   \n",
       "2        1001    9.0  13314.82   49.0     315.0      44.0     Mickey   \n",
       "3        1001   10.0  22330.49   65.0     393.0      53.0     Mickey   \n",
       "4        1001   11.0  18504.30   64.0     426.0      36.0     Mickey   \n",
       "...       ...    ...       ...    ...       ...       ...        ...   \n",
       "2288     1470    8.0      0.00   84.0     580.0     141.0     Gerald   \n",
       "2289     1470    9.0      0.00   70.0     471.0     130.0     Gerald   \n",
       "2290     1470   10.0      0.00   72.0     459.0     145.0     Gerald   \n",
       "2291     1470   11.0      0.00   81.0     632.0     156.0     Gerald   \n",
       "2292     1470   12.0      0.00   78.0     592.0     153.0     Gerald   \n",
       "\n",
       "      last_name  age                                              city  \\\n",
       "0         Bauer   45             Atlanta-Sandy Springs-Roswell, GA MSA   \n",
       "1     Wilkerson   28                   Seattle-Tacoma-Bellevue, WA MSA   \n",
       "2     Wilkerson   28                   Seattle-Tacoma-Bellevue, WA MSA   \n",
       "3     Wilkerson   28                   Seattle-Tacoma-Bellevue, WA MSA   \n",
       "4     Wilkerson   28                   Seattle-Tacoma-Bellevue, WA MSA   \n",
       "...         ...  ...                                               ...   \n",
       "2288      Reese   45  Washington-Arlington-Alexandria, DC-VA-MD-WV MSA   \n",
       "2289      Reese   45  Washington-Arlington-Alexandria, DC-VA-MD-WV MSA   \n",
       "2290      Reese   45  Washington-Arlington-Alexandria, DC-VA-MD-WV MSA   \n",
       "2291      Reese   45  Washington-Arlington-Alexandria, DC-VA-MD-WV MSA   \n",
       "2292      Reese   45  Washington-Arlington-Alexandria, DC-VA-MD-WV MSA   \n",
       "\n",
       "       reg_date      plan churn_date  total_cost  \n",
       "0    2018-12-24  ultimate        NaT   70.000000  \n",
       "1    2018-08-13      surf        NaT   20.000000  \n",
       "2    2018-08-13      surf        NaT   20.000000  \n",
       "3    2018-08-13      surf        NaT   88.161191  \n",
       "4    2018-08-13      surf        NaT   50.706055  \n",
       "...         ...       ...        ...         ...  \n",
       "2288 2018-04-21      surf        NaT   25.130000  \n",
       "2289 2018-04-21      surf        NaT   22.400000  \n",
       "2290 2018-04-21      surf        NaT   22.850000  \n",
       "2291 2018-04-21      surf        NaT   27.140000  \n",
       "2292 2018-04-21      surf        NaT   25.850000  \n",
       "\n",
       "[2293 rows x 14 columns]"
      ]
     },
     "execution_count": 41,
     "metadata": {},
     "output_type": "execute_result"
    }
   ],
   "source": [
    "data['total_cost']=data.apply(cost,axis=1)\n",
    "data"
   ]
  },
  {
   "cell_type": "code",
   "execution_count": 42,
   "id": "c7d20d43",
   "metadata": {},
   "outputs": [
    {
     "data": {
      "text/plain": [
       "0"
      ]
     },
     "execution_count": 42,
     "metadata": {},
     "output_type": "execute_result"
    }
   ],
   "source": [
    "data.duplicated().sum()"
   ]
  },
  {
   "cell_type": "code",
   "execution_count": 43,
   "id": "9eadfac2",
   "metadata": {},
   "outputs": [
    {
     "data": {
      "text/html": [
       "<div>\n",
       "<style scoped>\n",
       "    .dataframe tbody tr th:only-of-type {\n",
       "        vertical-align: middle;\n",
       "    }\n",
       "\n",
       "    .dataframe tbody tr th {\n",
       "        vertical-align: top;\n",
       "    }\n",
       "\n",
       "    .dataframe thead th {\n",
       "        text-align: right;\n",
       "    }\n",
       "</style>\n",
       "<table border=\"1\" class=\"dataframe\">\n",
       "  <thead>\n",
       "    <tr style=\"text-align: right;\">\n",
       "      <th></th>\n",
       "      <th>user_id</th>\n",
       "      <th>month</th>\n",
       "      <th>mb_used</th>\n",
       "      <th>calls</th>\n",
       "      <th>duration</th>\n",
       "      <th>messages</th>\n",
       "      <th>first_name</th>\n",
       "      <th>last_name</th>\n",
       "      <th>age</th>\n",
       "      <th>city</th>\n",
       "      <th>reg_date</th>\n",
       "      <th>plan</th>\n",
       "      <th>churn_date</th>\n",
       "      <th>total_cost</th>\n",
       "    </tr>\n",
       "  </thead>\n",
       "  <tbody>\n",
       "    <tr>\n",
       "      <th>0</th>\n",
       "      <td>1000</td>\n",
       "      <td>12.0</td>\n",
       "      <td>1901.47</td>\n",
       "      <td>16.0</td>\n",
       "      <td>124.0</td>\n",
       "      <td>11.0</td>\n",
       "      <td>Anamaria</td>\n",
       "      <td>Bauer</td>\n",
       "      <td>45</td>\n",
       "      <td>Atlanta-Sandy Springs-Roswell, GA MSA</td>\n",
       "      <td>2018-12-24</td>\n",
       "      <td>ultimate</td>\n",
       "      <td>NaT</td>\n",
       "      <td>70.000000</td>\n",
       "    </tr>\n",
       "    <tr>\n",
       "      <th>1</th>\n",
       "      <td>1001</td>\n",
       "      <td>8.0</td>\n",
       "      <td>6919.15</td>\n",
       "      <td>27.0</td>\n",
       "      <td>182.0</td>\n",
       "      <td>30.0</td>\n",
       "      <td>Mickey</td>\n",
       "      <td>Wilkerson</td>\n",
       "      <td>28</td>\n",
       "      <td>Seattle-Tacoma-Bellevue, WA MSA</td>\n",
       "      <td>2018-08-13</td>\n",
       "      <td>surf</td>\n",
       "      <td>NaT</td>\n",
       "      <td>20.000000</td>\n",
       "    </tr>\n",
       "    <tr>\n",
       "      <th>2</th>\n",
       "      <td>1001</td>\n",
       "      <td>9.0</td>\n",
       "      <td>13314.82</td>\n",
       "      <td>49.0</td>\n",
       "      <td>315.0</td>\n",
       "      <td>44.0</td>\n",
       "      <td>Mickey</td>\n",
       "      <td>Wilkerson</td>\n",
       "      <td>28</td>\n",
       "      <td>Seattle-Tacoma-Bellevue, WA MSA</td>\n",
       "      <td>2018-08-13</td>\n",
       "      <td>surf</td>\n",
       "      <td>NaT</td>\n",
       "      <td>20.000000</td>\n",
       "    </tr>\n",
       "    <tr>\n",
       "      <th>3</th>\n",
       "      <td>1001</td>\n",
       "      <td>10.0</td>\n",
       "      <td>22330.49</td>\n",
       "      <td>65.0</td>\n",
       "      <td>393.0</td>\n",
       "      <td>53.0</td>\n",
       "      <td>Mickey</td>\n",
       "      <td>Wilkerson</td>\n",
       "      <td>28</td>\n",
       "      <td>Seattle-Tacoma-Bellevue, WA MSA</td>\n",
       "      <td>2018-08-13</td>\n",
       "      <td>surf</td>\n",
       "      <td>NaT</td>\n",
       "      <td>88.161191</td>\n",
       "    </tr>\n",
       "    <tr>\n",
       "      <th>4</th>\n",
       "      <td>1001</td>\n",
       "      <td>11.0</td>\n",
       "      <td>18504.30</td>\n",
       "      <td>64.0</td>\n",
       "      <td>426.0</td>\n",
       "      <td>36.0</td>\n",
       "      <td>Mickey</td>\n",
       "      <td>Wilkerson</td>\n",
       "      <td>28</td>\n",
       "      <td>Seattle-Tacoma-Bellevue, WA MSA</td>\n",
       "      <td>2018-08-13</td>\n",
       "      <td>surf</td>\n",
       "      <td>NaT</td>\n",
       "      <td>50.706055</td>\n",
       "    </tr>\n",
       "  </tbody>\n",
       "</table>\n",
       "</div>"
      ],
      "text/plain": [
       "   user_id  month   mb_used  calls  duration  messages first_name  last_name  \\\n",
       "0     1000   12.0   1901.47   16.0     124.0      11.0   Anamaria      Bauer   \n",
       "1     1001    8.0   6919.15   27.0     182.0      30.0     Mickey  Wilkerson   \n",
       "2     1001    9.0  13314.82   49.0     315.0      44.0     Mickey  Wilkerson   \n",
       "3     1001   10.0  22330.49   65.0     393.0      53.0     Mickey  Wilkerson   \n",
       "4     1001   11.0  18504.30   64.0     426.0      36.0     Mickey  Wilkerson   \n",
       "\n",
       "   age                                   city   reg_date      plan churn_date  \\\n",
       "0   45  Atlanta-Sandy Springs-Roswell, GA MSA 2018-12-24  ultimate        NaT   \n",
       "1   28        Seattle-Tacoma-Bellevue, WA MSA 2018-08-13      surf        NaT   \n",
       "2   28        Seattle-Tacoma-Bellevue, WA MSA 2018-08-13      surf        NaT   \n",
       "3   28        Seattle-Tacoma-Bellevue, WA MSA 2018-08-13      surf        NaT   \n",
       "4   28        Seattle-Tacoma-Bellevue, WA MSA 2018-08-13      surf        NaT   \n",
       "\n",
       "   total_cost  \n",
       "0   70.000000  \n",
       "1   20.000000  \n",
       "2   20.000000  \n",
       "3   88.161191  \n",
       "4   50.706055  "
      ]
     },
     "execution_count": 43,
     "metadata": {},
     "output_type": "execute_result"
    }
   ],
   "source": [
    "data.head()"
   ]
  },
  {
   "cell_type": "markdown",
   "id": "d38d4c5f",
   "metadata": {},
   "source": [
    "**Conclusion**\n",
    "\n",
    "* Added some calculation for each user: text per month, minutes per month, data used per month.\n",
    "\n",
    "* Checked for duplicated rows\n",
    "\n",
    "* Removed rows with missing values (except churn_date)"
   ]
  },
  {
   "cell_type": "markdown",
   "id": "a21d4801",
   "metadata": {},
   "source": [
    "## Analyze the data"
   ]
  },
  {
   "cell_type": "code",
   "execution_count": 44,
   "id": "4a5005c8",
   "metadata": {
    "scrolled": true
   },
   "outputs": [
    {
     "data": {
      "text/html": [
       "<div>\n",
       "<style scoped>\n",
       "    .dataframe tbody tr th:only-of-type {\n",
       "        vertical-align: middle;\n",
       "    }\n",
       "\n",
       "    .dataframe tbody tr th {\n",
       "        vertical-align: top;\n",
       "    }\n",
       "\n",
       "    .dataframe thead th {\n",
       "        text-align: right;\n",
       "    }\n",
       "</style>\n",
       "<table border=\"1\" class=\"dataframe\">\n",
       "  <thead>\n",
       "    <tr style=\"text-align: right;\">\n",
       "      <th></th>\n",
       "      <th>user_id</th>\n",
       "      <th>month</th>\n",
       "      <th>mb_used</th>\n",
       "      <th>calls</th>\n",
       "      <th>duration</th>\n",
       "      <th>messages</th>\n",
       "      <th>first_name</th>\n",
       "      <th>last_name</th>\n",
       "      <th>age</th>\n",
       "      <th>city</th>\n",
       "      <th>reg_date</th>\n",
       "      <th>plan</th>\n",
       "      <th>churn_date</th>\n",
       "      <th>total_cost</th>\n",
       "    </tr>\n",
       "  </thead>\n",
       "  <tbody>\n",
       "    <tr>\n",
       "      <th>1</th>\n",
       "      <td>1001</td>\n",
       "      <td>8.0</td>\n",
       "      <td>6919.15</td>\n",
       "      <td>27.0</td>\n",
       "      <td>182.0</td>\n",
       "      <td>30.0</td>\n",
       "      <td>Mickey</td>\n",
       "      <td>Wilkerson</td>\n",
       "      <td>28</td>\n",
       "      <td>Seattle-Tacoma-Bellevue, WA MSA</td>\n",
       "      <td>2018-08-13</td>\n",
       "      <td>surf</td>\n",
       "      <td>NaT</td>\n",
       "      <td>20.000000</td>\n",
       "    </tr>\n",
       "    <tr>\n",
       "      <th>2</th>\n",
       "      <td>1001</td>\n",
       "      <td>9.0</td>\n",
       "      <td>13314.82</td>\n",
       "      <td>49.0</td>\n",
       "      <td>315.0</td>\n",
       "      <td>44.0</td>\n",
       "      <td>Mickey</td>\n",
       "      <td>Wilkerson</td>\n",
       "      <td>28</td>\n",
       "      <td>Seattle-Tacoma-Bellevue, WA MSA</td>\n",
       "      <td>2018-08-13</td>\n",
       "      <td>surf</td>\n",
       "      <td>NaT</td>\n",
       "      <td>20.000000</td>\n",
       "    </tr>\n",
       "    <tr>\n",
       "      <th>3</th>\n",
       "      <td>1001</td>\n",
       "      <td>10.0</td>\n",
       "      <td>22330.49</td>\n",
       "      <td>65.0</td>\n",
       "      <td>393.0</td>\n",
       "      <td>53.0</td>\n",
       "      <td>Mickey</td>\n",
       "      <td>Wilkerson</td>\n",
       "      <td>28</td>\n",
       "      <td>Seattle-Tacoma-Bellevue, WA MSA</td>\n",
       "      <td>2018-08-13</td>\n",
       "      <td>surf</td>\n",
       "      <td>NaT</td>\n",
       "      <td>88.161191</td>\n",
       "    </tr>\n",
       "    <tr>\n",
       "      <th>4</th>\n",
       "      <td>1001</td>\n",
       "      <td>11.0</td>\n",
       "      <td>18504.30</td>\n",
       "      <td>64.0</td>\n",
       "      <td>426.0</td>\n",
       "      <td>36.0</td>\n",
       "      <td>Mickey</td>\n",
       "      <td>Wilkerson</td>\n",
       "      <td>28</td>\n",
       "      <td>Seattle-Tacoma-Bellevue, WA MSA</td>\n",
       "      <td>2018-08-13</td>\n",
       "      <td>surf</td>\n",
       "      <td>NaT</td>\n",
       "      <td>50.706055</td>\n",
       "    </tr>\n",
       "    <tr>\n",
       "      <th>5</th>\n",
       "      <td>1001</td>\n",
       "      <td>12.0</td>\n",
       "      <td>19369.18</td>\n",
       "      <td>56.0</td>\n",
       "      <td>412.0</td>\n",
       "      <td>44.0</td>\n",
       "      <td>Mickey</td>\n",
       "      <td>Wilkerson</td>\n",
       "      <td>28</td>\n",
       "      <td>Seattle-Tacoma-Bellevue, WA MSA</td>\n",
       "      <td>2018-08-13</td>\n",
       "      <td>surf</td>\n",
       "      <td>NaT</td>\n",
       "      <td>59.152148</td>\n",
       "    </tr>\n",
       "  </tbody>\n",
       "</table>\n",
       "</div>"
      ],
      "text/plain": [
       "   user_id  month   mb_used  calls  duration  messages first_name  last_name  \\\n",
       "1     1001    8.0   6919.15   27.0     182.0      30.0     Mickey  Wilkerson   \n",
       "2     1001    9.0  13314.82   49.0     315.0      44.0     Mickey  Wilkerson   \n",
       "3     1001   10.0  22330.49   65.0     393.0      53.0     Mickey  Wilkerson   \n",
       "4     1001   11.0  18504.30   64.0     426.0      36.0     Mickey  Wilkerson   \n",
       "5     1001   12.0  19369.18   56.0     412.0      44.0     Mickey  Wilkerson   \n",
       "\n",
       "   age                             city   reg_date  plan churn_date  \\\n",
       "1   28  Seattle-Tacoma-Bellevue, WA MSA 2018-08-13  surf        NaT   \n",
       "2   28  Seattle-Tacoma-Bellevue, WA MSA 2018-08-13  surf        NaT   \n",
       "3   28  Seattle-Tacoma-Bellevue, WA MSA 2018-08-13  surf        NaT   \n",
       "4   28  Seattle-Tacoma-Bellevue, WA MSA 2018-08-13  surf        NaT   \n",
       "5   28  Seattle-Tacoma-Bellevue, WA MSA 2018-08-13  surf        NaT   \n",
       "\n",
       "   total_cost  \n",
       "1   20.000000  \n",
       "2   20.000000  \n",
       "3   88.161191  \n",
       "4   50.706055  \n",
       "5   59.152148  "
      ]
     },
     "execution_count": 44,
     "metadata": {},
     "output_type": "execute_result"
    }
   ],
   "source": [
    "surf_users = data.query('plan==\"surf\"')\n",
    "surf_users.head()"
   ]
  },
  {
   "cell_type": "code",
   "execution_count": 45,
   "id": "d90af512",
   "metadata": {
    "scrolled": true
   },
   "outputs": [
    {
     "data": {
      "text/html": [
       "<div>\n",
       "<style scoped>\n",
       "    .dataframe tbody tr th:only-of-type {\n",
       "        vertical-align: middle;\n",
       "    }\n",
       "\n",
       "    .dataframe tbody tr th {\n",
       "        vertical-align: top;\n",
       "    }\n",
       "\n",
       "    .dataframe thead th {\n",
       "        text-align: right;\n",
       "    }\n",
       "</style>\n",
       "<table border=\"1\" class=\"dataframe\">\n",
       "  <thead>\n",
       "    <tr style=\"text-align: right;\">\n",
       "      <th></th>\n",
       "      <th>user_id</th>\n",
       "      <th>month</th>\n",
       "      <th>mb_used</th>\n",
       "      <th>calls</th>\n",
       "      <th>duration</th>\n",
       "      <th>messages</th>\n",
       "      <th>first_name</th>\n",
       "      <th>last_name</th>\n",
       "      <th>age</th>\n",
       "      <th>city</th>\n",
       "      <th>reg_date</th>\n",
       "      <th>plan</th>\n",
       "      <th>churn_date</th>\n",
       "      <th>total_cost</th>\n",
       "    </tr>\n",
       "  </thead>\n",
       "  <tbody>\n",
       "    <tr>\n",
       "      <th>0</th>\n",
       "      <td>1000</td>\n",
       "      <td>12.0</td>\n",
       "      <td>1901.47</td>\n",
       "      <td>16.0</td>\n",
       "      <td>124.0</td>\n",
       "      <td>11.0</td>\n",
       "      <td>Anamaria</td>\n",
       "      <td>Bauer</td>\n",
       "      <td>45</td>\n",
       "      <td>Atlanta-Sandy Springs-Roswell, GA MSA</td>\n",
       "      <td>2018-12-24</td>\n",
       "      <td>ultimate</td>\n",
       "      <td>NaT</td>\n",
       "      <td>70.000000</td>\n",
       "    </tr>\n",
       "    <tr>\n",
       "      <th>19</th>\n",
       "      <td>1006</td>\n",
       "      <td>11.0</td>\n",
       "      <td>2068.37</td>\n",
       "      <td>2.0</td>\n",
       "      <td>10.0</td>\n",
       "      <td>15.0</td>\n",
       "      <td>Jesusa</td>\n",
       "      <td>Bradford</td>\n",
       "      <td>73</td>\n",
       "      <td>San Francisco-Oakland-Berkeley, CA MSA</td>\n",
       "      <td>2018-11-27</td>\n",
       "      <td>ultimate</td>\n",
       "      <td>2018-12-18</td>\n",
       "      <td>70.000000</td>\n",
       "    </tr>\n",
       "    <tr>\n",
       "      <th>20</th>\n",
       "      <td>1006</td>\n",
       "      <td>12.0</td>\n",
       "      <td>32118.82</td>\n",
       "      <td>9.0</td>\n",
       "      <td>59.0</td>\n",
       "      <td>139.0</td>\n",
       "      <td>Jesusa</td>\n",
       "      <td>Bradford</td>\n",
       "      <td>73</td>\n",
       "      <td>San Francisco-Oakland-Berkeley, CA MSA</td>\n",
       "      <td>2018-11-27</td>\n",
       "      <td>ultimate</td>\n",
       "      <td>2018-12-18</td>\n",
       "      <td>79.562246</td>\n",
       "    </tr>\n",
       "    <tr>\n",
       "      <th>26</th>\n",
       "      <td>1008</td>\n",
       "      <td>10.0</td>\n",
       "      <td>17106.99</td>\n",
       "      <td>71.0</td>\n",
       "      <td>476.0</td>\n",
       "      <td>21.0</td>\n",
       "      <td>Emely</td>\n",
       "      <td>Hoffman</td>\n",
       "      <td>53</td>\n",
       "      <td>Orlando-Kissimmee-Sanford, FL MSA</td>\n",
       "      <td>2018-08-03</td>\n",
       "      <td>ultimate</td>\n",
       "      <td>NaT</td>\n",
       "      <td>70.000000</td>\n",
       "    </tr>\n",
       "    <tr>\n",
       "      <th>27</th>\n",
       "      <td>1008</td>\n",
       "      <td>11.0</td>\n",
       "      <td>23676.72</td>\n",
       "      <td>63.0</td>\n",
       "      <td>446.0</td>\n",
       "      <td>37.0</td>\n",
       "      <td>Emely</td>\n",
       "      <td>Hoffman</td>\n",
       "      <td>53</td>\n",
       "      <td>Orlando-Kissimmee-Sanford, FL MSA</td>\n",
       "      <td>2018-08-03</td>\n",
       "      <td>ultimate</td>\n",
       "      <td>NaT</td>\n",
       "      <td>70.000000</td>\n",
       "    </tr>\n",
       "  </tbody>\n",
       "</table>\n",
       "</div>"
      ],
      "text/plain": [
       "    user_id  month   mb_used  calls  duration  messages first_name last_name  \\\n",
       "0      1000   12.0   1901.47   16.0     124.0      11.0   Anamaria     Bauer   \n",
       "19     1006   11.0   2068.37    2.0      10.0      15.0     Jesusa  Bradford   \n",
       "20     1006   12.0  32118.82    9.0      59.0     139.0     Jesusa  Bradford   \n",
       "26     1008   10.0  17106.99   71.0     476.0      21.0      Emely   Hoffman   \n",
       "27     1008   11.0  23676.72   63.0     446.0      37.0      Emely   Hoffman   \n",
       "\n",
       "    age                                    city   reg_date      plan  \\\n",
       "0    45   Atlanta-Sandy Springs-Roswell, GA MSA 2018-12-24  ultimate   \n",
       "19   73  San Francisco-Oakland-Berkeley, CA MSA 2018-11-27  ultimate   \n",
       "20   73  San Francisco-Oakland-Berkeley, CA MSA 2018-11-27  ultimate   \n",
       "26   53       Orlando-Kissimmee-Sanford, FL MSA 2018-08-03  ultimate   \n",
       "27   53       Orlando-Kissimmee-Sanford, FL MSA 2018-08-03  ultimate   \n",
       "\n",
       "   churn_date  total_cost  \n",
       "0         NaT   70.000000  \n",
       "19 2018-12-18   70.000000  \n",
       "20 2018-12-18   79.562246  \n",
       "26        NaT   70.000000  \n",
       "27        NaT   70.000000  "
      ]
     },
     "execution_count": 45,
     "metadata": {},
     "output_type": "execute_result"
    }
   ],
   "source": [
    "ultimate_users = data.query('plan==\"ultimate\"')\n",
    "ultimate_users.head()"
   ]
  },
  {
   "cell_type": "markdown",
   "id": "7c50d2d7",
   "metadata": {},
   "source": [
    "**Analyze minutes per month**"
   ]
  },
  {
   "cell_type": "code",
   "execution_count": 46,
   "id": "3d33b09d",
   "metadata": {},
   "outputs": [
    {
     "data": {
      "text/html": [
       "<div>\n",
       "<style scoped>\n",
       "    .dataframe tbody tr th:only-of-type {\n",
       "        vertical-align: middle;\n",
       "    }\n",
       "\n",
       "    .dataframe tbody tr th {\n",
       "        vertical-align: top;\n",
       "    }\n",
       "\n",
       "    .dataframe thead th {\n",
       "        text-align: right;\n",
       "    }\n",
       "</style>\n",
       "<table border=\"1\" class=\"dataframe\">\n",
       "  <thead>\n",
       "    <tr style=\"text-align: right;\">\n",
       "      <th></th>\n",
       "      <th>user_id</th>\n",
       "      <th>month</th>\n",
       "      <th>mb_used</th>\n",
       "      <th>calls</th>\n",
       "      <th>duration</th>\n",
       "      <th>messages</th>\n",
       "      <th>age</th>\n",
       "      <th>total_cost</th>\n",
       "    </tr>\n",
       "  </thead>\n",
       "  <tbody>\n",
       "    <tr>\n",
       "      <th>count</th>\n",
       "      <td>1573.000000</td>\n",
       "      <td>1573.000000</td>\n",
       "      <td>1573.000000</td>\n",
       "      <td>1573.000000</td>\n",
       "      <td>1573.000000</td>\n",
       "      <td>1573.000000</td>\n",
       "      <td>1573.000000</td>\n",
       "      <td>1573.000000</td>\n",
       "    </tr>\n",
       "    <tr>\n",
       "      <th>mean</th>\n",
       "      <td>1242.755245</td>\n",
       "      <td>9.182454</td>\n",
       "      <td>16558.283490</td>\n",
       "      <td>59.811825</td>\n",
       "      <td>428.749523</td>\n",
       "      <td>31.159568</td>\n",
       "      <td>44.379530</td>\n",
       "      <td>57.672846</td>\n",
       "    </tr>\n",
       "    <tr>\n",
       "      <th>std</th>\n",
       "      <td>139.227939</td>\n",
       "      <td>2.468199</td>\n",
       "      <td>8013.513327</td>\n",
       "      <td>32.017989</td>\n",
       "      <td>234.453150</td>\n",
       "      <td>33.566717</td>\n",
       "      <td>16.646535</td>\n",
       "      <td>53.860388</td>\n",
       "    </tr>\n",
       "    <tr>\n",
       "      <th>min</th>\n",
       "      <td>1001.000000</td>\n",
       "      <td>1.000000</td>\n",
       "      <td>0.000000</td>\n",
       "      <td>0.000000</td>\n",
       "      <td>0.000000</td>\n",
       "      <td>0.000000</td>\n",
       "      <td>18.000000</td>\n",
       "      <td>20.000000</td>\n",
       "    </tr>\n",
       "    <tr>\n",
       "      <th>25%</th>\n",
       "      <td>1120.000000</td>\n",
       "      <td>8.000000</td>\n",
       "      <td>11986.520000</td>\n",
       "      <td>39.000000</td>\n",
       "      <td>272.000000</td>\n",
       "      <td>3.000000</td>\n",
       "      <td>29.000000</td>\n",
       "      <td>20.000000</td>\n",
       "    </tr>\n",
       "    <tr>\n",
       "      <th>50%</th>\n",
       "      <td>1245.000000</td>\n",
       "      <td>10.000000</td>\n",
       "      <td>16829.310000</td>\n",
       "      <td>60.000000</td>\n",
       "      <td>425.000000</td>\n",
       "      <td>24.000000</td>\n",
       "      <td>45.000000</td>\n",
       "      <td>37.383477</td>\n",
       "    </tr>\n",
       "    <tr>\n",
       "      <th>75%</th>\n",
       "      <td>1358.000000</td>\n",
       "      <td>11.000000</td>\n",
       "      <td>20999.610000</td>\n",
       "      <td>79.000000</td>\n",
       "      <td>576.000000</td>\n",
       "      <td>47.000000</td>\n",
       "      <td>59.000000</td>\n",
       "      <td>77.120605</td>\n",
       "    </tr>\n",
       "    <tr>\n",
       "      <th>max</th>\n",
       "      <td>1499.000000</td>\n",
       "      <td>12.000000</td>\n",
       "      <td>70931.590000</td>\n",
       "      <td>205.000000</td>\n",
       "      <td>1510.000000</td>\n",
       "      <td>266.000000</td>\n",
       "      <td>75.000000</td>\n",
       "      <td>583.061309</td>\n",
       "    </tr>\n",
       "  </tbody>\n",
       "</table>\n",
       "</div>"
      ],
      "text/plain": [
       "           user_id        month       mb_used        calls     duration  \\\n",
       "count  1573.000000  1573.000000   1573.000000  1573.000000  1573.000000   \n",
       "mean   1242.755245     9.182454  16558.283490    59.811825   428.749523   \n",
       "std     139.227939     2.468199   8013.513327    32.017989   234.453150   \n",
       "min    1001.000000     1.000000      0.000000     0.000000     0.000000   \n",
       "25%    1120.000000     8.000000  11986.520000    39.000000   272.000000   \n",
       "50%    1245.000000    10.000000  16829.310000    60.000000   425.000000   \n",
       "75%    1358.000000    11.000000  20999.610000    79.000000   576.000000   \n",
       "max    1499.000000    12.000000  70931.590000   205.000000  1510.000000   \n",
       "\n",
       "          messages          age   total_cost  \n",
       "count  1573.000000  1573.000000  1573.000000  \n",
       "mean     31.159568    44.379530    57.672846  \n",
       "std      33.566717    16.646535    53.860388  \n",
       "min       0.000000    18.000000    20.000000  \n",
       "25%       3.000000    29.000000    20.000000  \n",
       "50%      24.000000    45.000000    37.383477  \n",
       "75%      47.000000    59.000000    77.120605  \n",
       "max     266.000000    75.000000   583.061309  "
      ]
     },
     "execution_count": 46,
     "metadata": {},
     "output_type": "execute_result"
    }
   ],
   "source": [
    "surf_users.describe()"
   ]
  },
  {
   "cell_type": "code",
   "execution_count": 47,
   "id": "5a455471",
   "metadata": {},
   "outputs": [],
   "source": [
    "surf_duration_up = np.percentile(surf_users['duration'],98)\n",
    "surf_duration_low = np.percentile(surf_users['duration'],2)\n",
    "ultimate_duration_up = np.percentile(ultimate_users['duration'],98)\n",
    "ultimate_duration_low = np.percentile(ultimate_users['duration'],2)"
   ]
  },
  {
   "cell_type": "code",
   "execution_count": 48,
   "id": "f33f2b42",
   "metadata": {},
   "outputs": [
    {
     "data": {
      "text/html": [
       "<div>\n",
       "<style scoped>\n",
       "    .dataframe tbody tr th:only-of-type {\n",
       "        vertical-align: middle;\n",
       "    }\n",
       "\n",
       "    .dataframe tbody tr th {\n",
       "        vertical-align: top;\n",
       "    }\n",
       "\n",
       "    .dataframe thead th {\n",
       "        text-align: right;\n",
       "    }\n",
       "</style>\n",
       "<table border=\"1\" class=\"dataframe\">\n",
       "  <thead>\n",
       "    <tr style=\"text-align: right;\">\n",
       "      <th></th>\n",
       "      <th>user_id</th>\n",
       "      <th>mean</th>\n",
       "      <th>var</th>\n",
       "      <th>std</th>\n",
       "    </tr>\n",
       "  </thead>\n",
       "  <tbody>\n",
       "    <tr>\n",
       "      <th>0</th>\n",
       "      <td>1001</td>\n",
       "      <td>345.600000</td>\n",
       "      <td>10205.300000</td>\n",
       "      <td>101.021285</td>\n",
       "    </tr>\n",
       "    <tr>\n",
       "      <th>1</th>\n",
       "      <td>1002</td>\n",
       "      <td>276.333333</td>\n",
       "      <td>35426.333333</td>\n",
       "      <td>188.218844</td>\n",
       "    </tr>\n",
       "    <tr>\n",
       "      <th>2</th>\n",
       "      <td>1003</td>\n",
       "      <td>1104.000000</td>\n",
       "      <td>NaN</td>\n",
       "      <td>NaN</td>\n",
       "    </tr>\n",
       "    <tr>\n",
       "      <th>3</th>\n",
       "      <td>1004</td>\n",
       "      <td>346.500000</td>\n",
       "      <td>7940.571429</td>\n",
       "      <td>89.109884</td>\n",
       "    </tr>\n",
       "    <tr>\n",
       "      <th>4</th>\n",
       "      <td>1005</td>\n",
       "      <td>496.000000</td>\n",
       "      <td>NaN</td>\n",
       "      <td>NaN</td>\n",
       "    </tr>\n",
       "    <tr>\n",
       "      <th>...</th>\n",
       "      <td>...</td>\n",
       "      <td>...</td>\n",
       "      <td>...</td>\n",
       "      <td>...</td>\n",
       "    </tr>\n",
       "    <tr>\n",
       "      <th>328</th>\n",
       "      <td>1494</td>\n",
       "      <td>473.500000</td>\n",
       "      <td>9820.300000</td>\n",
       "      <td>99.097427</td>\n",
       "    </tr>\n",
       "    <tr>\n",
       "      <th>329</th>\n",
       "      <td>1495</td>\n",
       "      <td>441.250000</td>\n",
       "      <td>18960.916667</td>\n",
       "      <td>137.698644</td>\n",
       "    </tr>\n",
       "    <tr>\n",
       "      <th>330</th>\n",
       "      <td>1496</td>\n",
       "      <td>291.000000</td>\n",
       "      <td>11166.000000</td>\n",
       "      <td>105.669295</td>\n",
       "    </tr>\n",
       "    <tr>\n",
       "      <th>331</th>\n",
       "      <td>1498</td>\n",
       "      <td>291.909091</td>\n",
       "      <td>2480.490909</td>\n",
       "      <td>49.804527</td>\n",
       "    </tr>\n",
       "    <tr>\n",
       "      <th>332</th>\n",
       "      <td>1499</td>\n",
       "      <td>383.750000</td>\n",
       "      <td>6588.250000</td>\n",
       "      <td>81.168036</td>\n",
       "    </tr>\n",
       "  </tbody>\n",
       "</table>\n",
       "<p>333 rows × 4 columns</p>\n",
       "</div>"
      ],
      "text/plain": [
       "     user_id         mean           var         std\n",
       "0       1001   345.600000  10205.300000  101.021285\n",
       "1       1002   276.333333  35426.333333  188.218844\n",
       "2       1003  1104.000000           NaN         NaN\n",
       "3       1004   346.500000   7940.571429   89.109884\n",
       "4       1005   496.000000           NaN         NaN\n",
       "..       ...          ...           ...         ...\n",
       "328     1494   473.500000   9820.300000   99.097427\n",
       "329     1495   441.250000  18960.916667  137.698644\n",
       "330     1496   291.000000  11166.000000  105.669295\n",
       "331     1498   291.909091   2480.490909   49.804527\n",
       "332     1499   383.750000   6588.250000   81.168036\n",
       "\n",
       "[333 rows x 4 columns]"
      ]
     },
     "execution_count": 48,
     "metadata": {},
     "output_type": "execute_result"
    }
   ],
   "source": [
    "surf_duration = surf_users.pivot_table(values='duration',index='user_id',aggfunc=['mean','var','std'])\n",
    "surf_duration.reset_index(inplace=True)\n",
    "surf_duration.columns = ['user_id','mean','var','std']\n",
    "surf_duration"
   ]
  },
  {
   "cell_type": "code",
   "execution_count": 49,
   "id": "80909683",
   "metadata": {
    "scrolled": false
   },
   "outputs": [
    {
     "data": {
      "text/html": [
       "<div>\n",
       "<style scoped>\n",
       "    .dataframe tbody tr th:only-of-type {\n",
       "        vertical-align: middle;\n",
       "    }\n",
       "\n",
       "    .dataframe tbody tr th {\n",
       "        vertical-align: top;\n",
       "    }\n",
       "\n",
       "    .dataframe thead th {\n",
       "        text-align: right;\n",
       "    }\n",
       "</style>\n",
       "<table border=\"1\" class=\"dataframe\">\n",
       "  <thead>\n",
       "    <tr style=\"text-align: right;\">\n",
       "      <th></th>\n",
       "      <th>user_id</th>\n",
       "      <th>mean</th>\n",
       "      <th>var</th>\n",
       "      <th>std</th>\n",
       "    </tr>\n",
       "  </thead>\n",
       "  <tbody>\n",
       "    <tr>\n",
       "      <th>0</th>\n",
       "      <td>1000</td>\n",
       "      <td>124.000000</td>\n",
       "      <td>NaN</td>\n",
       "      <td>NaN</td>\n",
       "    </tr>\n",
       "    <tr>\n",
       "      <th>1</th>\n",
       "      <td>1006</td>\n",
       "      <td>34.500000</td>\n",
       "      <td>1200.500000</td>\n",
       "      <td>34.648232</td>\n",
       "    </tr>\n",
       "    <tr>\n",
       "      <th>2</th>\n",
       "      <td>1008</td>\n",
       "      <td>518.666667</td>\n",
       "      <td>10201.333333</td>\n",
       "      <td>101.001650</td>\n",
       "    </tr>\n",
       "    <tr>\n",
       "      <th>3</th>\n",
       "      <td>1011</td>\n",
       "      <td>415.285714</td>\n",
       "      <td>21983.904762</td>\n",
       "      <td>148.269703</td>\n",
       "    </tr>\n",
       "    <tr>\n",
       "      <th>4</th>\n",
       "      <td>1013</td>\n",
       "      <td>219.000000</td>\n",
       "      <td>NaN</td>\n",
       "      <td>NaN</td>\n",
       "    </tr>\n",
       "    <tr>\n",
       "      <th>...</th>\n",
       "      <td>...</td>\n",
       "      <td>...</td>\n",
       "      <td>...</td>\n",
       "      <td>...</td>\n",
       "    </tr>\n",
       "    <tr>\n",
       "      <th>152</th>\n",
       "      <td>1482</td>\n",
       "      <td>280.333333</td>\n",
       "      <td>191800.333333</td>\n",
       "      <td>437.950149</td>\n",
       "    </tr>\n",
       "    <tr>\n",
       "      <th>153</th>\n",
       "      <td>1487</td>\n",
       "      <td>416.000000</td>\n",
       "      <td>NaN</td>\n",
       "      <td>NaN</td>\n",
       "    </tr>\n",
       "    <tr>\n",
       "      <th>154</th>\n",
       "      <td>1490</td>\n",
       "      <td>373.000000</td>\n",
       "      <td>25040.800000</td>\n",
       "      <td>158.242851</td>\n",
       "    </tr>\n",
       "    <tr>\n",
       "      <th>155</th>\n",
       "      <td>1493</td>\n",
       "      <td>465.000000</td>\n",
       "      <td>3518.500000</td>\n",
       "      <td>59.316945</td>\n",
       "    </tr>\n",
       "    <tr>\n",
       "      <th>156</th>\n",
       "      <td>1497</td>\n",
       "      <td>300.000000</td>\n",
       "      <td>NaN</td>\n",
       "      <td>NaN</td>\n",
       "    </tr>\n",
       "  </tbody>\n",
       "</table>\n",
       "<p>157 rows × 4 columns</p>\n",
       "</div>"
      ],
      "text/plain": [
       "     user_id        mean            var         std\n",
       "0       1000  124.000000            NaN         NaN\n",
       "1       1006   34.500000    1200.500000   34.648232\n",
       "2       1008  518.666667   10201.333333  101.001650\n",
       "3       1011  415.285714   21983.904762  148.269703\n",
       "4       1013  219.000000            NaN         NaN\n",
       "..       ...         ...            ...         ...\n",
       "152     1482  280.333333  191800.333333  437.950149\n",
       "153     1487  416.000000            NaN         NaN\n",
       "154     1490  373.000000   25040.800000  158.242851\n",
       "155     1493  465.000000    3518.500000   59.316945\n",
       "156     1497  300.000000            NaN         NaN\n",
       "\n",
       "[157 rows x 4 columns]"
      ]
     },
     "execution_count": 49,
     "metadata": {},
     "output_type": "execute_result"
    }
   ],
   "source": [
    "ultimate_duration = ultimate_users.pivot_table(values='duration',index='user_id',aggfunc=['mean','var','std'])\n",
    "ultimate_duration.reset_index(inplace=True)\n",
    "ultimate_duration.columns = ['user_id','mean','var','std']\n",
    "ultimate_duration"
   ]
  },
  {
   "cell_type": "markdown",
   "id": "862d0e05",
   "metadata": {},
   "source": [
    "**The NaN values in the columns var and std inside the pivot tables above are caused by users who only had one month of subscription to a calling plan**"
   ]
  },
  {
   "cell_type": "code",
   "execution_count": 50,
   "id": "87a44ec5",
   "metadata": {
    "scrolled": true
   },
   "outputs": [
    {
     "name": "stdout",
     "output_type": "stream",
     "text": [
      "430.45\n",
      "57844.4648122392\n",
      "240.50876244378125\n"
     ]
    }
   ],
   "source": [
    "# Reviewer's code\n",
    "print(ultimate_users['duration'].mean())\n",
    "print(ultimate_users['duration'].var())\n",
    "print(ultimate_users['duration'].std())"
   ]
  },
  {
   "cell_type": "code",
   "execution_count": 51,
   "id": "7fe7f9a9",
   "metadata": {},
   "outputs": [
    {
     "data": {
      "text/plain": [
       "<matplotlib.legend.Legend at 0x20bb5fc23d0>"
      ]
     },
     "execution_count": 51,
     "metadata": {},
     "output_type": "execute_result"
    },
    {
     "data": {
      "image/png": "[encoded data removed]",
      "text/plain": [
       "<Figure size 864x360 with 1 Axes>"
      ]
     },
     "metadata": {
      "needs_background": "light"
     },
     "output_type": "display_data"
    }
   ],
   "source": [
    "surf_users = surf_users.query('duration > @surf_duration_low and duration < @surf_duration_up')\n",
    "ultimate_users = ultimate_users.query('duration > @ultimate_duration_low and duration < @ultimate_duration_up')\n",
    "plt.figure(figsize=(12,5))\n",
    "sns.histplot(data=surf_users, x='duration',label='surf')\n",
    "sns.histplot(data=ultimate_users,x='duration',color='g',label='ultimate')\n",
    "plt.gca().set(title='Freuncy histogram of minutes used for each plan', ylabel='Frequency',xlabel='Minutes')\n",
    "plt.legend()"
   ]
  },
  {
   "cell_type": "markdown",
   "id": "d1b3bbbb",
   "metadata": {},
   "source": [
    "**We can see that the distribution of calls duration for both plans are very similar, the only difference is the overall minutes amount. This can be explained by the fact that there are less users subsribed with the ultimate calling plan**"
   ]
  },
  {
   "cell_type": "markdown",
   "id": "48909014",
   "metadata": {},
   "source": [
    "**Analyze texts per month**"
   ]
  },
  {
   "cell_type": "code",
   "execution_count": 52,
   "id": "fd6dd65e",
   "metadata": {},
   "outputs": [
    {
     "data": {
      "text/html": [
       "<div>\n",
       "<style scoped>\n",
       "    .dataframe tbody tr th:only-of-type {\n",
       "        vertical-align: middle;\n",
       "    }\n",
       "\n",
       "    .dataframe tbody tr th {\n",
       "        vertical-align: top;\n",
       "    }\n",
       "\n",
       "    .dataframe thead th {\n",
       "        text-align: right;\n",
       "    }\n",
       "</style>\n",
       "<table border=\"1\" class=\"dataframe\">\n",
       "  <thead>\n",
       "    <tr style=\"text-align: right;\">\n",
       "      <th></th>\n",
       "      <th>user_id</th>\n",
       "      <th>mean</th>\n",
       "      <th>var</th>\n",
       "      <th>std</th>\n",
       "    </tr>\n",
       "  </thead>\n",
       "  <tbody>\n",
       "    <tr>\n",
       "      <th>0</th>\n",
       "      <td>1001</td>\n",
       "      <td>41.400000</td>\n",
       "      <td>76.800000</td>\n",
       "      <td>8.763561</td>\n",
       "    </tr>\n",
       "    <tr>\n",
       "      <th>1</th>\n",
       "      <td>1002</td>\n",
       "      <td>29.333333</td>\n",
       "      <td>174.333333</td>\n",
       "      <td>13.203535</td>\n",
       "    </tr>\n",
       "    <tr>\n",
       "      <th>2</th>\n",
       "      <td>1004</td>\n",
       "      <td>22.125000</td>\n",
       "      <td>51.553571</td>\n",
       "      <td>7.180082</td>\n",
       "    </tr>\n",
       "    <tr>\n",
       "      <th>3</th>\n",
       "      <td>1005</td>\n",
       "      <td>11.000000</td>\n",
       "      <td>NaN</td>\n",
       "      <td>NaN</td>\n",
       "    </tr>\n",
       "    <tr>\n",
       "      <th>4</th>\n",
       "      <td>1007</td>\n",
       "      <td>51.000000</td>\n",
       "      <td>22.500000</td>\n",
       "      <td>4.743416</td>\n",
       "    </tr>\n",
       "    <tr>\n",
       "      <th>...</th>\n",
       "      <td>...</td>\n",
       "      <td>...</td>\n",
       "      <td>...</td>\n",
       "      <td>...</td>\n",
       "    </tr>\n",
       "    <tr>\n",
       "      <th>319</th>\n",
       "      <td>1494</td>\n",
       "      <td>29.000000</td>\n",
       "      <td>56.400000</td>\n",
       "      <td>7.509993</td>\n",
       "    </tr>\n",
       "    <tr>\n",
       "      <th>320</th>\n",
       "      <td>1495</td>\n",
       "      <td>0.000000</td>\n",
       "      <td>0.000000</td>\n",
       "      <td>0.000000</td>\n",
       "    </tr>\n",
       "    <tr>\n",
       "      <th>321</th>\n",
       "      <td>1496</td>\n",
       "      <td>13.000000</td>\n",
       "      <td>53.500000</td>\n",
       "      <td>7.314369</td>\n",
       "    </tr>\n",
       "    <tr>\n",
       "      <th>322</th>\n",
       "      <td>1498</td>\n",
       "      <td>0.000000</td>\n",
       "      <td>0.000000</td>\n",
       "      <td>0.000000</td>\n",
       "    </tr>\n",
       "    <tr>\n",
       "      <th>323</th>\n",
       "      <td>1499</td>\n",
       "      <td>0.000000</td>\n",
       "      <td>0.000000</td>\n",
       "      <td>0.000000</td>\n",
       "    </tr>\n",
       "  </tbody>\n",
       "</table>\n",
       "<p>324 rows × 4 columns</p>\n",
       "</div>"
      ],
      "text/plain": [
       "     user_id       mean         var        std\n",
       "0       1001  41.400000   76.800000   8.763561\n",
       "1       1002  29.333333  174.333333  13.203535\n",
       "2       1004  22.125000   51.553571   7.180082\n",
       "3       1005  11.000000         NaN        NaN\n",
       "4       1007  51.000000   22.500000   4.743416\n",
       "..       ...        ...         ...        ...\n",
       "319     1494  29.000000   56.400000   7.509993\n",
       "320     1495   0.000000    0.000000   0.000000\n",
       "321     1496  13.000000   53.500000   7.314369\n",
       "322     1498   0.000000    0.000000   0.000000\n",
       "323     1499   0.000000    0.000000   0.000000\n",
       "\n",
       "[324 rows x 4 columns]"
      ]
     },
     "execution_count": 52,
     "metadata": {},
     "output_type": "execute_result"
    }
   ],
   "source": [
    "surf_messages = surf_users.pivot_table(values='messages',index='user_id',aggfunc=['mean','var','std'])\n",
    "surf_messages.reset_index(inplace=True)\n",
    "surf_messages.columns = ['user_id','mean','var','std']\n",
    "surf_messages"
   ]
  },
  {
   "cell_type": "code",
   "execution_count": 53,
   "id": "09a9e829",
   "metadata": {
    "scrolled": true
   },
   "outputs": [
    {
     "data": {
      "text/html": [
       "<div>\n",
       "<style scoped>\n",
       "    .dataframe tbody tr th:only-of-type {\n",
       "        vertical-align: middle;\n",
       "    }\n",
       "\n",
       "    .dataframe tbody tr th {\n",
       "        vertical-align: top;\n",
       "    }\n",
       "\n",
       "    .dataframe thead th {\n",
       "        text-align: right;\n",
       "    }\n",
       "</style>\n",
       "<table border=\"1\" class=\"dataframe\">\n",
       "  <thead>\n",
       "    <tr style=\"text-align: right;\">\n",
       "      <th></th>\n",
       "      <th>user_id</th>\n",
       "      <th>mean</th>\n",
       "      <th>var</th>\n",
       "      <th>std</th>\n",
       "    </tr>\n",
       "  </thead>\n",
       "  <tbody>\n",
       "    <tr>\n",
       "      <th>0</th>\n",
       "      <td>1000</td>\n",
       "      <td>11.0</td>\n",
       "      <td>NaN</td>\n",
       "      <td>NaN</td>\n",
       "    </tr>\n",
       "    <tr>\n",
       "      <th>1</th>\n",
       "      <td>1006</td>\n",
       "      <td>139.0</td>\n",
       "      <td>NaN</td>\n",
       "      <td>NaN</td>\n",
       "    </tr>\n",
       "    <tr>\n",
       "      <th>2</th>\n",
       "      <td>1008</td>\n",
       "      <td>28.0</td>\n",
       "      <td>67.0</td>\n",
       "      <td>8.185353</td>\n",
       "    </tr>\n",
       "    <tr>\n",
       "      <th>3</th>\n",
       "      <td>1011</td>\n",
       "      <td>53.0</td>\n",
       "      <td>214.0</td>\n",
       "      <td>14.628739</td>\n",
       "    </tr>\n",
       "    <tr>\n",
       "      <th>4</th>\n",
       "      <td>1013</td>\n",
       "      <td>16.0</td>\n",
       "      <td>NaN</td>\n",
       "      <td>NaN</td>\n",
       "    </tr>\n",
       "    <tr>\n",
       "      <th>...</th>\n",
       "      <td>...</td>\n",
       "      <td>...</td>\n",
       "      <td>...</td>\n",
       "      <td>...</td>\n",
       "    </tr>\n",
       "    <tr>\n",
       "      <th>149</th>\n",
       "      <td>1482</td>\n",
       "      <td>46.0</td>\n",
       "      <td>3362.0</td>\n",
       "      <td>57.982756</td>\n",
       "    </tr>\n",
       "    <tr>\n",
       "      <th>150</th>\n",
       "      <td>1487</td>\n",
       "      <td>66.0</td>\n",
       "      <td>NaN</td>\n",
       "      <td>NaN</td>\n",
       "    </tr>\n",
       "    <tr>\n",
       "      <th>151</th>\n",
       "      <td>1490</td>\n",
       "      <td>0.0</td>\n",
       "      <td>0.0</td>\n",
       "      <td>0.000000</td>\n",
       "    </tr>\n",
       "    <tr>\n",
       "      <th>152</th>\n",
       "      <td>1493</td>\n",
       "      <td>0.0</td>\n",
       "      <td>0.0</td>\n",
       "      <td>0.000000</td>\n",
       "    </tr>\n",
       "    <tr>\n",
       "      <th>153</th>\n",
       "      <td>1497</td>\n",
       "      <td>50.0</td>\n",
       "      <td>NaN</td>\n",
       "      <td>NaN</td>\n",
       "    </tr>\n",
       "  </tbody>\n",
       "</table>\n",
       "<p>154 rows × 4 columns</p>\n",
       "</div>"
      ],
      "text/plain": [
       "     user_id   mean     var        std\n",
       "0       1000   11.0     NaN        NaN\n",
       "1       1006  139.0     NaN        NaN\n",
       "2       1008   28.0    67.0   8.185353\n",
       "3       1011   53.0   214.0  14.628739\n",
       "4       1013   16.0     NaN        NaN\n",
       "..       ...    ...     ...        ...\n",
       "149     1482   46.0  3362.0  57.982756\n",
       "150     1487   66.0     NaN        NaN\n",
       "151     1490    0.0     0.0   0.000000\n",
       "152     1493    0.0     0.0   0.000000\n",
       "153     1497   50.0     NaN        NaN\n",
       "\n",
       "[154 rows x 4 columns]"
      ]
     },
     "execution_count": 53,
     "metadata": {},
     "output_type": "execute_result"
    }
   ],
   "source": [
    "ultimate_messages = ultimate_users.pivot_table(values='messages',index='user_id',aggfunc=['mean','var','std'])\n",
    "ultimate_messages.reset_index(inplace=True)\n",
    "ultimate_messages.columns = ['user_id','mean','var','std']\n",
    "ultimate_messages"
   ]
  },
  {
   "cell_type": "markdown",
   "id": "0c0ca258",
   "metadata": {},
   "source": [
    "**The NaN values in the columns var and std inside the pivot tables above are caused by users who only had one month of subscription to a calling plan**"
   ]
  },
  {
   "cell_type": "code",
   "execution_count": 54,
   "id": "ac6375f0",
   "metadata": {},
   "outputs": [],
   "source": [
    "surf_messages_up = np.percentile(surf_users['messages'],98)\n",
    "surf_messages_low = np.percentile(surf_users['messages'],2)\n",
    "ultimate_messages_up = np.percentile(ultimate_users['messages'],98)\n",
    "ultimate_messages_low = np.percentile(ultimate_users['messages'],2)"
   ]
  },
  {
   "cell_type": "code",
   "execution_count": 55,
   "id": "e3c0b8d4",
   "metadata": {},
   "outputs": [
    {
     "data": {
      "text/plain": [
       "<matplotlib.legend.Legend at 0x20bb6349fd0>"
      ]
     },
     "execution_count": 55,
     "metadata": {},
     "output_type": "execute_result"
    },
    {
     "data": {
      "image/png": "[encoded data removed]",
      "text/plain": [
       "<Figure size 864x360 with 1 Axes>"
      ]
     },
     "metadata": {
      "needs_background": "light"
     },
     "output_type": "display_data"
    }
   ],
   "source": [
    "surf_users = surf_users.query('messages > @surf_messages_low and messages < @surf_messages_up')\n",
    "ultimate_users = ultimate_users.query('messages > @ultimate_messages_low and messages < @ultimate_messages_up')\n",
    "plt.figure(figsize=(12,5))\n",
    "sns.histplot(data=surf_users, x='messages',label='surf')\n",
    "sns.histplot(data=ultimate_users,x='messages',color='g',label='ultimate')\n",
    "plt.gca().set(title='Freuncy histogram of messages used for each plan', ylabel='Frequency',xlabel='Messages')\n",
    "plt.legend()"
   ]
  },
  {
   "cell_type": "markdown",
   "id": "5f6501b1",
   "metadata": {},
   "source": [
    "**We can see that the distribution of messages for both plans are very similar, the only difference is the overall messages amount. This can be explained by the fact that there are less users subscribed with the ultimate calling plan.\n",
    "Same as the minutes per user**"
   ]
  },
  {
   "cell_type": "markdown",
   "id": "c0cd021f",
   "metadata": {},
   "source": [
    "**Analyze data volume per user_id**"
   ]
  },
  {
   "cell_type": "code",
   "execution_count": 56,
   "id": "968418f7",
   "metadata": {
    "scrolled": true
   },
   "outputs": [
    {
     "data": {
      "text/html": [
       "<div>\n",
       "<style scoped>\n",
       "    .dataframe tbody tr th:only-of-type {\n",
       "        vertical-align: middle;\n",
       "    }\n",
       "\n",
       "    .dataframe tbody tr th {\n",
       "        vertical-align: top;\n",
       "    }\n",
       "\n",
       "    .dataframe thead th {\n",
       "        text-align: right;\n",
       "    }\n",
       "</style>\n",
       "<table border=\"1\" class=\"dataframe\">\n",
       "  <thead>\n",
       "    <tr style=\"text-align: right;\">\n",
       "      <th></th>\n",
       "      <th>user_id</th>\n",
       "      <th>mean</th>\n",
       "      <th>var</th>\n",
       "      <th>std</th>\n",
       "    </tr>\n",
       "  </thead>\n",
       "  <tbody>\n",
       "    <tr>\n",
       "      <th>0</th>\n",
       "      <td>1001</td>\n",
       "      <td>16087.588000</td>\n",
       "      <td>3.683292e+07</td>\n",
       "      <td>6069.012812</td>\n",
       "    </tr>\n",
       "    <tr>\n",
       "      <th>1</th>\n",
       "      <td>1002</td>\n",
       "      <td>13431.110000</td>\n",
       "      <td>4.161427e+07</td>\n",
       "      <td>6450.912102</td>\n",
       "    </tr>\n",
       "    <tr>\n",
       "      <th>2</th>\n",
       "      <td>1004</td>\n",
       "      <td>19544.101250</td>\n",
       "      <td>4.290587e+07</td>\n",
       "      <td>6550.257286</td>\n",
       "    </tr>\n",
       "    <tr>\n",
       "      <th>3</th>\n",
       "      <td>1005</td>\n",
       "      <td>17140.170000</td>\n",
       "      <td>NaN</td>\n",
       "      <td>NaN</td>\n",
       "    </tr>\n",
       "    <tr>\n",
       "      <th>4</th>\n",
       "      <td>1007</td>\n",
       "      <td>28770.548000</td>\n",
       "      <td>3.050742e+07</td>\n",
       "      <td>5523.352540</td>\n",
       "    </tr>\n",
       "    <tr>\n",
       "      <th>...</th>\n",
       "      <td>...</td>\n",
       "      <td>...</td>\n",
       "      <td>...</td>\n",
       "      <td>...</td>\n",
       "    </tr>\n",
       "    <tr>\n",
       "      <th>257</th>\n",
       "      <td>1489</td>\n",
       "      <td>15248.937500</td>\n",
       "      <td>5.281780e+06</td>\n",
       "      <td>2298.212343</td>\n",
       "    </tr>\n",
       "    <tr>\n",
       "      <th>258</th>\n",
       "      <td>1491</td>\n",
       "      <td>7005.630000</td>\n",
       "      <td>1.029130e+07</td>\n",
       "      <td>3208.006279</td>\n",
       "    </tr>\n",
       "    <tr>\n",
       "      <th>259</th>\n",
       "      <td>1492</td>\n",
       "      <td>10205.990000</td>\n",
       "      <td>3.321336e+07</td>\n",
       "      <td>5763.103209</td>\n",
       "    </tr>\n",
       "    <tr>\n",
       "      <th>260</th>\n",
       "      <td>1494</td>\n",
       "      <td>15231.531667</td>\n",
       "      <td>7.081829e+06</td>\n",
       "      <td>2661.170686</td>\n",
       "    </tr>\n",
       "    <tr>\n",
       "      <th>261</th>\n",
       "      <td>1496</td>\n",
       "      <td>12853.728000</td>\n",
       "      <td>1.600009e+07</td>\n",
       "      <td>4000.010895</td>\n",
       "    </tr>\n",
       "  </tbody>\n",
       "</table>\n",
       "<p>262 rows × 4 columns</p>\n",
       "</div>"
      ],
      "text/plain": [
       "     user_id          mean           var          std\n",
       "0       1001  16087.588000  3.683292e+07  6069.012812\n",
       "1       1002  13431.110000  4.161427e+07  6450.912102\n",
       "2       1004  19544.101250  4.290587e+07  6550.257286\n",
       "3       1005  17140.170000           NaN          NaN\n",
       "4       1007  28770.548000  3.050742e+07  5523.352540\n",
       "..       ...           ...           ...          ...\n",
       "257     1489  15248.937500  5.281780e+06  2298.212343\n",
       "258     1491   7005.630000  1.029130e+07  3208.006279\n",
       "259     1492  10205.990000  3.321336e+07  5763.103209\n",
       "260     1494  15231.531667  7.081829e+06  2661.170686\n",
       "261     1496  12853.728000  1.600009e+07  4000.010895\n",
       "\n",
       "[262 rows x 4 columns]"
      ]
     },
     "execution_count": 56,
     "metadata": {},
     "output_type": "execute_result"
    }
   ],
   "source": [
    "surf_mb_used = surf_users.pivot_table(values='mb_used',index='user_id',aggfunc=['mean','var','std'])\n",
    "surf_mb_used.reset_index(inplace=True)\n",
    "surf_mb_used.columns = ['user_id','mean','var','std']\n",
    "surf_mb_used"
   ]
  },
  {
   "cell_type": "code",
   "execution_count": 57,
   "id": "6848983b",
   "metadata": {
    "scrolled": true
   },
   "outputs": [
    {
     "data": {
      "text/html": [
       "<div>\n",
       "<style scoped>\n",
       "    .dataframe tbody tr th:only-of-type {\n",
       "        vertical-align: middle;\n",
       "    }\n",
       "\n",
       "    .dataframe tbody tr th {\n",
       "        vertical-align: top;\n",
       "    }\n",
       "\n",
       "    .dataframe thead th {\n",
       "        text-align: right;\n",
       "    }\n",
       "</style>\n",
       "<table border=\"1\" class=\"dataframe\">\n",
       "  <thead>\n",
       "    <tr style=\"text-align: right;\">\n",
       "      <th></th>\n",
       "      <th>user_id</th>\n",
       "      <th>mean</th>\n",
       "      <th>var</th>\n",
       "      <th>std</th>\n",
       "    </tr>\n",
       "  </thead>\n",
       "  <tbody>\n",
       "    <tr>\n",
       "      <th>0</th>\n",
       "      <td>1000</td>\n",
       "      <td>1901.470000</td>\n",
       "      <td>NaN</td>\n",
       "      <td>NaN</td>\n",
       "    </tr>\n",
       "    <tr>\n",
       "      <th>1</th>\n",
       "      <td>1008</td>\n",
       "      <td>18491.013333</td>\n",
       "      <td>2.162994e+07</td>\n",
       "      <td>4650.799414</td>\n",
       "    </tr>\n",
       "    <tr>\n",
       "      <th>2</th>\n",
       "      <td>1011</td>\n",
       "      <td>18825.514286</td>\n",
       "      <td>3.445490e+07</td>\n",
       "      <td>5869.829757</td>\n",
       "    </tr>\n",
       "    <tr>\n",
       "      <th>3</th>\n",
       "      <td>1013</td>\n",
       "      <td>20113.920000</td>\n",
       "      <td>NaN</td>\n",
       "      <td>NaN</td>\n",
       "    </tr>\n",
       "    <tr>\n",
       "      <th>4</th>\n",
       "      <td>1026</td>\n",
       "      <td>6612.230000</td>\n",
       "      <td>6.407341e+06</td>\n",
       "      <td>2531.272571</td>\n",
       "    </tr>\n",
       "    <tr>\n",
       "      <th>...</th>\n",
       "      <td>...</td>\n",
       "      <td>...</td>\n",
       "      <td>...</td>\n",
       "      <td>...</td>\n",
       "    </tr>\n",
       "    <tr>\n",
       "      <th>122</th>\n",
       "      <td>1477</td>\n",
       "      <td>23269.075000</td>\n",
       "      <td>4.403752e+07</td>\n",
       "      <td>6636.076933</td>\n",
       "    </tr>\n",
       "    <tr>\n",
       "      <th>123</th>\n",
       "      <td>1478</td>\n",
       "      <td>16538.128000</td>\n",
       "      <td>2.040804e+07</td>\n",
       "      <td>4517.526238</td>\n",
       "    </tr>\n",
       "    <tr>\n",
       "      <th>124</th>\n",
       "      <td>1482</td>\n",
       "      <td>10403.065000</td>\n",
       "      <td>1.937589e+08</td>\n",
       "      <td>13919.729328</td>\n",
       "    </tr>\n",
       "    <tr>\n",
       "      <th>125</th>\n",
       "      <td>1487</td>\n",
       "      <td>13992.390000</td>\n",
       "      <td>NaN</td>\n",
       "      <td>NaN</td>\n",
       "    </tr>\n",
       "    <tr>\n",
       "      <th>126</th>\n",
       "      <td>1497</td>\n",
       "      <td>11106.550000</td>\n",
       "      <td>NaN</td>\n",
       "      <td>NaN</td>\n",
       "    </tr>\n",
       "  </tbody>\n",
       "</table>\n",
       "<p>127 rows × 4 columns</p>\n",
       "</div>"
      ],
      "text/plain": [
       "     user_id          mean           var           std\n",
       "0       1000   1901.470000           NaN           NaN\n",
       "1       1008  18491.013333  2.162994e+07   4650.799414\n",
       "2       1011  18825.514286  3.445490e+07   5869.829757\n",
       "3       1013  20113.920000           NaN           NaN\n",
       "4       1026   6612.230000  6.407341e+06   2531.272571\n",
       "..       ...           ...           ...           ...\n",
       "122     1477  23269.075000  4.403752e+07   6636.076933\n",
       "123     1478  16538.128000  2.040804e+07   4517.526238\n",
       "124     1482  10403.065000  1.937589e+08  13919.729328\n",
       "125     1487  13992.390000           NaN           NaN\n",
       "126     1497  11106.550000           NaN           NaN\n",
       "\n",
       "[127 rows x 4 columns]"
      ]
     },
     "execution_count": 57,
     "metadata": {},
     "output_type": "execute_result"
    }
   ],
   "source": [
    "ultimate_mb_used = ultimate_users.pivot_table(values='mb_used',index='user_id',aggfunc=['mean','var','std'])\n",
    "ultimate_mb_used.reset_index(inplace=True)\n",
    "ultimate_mb_used.columns = ['user_id','mean','var','std']\n",
    "ultimate_mb_used"
   ]
  },
  {
   "cell_type": "markdown",
   "id": "fa939326",
   "metadata": {},
   "source": [
    "**The NaN values in the columns var and std inside the pivot tables above are caused by users who only had one month of subscription to a calling plan**"
   ]
  },
  {
   "cell_type": "code",
   "execution_count": 58,
   "id": "da9079ee",
   "metadata": {},
   "outputs": [],
   "source": [
    "surf_mb_used_up = np.percentile(surf_users['mb_used'],98)\n",
    "surf_mb_used_low = np.percentile(surf_users['mb_used'],2)\n",
    "ultimate_mb_used_up = np.percentile(ultimate_users['mb_used'],98)\n",
    "ultimate_mb_used_low = np.percentile(ultimate_users['mb_used'],2)"
   ]
  },
  {
   "cell_type": "code",
   "execution_count": 59,
   "id": "67d0d607",
   "metadata": {},
   "outputs": [
    {
     "data": {
      "text/plain": [
       "<matplotlib.legend.Legend at 0x20bb671f9d0>"
      ]
     },
     "execution_count": 59,
     "metadata": {},
     "output_type": "execute_result"
    },
    {
     "data": {
      "image/png": "[encoded data removed]",
      "text/plain": [
       "<Figure size 864x360 with 1 Axes>"
      ]
     },
     "metadata": {
      "needs_background": "light"
     },
     "output_type": "display_data"
    }
   ],
   "source": [
    "surf_users = surf_users.query('mb_used > @surf_mb_used_low and mb_used < @surf_mb_used_up')\n",
    "ultimate_users = ultimate_users.query('mb_used > @ultimate_mb_used_low and mb_used < @ultimate_mb_used_up')\n",
    "plt.figure(figsize=(12,5))\n",
    "sns.histplot(data=surf_users, x='mb_used',label='surf')\n",
    "sns.histplot(data=ultimate_users,x='mb_used',color='g',label='ultimate')\n",
    "plt.gca().set(title='Freuncy histogram of data used for each plan', ylabel='Frequency',xlabel='Data volume')\n",
    "plt.legend()"
   ]
  },
  {
   "cell_type": "markdown",
   "id": "9e53e6ca",
   "metadata": {},
   "source": [
    "**The frequncy histogram above showing is pretty close the a normal distribution**\n",
    "In addition, the distribution for both calling plans are pretty similar and again, ultimate ing general have less users comparing the surf plan"
   ]
  },
  {
   "cell_type": "markdown",
   "id": "6088fa66",
   "metadata": {},
   "source": [
    "## Test the hypotheses"
   ]
  },
  {
   "cell_type": "markdown",
   "id": "608eb9d5",
   "metadata": {},
   "source": [
    "**The average revenue from users of Ultimate and Surf calling plans differs.**"
   ]
  },
  {
   "cell_type": "code",
   "execution_count": 60,
   "id": "60fdb434",
   "metadata": {},
   "outputs": [],
   "source": [
    "from scipy import stats as st\n",
    "import random"
   ]
  },
  {
   "cell_type": "markdown",
   "id": "4646ddca",
   "metadata": {},
   "source": [
    "**From the results we get for each plan users average revenue my prediction is that the null hypotheis will be rejected.\n",
    "We will make a stat test to make sure of it**"
   ]
  },
  {
   "cell_type": "code",
   "execution_count": 61,
   "id": "a0aab081",
   "metadata": {},
   "outputs": [
    {
     "name": "stdout",
     "output_type": "stream",
     "text": [
      "p-value: 1.619661570592712e-29\n",
      "We reject the null hypothesis\n"
     ]
    }
   ],
   "source": [
    "# The null hypothesis\n",
    "\n",
    "alpha = 0.05\n",
    "results = st.ttest_ind(surf_users['total_cost'],ultimate_users['total_cost'])\n",
    "print('p-value:',results.pvalue)\n",
    "\n",
    "if (results.pvalue < alpha):\n",
    "    print('We reject the null hypothesis')\n",
    "else:\n",
    "    print(\"We can't reject the null hypothesis\")"
   ]
  },
  {
   "cell_type": "markdown",
   "id": "1cd189e9",
   "metadata": {},
   "source": [
    "**The result of the t-test is a clear evidence that the users revenue of each plan differs.\n",
    "Our next step will be to determine which of the plan has a bigger revenue on average, we'll do that by checking which median has a greater value**"
   ]
  },
  {
   "cell_type": "code",
   "execution_count": 62,
   "id": "d3288bb6",
   "metadata": {},
   "outputs": [
    {
     "name": "stdout",
     "output_type": "stream",
     "text": [
      "The ultimate plan average revenue is greater then the surf plan\n"
     ]
    }
   ],
   "source": [
    "surf_rev_median = surf_users['total_cost'].median()\n",
    "ultimate_rev_median = ultimate_users['total_cost'].median()\n",
    "if surf_rev_median > ultimate_rev_median:\n",
    "    print('The surf plan average revenue is greater then the ultimate plan')\n",
    "else:\n",
    "    print('The ultimate plan average revenue is greater then the surf plan')"
   ]
  },
  {
   "cell_type": "markdown",
   "id": "62520c80",
   "metadata": {},
   "source": [
    "**Our second hypothesis us that The average revenue from users in NY-NJ area is different from that of the users from other regions.\n",
    "We'll use stat test again on different values**"
   ]
  },
  {
   "cell_type": "code",
   "execution_count": 63,
   "id": "63acf479",
   "metadata": {},
   "outputs": [],
   "source": [
    "NY_NJ_users = data.query('city == \"New York-Newark-Jersey City, NY-NJ-PA MSA\"')\n",
    "not_NY_NJ_users = data.query('city != \"New York-Newark-Jersey City, NY-NJ-PA MSA\"')"
   ]
  },
  {
   "cell_type": "code",
   "execution_count": 64,
   "id": "f998640e",
   "metadata": {
    "scrolled": true
   },
   "outputs": [
    {
     "name": "stdout",
     "output_type": "stream",
     "text": [
      "p-value: 0.028079927103623847\n",
      "We reject the null hypothesis\n"
     ]
    }
   ],
   "source": [
    "alpha = 0.05 \n",
    "\n",
    "results_2 = st.ttest_ind(NY_NJ_users['total_cost'],not_NY_NJ_users['total_cost'])\n",
    "\n",
    "print('p-value:',results_2.pvalue)\n",
    "\n",
    "if (results_2.pvalue < alpha):\n",
    "    print('We reject the null hypothesis')\n",
    "else:\n",
    "    print(\"We can't reject the null hypothesis\")\n"
   ]
  },
  {
   "cell_type": "markdown",
   "id": "4d143fec",
   "metadata": {},
   "source": [
    "**Our results from the stat test show us that there is no significant difference between users from the NY-NJ area to other areas.**"
   ]
  },
  {
   "cell_type": "markdown",
   "id": "0595ef2b",
   "metadata": {},
   "source": [
    "## Overall conclusion"
   ]
  },
  {
   "cell_type": "markdown",
   "id": "322e2e61",
   "metadata": {},
   "source": [
    "**Ultimate calling plan brings more revenue on average comparing to the surf calling plan.\n",
    "An impossible reason to the fact that the ulitmate plan has a significant larger revenue (comparing to the surf plan) is the monthly charge which is cost more then twice then the surf plan.\n",
    "Further investigation can be with investigate the users age, which maybe affect the revenue.**"
   ]
  }
 ],
 "metadata": {
  "ExecuteTimeLog": [
   {
    "duration": 1543,
    "start_time": "2022-02-13T14:51:06.870Z"
   },
   {
    "duration": 367,
    "start_time": "2022-02-13T14:51:08.416Z"
   },
   {
    "duration": 331,
    "start_time": "2022-02-13T14:51:08.786Z"
   },
   {
    "duration": 283,
    "start_time": "2022-02-13T14:51:09.120Z"
   },
   {
    "duration": 227,
    "start_time": "2022-02-13T14:51:09.405Z"
   },
   {
    "duration": 375,
    "start_time": "2022-02-13T14:51:09.635Z"
   },
   {
    "duration": 5,
    "start_time": "2022-02-13T14:51:10.012Z"
   },
   {
    "duration": 132,
    "start_time": "2022-02-13T14:51:10.019Z"
   },
   {
    "duration": 100,
    "start_time": "2022-02-13T14:51:10.155Z"
   },
   {
    "duration": 64,
    "start_time": "2022-02-13T14:51:10.257Z"
   },
   {
    "duration": 82,
    "start_time": "2022-02-13T14:51:10.324Z"
   },
   {
    "duration": 107,
    "start_time": "2022-02-13T14:51:10.409Z"
   },
   {
    "duration": 86,
    "start_time": "2022-02-13T14:51:10.519Z"
   },
   {
    "duration": 37,
    "start_time": "2022-02-13T14:51:10.608Z"
   },
   {
    "duration": 117,
    "start_time": "2022-02-13T14:51:10.648Z"
   },
   {
    "duration": 126,
    "start_time": "2022-02-13T14:51:10.767Z"
   },
   {
    "duration": 51,
    "start_time": "2022-02-13T14:51:10.896Z"
   },
   {
    "duration": 48,
    "start_time": "2022-02-13T14:51:10.949Z"
   },
   {
    "duration": 54,
    "start_time": "2022-02-13T14:51:11.000Z"
   },
   {
    "duration": 103,
    "start_time": "2022-02-13T14:51:11.057Z"
   },
   {
    "duration": 103,
    "start_time": "2022-02-13T14:51:11.162Z"
   },
   {
    "duration": 106,
    "start_time": "2022-02-13T14:51:11.267Z"
   },
   {
    "duration": 139,
    "start_time": "2022-02-13T14:51:11.375Z"
   },
   {
    "duration": 64,
    "start_time": "2022-02-13T14:51:11.516Z"
   },
   {
    "duration": 42,
    "start_time": "2022-02-13T14:51:11.583Z"
   },
   {
    "duration": 69,
    "start_time": "2022-02-13T14:51:11.628Z"
   },
   {
    "duration": 6,
    "start_time": "2022-02-13T14:51:11.706Z"
   },
   {
    "duration": 147,
    "start_time": "2022-02-13T14:51:11.717Z"
   },
   {
    "duration": 15,
    "start_time": "2022-02-13T14:51:11.867Z"
   },
   {
    "duration": 91,
    "start_time": "2022-02-13T14:51:11.884Z"
   },
   {
    "duration": 64,
    "start_time": "2022-02-13T14:51:11.977Z"
   },
   {
    "duration": 21,
    "start_time": "2022-02-13T14:51:12.044Z"
   },
   {
    "duration": 47,
    "start_time": "2022-02-13T14:51:12.070Z"
   },
   {
    "duration": 49,
    "start_time": "2022-02-13T14:51:12.119Z"
   },
   {
    "duration": 60,
    "start_time": "2022-02-13T14:51:12.171Z"
   },
   {
    "duration": 24,
    "start_time": "2022-02-13T14:51:12.234Z"
   },
   {
    "duration": 108,
    "start_time": "2022-02-13T14:51:12.260Z"
   },
   {
    "duration": 202,
    "start_time": "2022-02-13T14:51:12.371Z"
   },
   {
    "duration": 57,
    "start_time": "2022-02-13T14:51:12.576Z"
   },
   {
    "duration": 45,
    "start_time": "2022-02-13T14:51:12.636Z"
   },
   {
    "duration": 232,
    "start_time": "2022-02-13T14:51:12.684Z"
   },
   {
    "duration": 23,
    "start_time": "2022-02-13T14:51:12.919Z"
   },
   {
    "duration": 119,
    "start_time": "2022-02-13T14:51:12.945Z"
   },
   {
    "duration": 40,
    "start_time": "2022-02-13T14:51:13.067Z"
   },
   {
    "duration": 90,
    "start_time": "2022-02-13T14:51:13.109Z"
   },
   {
    "duration": 193,
    "start_time": "2022-02-13T14:51:13.202Z"
   },
   {
    "duration": 59,
    "start_time": "2022-02-13T14:51:13.397Z"
   },
   {
    "duration": 98,
    "start_time": "2022-02-13T14:51:13.459Z"
   },
   {
    "duration": 40,
    "start_time": "2022-02-13T14:51:13.560Z"
   },
   {
    "duration": 538,
    "start_time": "2022-02-13T14:51:13.602Z"
   },
   {
    "duration": -751,
    "start_time": "2022-02-13T14:51:14.893Z"
   },
   {
    "duration": -751,
    "start_time": "2022-02-13T14:51:14.895Z"
   },
   {
    "duration": -752,
    "start_time": "2022-02-13T14:51:14.897Z"
   },
   {
    "duration": -753,
    "start_time": "2022-02-13T14:51:14.900Z"
   },
   {
    "duration": -754,
    "start_time": "2022-02-13T14:51:14.902Z"
   },
   {
    "duration": -755,
    "start_time": "2022-02-13T14:51:14.904Z"
   },
   {
    "duration": -763,
    "start_time": "2022-02-13T14:51:14.914Z"
   },
   {
    "duration": -766,
    "start_time": "2022-02-13T14:51:14.918Z"
   },
   {
    "duration": -766,
    "start_time": "2022-02-13T14:51:14.920Z"
   },
   {
    "duration": -777,
    "start_time": "2022-02-13T14:51:14.932Z"
   },
   {
    "duration": -779,
    "start_time": "2022-02-13T14:51:14.936Z"
   },
   {
    "duration": -781,
    "start_time": "2022-02-13T14:51:14.940Z"
   },
   {
    "duration": -801,
    "start_time": "2022-02-13T14:51:14.962Z"
   },
   {
    "duration": -806,
    "start_time": "2022-02-13T14:51:14.969Z"
   },
   {
    "duration": -805,
    "start_time": "2022-02-13T14:51:14.971Z"
   },
   {
    "duration": 39,
    "start_time": "2022-02-13T16:26:39.448Z"
   },
   {
    "duration": 9,
    "start_time": "2022-02-13T16:26:43.423Z"
   },
   {
    "duration": 10186,
    "start_time": "2022-02-13T16:30:08.390Z"
   },
   {
    "duration": 366,
    "start_time": "2022-02-13T16:30:18.579Z"
   },
   {
    "duration": 4314,
    "start_time": "2022-02-13T16:30:26.795Z"
   },
   {
    "duration": 381,
    "start_time": "2022-02-13T16:30:31.112Z"
   },
   {
    "duration": 3654,
    "start_time": "2022-02-13T16:31:14.370Z"
   },
   {
    "duration": 367,
    "start_time": "2022-02-13T16:31:21.275Z"
   },
   {
    "duration": 1639,
    "start_time": "2022-02-13T16:34:46.070Z"
   },
   {
    "duration": 465,
    "start_time": "2022-02-13T16:34:47.712Z"
   },
   {
    "duration": 424,
    "start_time": "2022-02-13T16:34:48.181Z"
   },
   {
    "duration": 881,
    "start_time": "2022-02-13T16:34:48.608Z"
   },
   {
    "duration": 1252,
    "start_time": "2022-02-13T16:34:49.493Z"
   },
   {
    "duration": 794,
    "start_time": "2022-02-13T16:34:50.748Z"
   },
   {
    "duration": 911,
    "start_time": "2022-02-13T16:34:51.544Z"
   },
   {
    "duration": 803,
    "start_time": "2022-02-13T16:34:52.459Z"
   },
   {
    "duration": 733,
    "start_time": "2022-02-13T16:34:53.265Z"
   },
   {
    "duration": 1264,
    "start_time": "2022-02-13T16:34:54.001Z"
   },
   {
    "duration": 597,
    "start_time": "2022-02-13T16:34:55.267Z"
   },
   {
    "duration": -808,
    "start_time": "2022-02-13T16:34:56.677Z"
   },
   {
    "duration": -818,
    "start_time": "2022-02-13T16:34:56.688Z"
   },
   {
    "duration": -820,
    "start_time": "2022-02-13T16:34:56.692Z"
   },
   {
    "duration": -821,
    "start_time": "2022-02-13T16:34:56.694Z"
   },
   {
    "duration": -822,
    "start_time": "2022-02-13T16:34:56.697Z"
   },
   {
    "duration": -823,
    "start_time": "2022-02-13T16:34:56.700Z"
   },
   {
    "duration": -824,
    "start_time": "2022-02-13T16:34:56.702Z"
   },
   {
    "duration": -824,
    "start_time": "2022-02-13T16:34:56.704Z"
   },
   {
    "duration": -826,
    "start_time": "2022-02-13T16:34:56.707Z"
   },
   {
    "duration": -827,
    "start_time": "2022-02-13T16:34:56.710Z"
   },
   {
    "duration": -827,
    "start_time": "2022-02-13T16:34:56.712Z"
   },
   {
    "duration": -827,
    "start_time": "2022-02-13T16:34:56.714Z"
   },
   {
    "duration": -828,
    "start_time": "2022-02-13T16:34:56.716Z"
   },
   {
    "duration": -828,
    "start_time": "2022-02-13T16:34:56.718Z"
   },
   {
    "duration": -828,
    "start_time": "2022-02-13T16:34:56.720Z"
   },
   {
    "duration": -829,
    "start_time": "2022-02-13T16:34:56.722Z"
   },
   {
    "duration": -830,
    "start_time": "2022-02-13T16:34:56.725Z"
   },
   {
    "duration": -831,
    "start_time": "2022-02-13T16:34:56.727Z"
   },
   {
    "duration": -840,
    "start_time": "2022-02-13T16:34:56.738Z"
   },
   {
    "duration": -842,
    "start_time": "2022-02-13T16:34:56.741Z"
   },
   {
    "duration": -842,
    "start_time": "2022-02-13T16:34:56.743Z"
   },
   {
    "duration": -842,
    "start_time": "2022-02-13T16:34:56.745Z"
   },
   {
    "duration": -814,
    "start_time": "2022-02-13T16:34:56.747Z"
   },
   {
    "duration": -816,
    "start_time": "2022-02-13T16:34:56.750Z"
   },
   {
    "duration": -817,
    "start_time": "2022-02-13T16:34:56.753Z"
   },
   {
    "duration": -824,
    "start_time": "2022-02-13T16:34:56.761Z"
   },
   {
    "duration": -825,
    "start_time": "2022-02-13T16:34:56.763Z"
   },
   {
    "duration": -826,
    "start_time": "2022-02-13T16:34:56.766Z"
   },
   {
    "duration": -826,
    "start_time": "2022-02-13T16:34:56.768Z"
   },
   {
    "duration": -826,
    "start_time": "2022-02-13T16:34:56.770Z"
   },
   {
    "duration": -827,
    "start_time": "2022-02-13T16:34:56.773Z"
   },
   {
    "duration": -828,
    "start_time": "2022-02-13T16:34:56.775Z"
   },
   {
    "duration": -829,
    "start_time": "2022-02-13T16:34:56.777Z"
   },
   {
    "duration": -838,
    "start_time": "2022-02-13T16:34:56.787Z"
   },
   {
    "duration": -839,
    "start_time": "2022-02-13T16:34:56.789Z"
   },
   {
    "duration": -841,
    "start_time": "2022-02-13T16:34:56.792Z"
   },
   {
    "duration": -842,
    "start_time": "2022-02-13T16:34:56.794Z"
   },
   {
    "duration": -843,
    "start_time": "2022-02-13T16:34:56.796Z"
   },
   {
    "duration": -845,
    "start_time": "2022-02-13T16:34:56.799Z"
   },
   {
    "duration": -845,
    "start_time": "2022-02-13T16:34:56.801Z"
   },
   {
    "duration": -856,
    "start_time": "2022-02-13T16:34:56.813Z"
   },
   {
    "duration": -856,
    "start_time": "2022-02-13T16:34:56.815Z"
   },
   {
    "duration": -867,
    "start_time": "2022-02-13T16:34:56.827Z"
   },
   {
    "duration": -868,
    "start_time": "2022-02-13T16:34:56.830Z"
   },
   {
    "duration": -877,
    "start_time": "2022-02-13T16:34:56.840Z"
   },
   {
    "duration": -878,
    "start_time": "2022-02-13T16:34:56.842Z"
   },
   {
    "duration": -882,
    "start_time": "2022-02-13T16:34:56.848Z"
   },
   {
    "duration": -897,
    "start_time": "2022-02-13T16:34:56.864Z"
   },
   {
    "duration": -925,
    "start_time": "2022-02-13T16:34:56.894Z"
   },
   {
    "duration": -928,
    "start_time": "2022-02-13T16:34:56.898Z"
   },
   {
    "duration": -868,
    "start_time": "2022-02-13T16:34:56.902Z"
   },
   {
    "duration": -869,
    "start_time": "2022-02-13T16:34:56.904Z"
   },
   {
    "duration": -874,
    "start_time": "2022-02-13T16:34:56.911Z"
   },
   {
    "duration": -875,
    "start_time": "2022-02-13T16:34:56.913Z"
   },
   {
    "duration": -877,
    "start_time": "2022-02-13T16:34:56.916Z"
   },
   {
    "duration": 7114,
    "start_time": "2022-02-13T16:35:34.572Z"
   },
   {
    "duration": 2198,
    "start_time": "2022-02-13T16:35:41.691Z"
   },
   {
    "duration": 1573,
    "start_time": "2022-02-13T16:35:43.893Z"
   },
   {
    "duration": 1592,
    "start_time": "2022-02-13T16:35:45.469Z"
   },
   {
    "duration": 1543,
    "start_time": "2022-02-13T16:35:47.064Z"
   },
   {
    "duration": 1477,
    "start_time": "2022-02-13T16:35:48.610Z"
   },
   {
    "duration": 1361,
    "start_time": "2022-02-13T16:35:50.090Z"
   },
   {
    "duration": 445,
    "start_time": "2022-02-13T16:35:51.455Z"
   },
   {
    "duration": 755,
    "start_time": "2022-02-13T16:35:51.903Z"
   },
   {
    "duration": 1056,
    "start_time": "2022-02-13T16:35:52.660Z"
   },
   {
    "duration": 862,
    "start_time": "2022-02-13T16:35:53.719Z"
   },
   {
    "duration": 848,
    "start_time": "2022-02-13T16:35:54.584Z"
   },
   {
    "duration": 367,
    "start_time": "2022-02-13T16:35:55.434Z"
   },
   {
    "duration": 288,
    "start_time": "2022-02-13T16:35:55.803Z"
   },
   {
    "duration": 286,
    "start_time": "2022-02-13T16:35:56.095Z"
   },
   {
    "duration": 479,
    "start_time": "2022-02-13T16:35:56.383Z"
   },
   {
    "duration": 475,
    "start_time": "2022-02-13T16:35:56.865Z"
   },
   {
    "duration": 261,
    "start_time": "2022-02-13T16:35:57.343Z"
   },
   {
    "duration": 290,
    "start_time": "2022-02-13T16:35:57.606Z"
   },
   {
    "duration": 282,
    "start_time": "2022-02-13T16:35:57.900Z"
   },
   {
    "duration": 257,
    "start_time": "2022-02-13T16:35:58.185Z"
   },
   {
    "duration": 224,
    "start_time": "2022-02-13T16:35:58.446Z"
   },
   {
    "duration": 387,
    "start_time": "2022-02-13T16:35:58.680Z"
   },
   {
    "duration": 346,
    "start_time": "2022-02-13T16:35:59.070Z"
   },
   {
    "duration": 230,
    "start_time": "2022-02-13T16:35:59.419Z"
   },
   {
    "duration": 880,
    "start_time": "2022-02-13T16:35:59.652Z"
   },
   {
    "duration": 481,
    "start_time": "2022-02-13T16:36:00.535Z"
   },
   {
    "duration": 269,
    "start_time": "2022-02-13T16:36:01.020Z"
   },
   {
    "duration": 621,
    "start_time": "2022-02-13T16:36:01.292Z"
   },
   {
    "duration": 347,
    "start_time": "2022-02-13T16:36:01.916Z"
   },
   {
    "duration": 322,
    "start_time": "2022-02-13T16:36:02.266Z"
   },
   {
    "duration": 497,
    "start_time": "2022-02-13T16:36:02.590Z"
   },
   {
    "duration": 314,
    "start_time": "2022-02-13T16:36:03.090Z"
   },
   {
    "duration": 427,
    "start_time": "2022-02-13T16:36:03.407Z"
   },
   {
    "duration": 394,
    "start_time": "2022-02-13T16:36:03.837Z"
   },
   {
    "duration": 376,
    "start_time": "2022-02-13T16:36:04.233Z"
   },
   {
    "duration": 644,
    "start_time": "2022-02-13T16:36:04.613Z"
   },
   {
    "duration": 448,
    "start_time": "2022-02-13T16:36:05.259Z"
   },
   {
    "duration": 393,
    "start_time": "2022-02-13T16:36:05.709Z"
   },
   {
    "duration": 522,
    "start_time": "2022-02-13T16:36:06.104Z"
   },
   {
    "duration": 322,
    "start_time": "2022-02-13T16:36:06.629Z"
   },
   {
    "duration": 450,
    "start_time": "2022-02-13T16:36:06.954Z"
   },
   {
    "duration": 33,
    "start_time": "2022-02-13T16:36:07.407Z"
   },
   {
    "duration": 466,
    "start_time": "2022-02-13T16:36:07.443Z"
   },
   {
    "duration": 408,
    "start_time": "2022-02-13T16:36:07.911Z"
   },
   {
    "duration": 363,
    "start_time": "2022-02-13T16:36:08.321Z"
   },
   {
    "duration": 454,
    "start_time": "2022-02-13T16:36:08.686Z"
   },
   {
    "duration": 364,
    "start_time": "2022-02-13T16:36:09.142Z"
   },
   {
    "duration": 342,
    "start_time": "2022-02-13T16:36:09.509Z"
   },
   {
    "duration": 282,
    "start_time": "2022-02-13T16:36:09.854Z"
   },
   {
    "duration": 988,
    "start_time": "2022-02-13T16:36:10.139Z"
   },
   {
    "duration": 45,
    "start_time": "2022-02-13T16:36:11.133Z"
   },
   {
    "duration": 592,
    "start_time": "2022-02-13T16:36:11.180Z"
   },
   {
    "duration": 262,
    "start_time": "2022-02-13T16:36:11.774Z"
   },
   {
    "duration": 922,
    "start_time": "2022-02-13T16:36:12.039Z"
   },
   {
    "duration": 71,
    "start_time": "2022-02-13T16:36:12.963Z"
   },
   {
    "duration": 1052,
    "start_time": "2022-02-13T16:36:13.037Z"
   },
   {
    "duration": 558,
    "start_time": "2022-02-13T16:36:14.092Z"
   },
   {
    "duration": 945,
    "start_time": "2022-02-13T16:36:14.653Z"
   },
   {
    "duration": 4,
    "start_time": "2022-02-13T16:36:15.600Z"
   },
   {
    "duration": 325,
    "start_time": "2022-02-13T16:36:15.606Z"
   },
   {
    "duration": 747,
    "start_time": "2022-02-13T16:36:15.933Z"
   },
   {
    "duration": 801,
    "start_time": "2022-02-13T16:36:16.683Z"
   },
   {
    "duration": 444,
    "start_time": "2022-02-13T16:36:17.486Z"
   },
   {
    "duration": 1095,
    "start_time": "2022-02-13T16:36:17.933Z"
   },
   {
    "duration": 880,
    "start_time": "2022-02-13T16:36:19.032Z"
   },
   {
    "duration": 12,
    "start_time": "2022-02-13T17:05:28.291Z"
   },
   {
    "duration": 8,
    "start_time": "2022-02-13T17:05:33.887Z"
   },
   {
    "duration": 12,
    "start_time": "2022-02-13T17:05:41.751Z"
   },
   {
    "duration": 8,
    "start_time": "2022-02-13T17:05:45.290Z"
   },
   {
    "duration": 15,
    "start_time": "2022-02-13T17:10:06.935Z"
   },
   {
    "duration": 10,
    "start_time": "2022-02-13T17:10:10.291Z"
   },
   {
    "duration": 11,
    "start_time": "2022-02-13T17:10:11.338Z"
   },
   {
    "duration": 7,
    "start_time": "2022-02-13T17:10:16.628Z"
   },
   {
    "duration": 3886,
    "start_time": "2022-02-13T17:21:52.099Z"
   },
   {
    "duration": 1500,
    "start_time": "2022-02-13T17:21:55.988Z"
   },
   {
    "duration": 342,
    "start_time": "2022-02-13T17:21:57.491Z"
   },
   {
    "duration": 332,
    "start_time": "2022-02-13T17:21:57.836Z"
   },
   {
    "duration": 272,
    "start_time": "2022-02-13T17:21:58.170Z"
   },
   {
    "duration": 533,
    "start_time": "2022-02-13T17:21:58.445Z"
   },
   {
    "duration": 232,
    "start_time": "2022-02-13T17:21:58.980Z"
   },
   {
    "duration": 4,
    "start_time": "2022-02-13T17:21:59.216Z"
   },
   {
    "duration": 54,
    "start_time": "2022-02-13T17:21:59.223Z"
   },
   {
    "duration": 33,
    "start_time": "2022-02-13T17:21:59.280Z"
   },
   {
    "duration": 26,
    "start_time": "2022-02-13T17:21:59.316Z"
   },
   {
    "duration": 11,
    "start_time": "2022-02-13T17:21:59.345Z"
   },
   {
    "duration": 23,
    "start_time": "2022-02-13T17:21:59.359Z"
   },
   {
    "duration": 84,
    "start_time": "2022-02-13T17:21:59.384Z"
   },
   {
    "duration": 22,
    "start_time": "2022-02-13T17:21:59.470Z"
   },
   {
    "duration": 13,
    "start_time": "2022-02-13T17:21:59.494Z"
   },
   {
    "duration": 10,
    "start_time": "2022-02-13T17:21:59.533Z"
   },
   {
    "duration": 14,
    "start_time": "2022-02-13T17:21:59.546Z"
   },
   {
    "duration": 28,
    "start_time": "2022-02-13T17:21:59.562Z"
   },
   {
    "duration": 26,
    "start_time": "2022-02-13T17:21:59.633Z"
   },
   {
    "duration": 71,
    "start_time": "2022-02-13T17:21:59.661Z"
   },
   {
    "duration": 16,
    "start_time": "2022-02-13T17:21:59.735Z"
   },
   {
    "duration": 30,
    "start_time": "2022-02-13T17:21:59.757Z"
   },
   {
    "duration": 48,
    "start_time": "2022-02-13T17:21:59.790Z"
   },
   {
    "duration": 25,
    "start_time": "2022-02-13T17:21:59.840Z"
   },
   {
    "duration": 30,
    "start_time": "2022-02-13T17:21:59.867Z"
   },
   {
    "duration": 41,
    "start_time": "2022-02-13T17:21:59.899Z"
   },
   {
    "duration": 4,
    "start_time": "2022-02-13T17:21:59.942Z"
   },
   {
    "duration": 90,
    "start_time": "2022-02-13T17:21:59.949Z"
   },
   {
    "duration": 11,
    "start_time": "2022-02-13T17:22:00.041Z"
   },
   {
    "duration": 53,
    "start_time": "2022-02-13T17:22:00.054Z"
   },
   {
    "duration": 29,
    "start_time": "2022-02-13T17:22:00.110Z"
   },
   {
    "duration": 15,
    "start_time": "2022-02-13T17:22:00.142Z"
   },
   {
    "duration": 42,
    "start_time": "2022-02-13T17:22:00.160Z"
   },
   {
    "duration": 45,
    "start_time": "2022-02-13T17:22:00.205Z"
   },
   {
    "duration": 46,
    "start_time": "2022-02-13T17:22:00.252Z"
   },
   {
    "duration": 44,
    "start_time": "2022-02-13T17:22:00.301Z"
   },
   {
    "duration": 8,
    "start_time": "2022-02-13T17:22:00.348Z"
   },
   {
    "duration": 30,
    "start_time": "2022-02-13T17:22:00.358Z"
   },
   {
    "duration": 14,
    "start_time": "2022-02-13T17:22:00.391Z"
   },
   {
    "duration": 24,
    "start_time": "2022-02-13T17:22:00.408Z"
   },
   {
    "duration": 194,
    "start_time": "2022-02-13T17:22:00.435Z"
   },
   {
    "duration": 15,
    "start_time": "2022-02-13T17:22:00.631Z"
   },
   {
    "duration": 40,
    "start_time": "2022-02-13T17:22:00.648Z"
   },
   {
    "duration": 45,
    "start_time": "2022-02-13T17:22:00.690Z"
   },
   {
    "duration": 28,
    "start_time": "2022-02-13T17:22:00.738Z"
   },
   {
    "duration": 71,
    "start_time": "2022-02-13T17:22:00.768Z"
   },
   {
    "duration": 6,
    "start_time": "2022-02-13T17:22:00.842Z"
   },
   {
    "duration": 64,
    "start_time": "2022-02-13T17:22:00.851Z"
   },
   {
    "duration": 44,
    "start_time": "2022-02-13T17:22:00.917Z"
   },
   {
    "duration": 591,
    "start_time": "2022-02-13T17:22:00.963Z"
   },
   {
    "duration": 45,
    "start_time": "2022-02-13T17:22:01.556Z"
   },
   {
    "duration": 64,
    "start_time": "2022-02-13T17:22:01.603Z"
   },
   {
    "duration": 8,
    "start_time": "2022-02-13T17:22:01.670Z"
   },
   {
    "duration": 553,
    "start_time": "2022-02-13T17:22:01.680Z"
   },
   {
    "duration": 44,
    "start_time": "2022-02-13T17:22:02.235Z"
   },
   {
    "duration": 69,
    "start_time": "2022-02-13T17:22:02.281Z"
   },
   {
    "duration": 6,
    "start_time": "2022-02-13T17:22:02.353Z"
   },
   {
    "duration": 593,
    "start_time": "2022-02-13T17:22:02.361Z"
   },
   {
    "duration": 3,
    "start_time": "2022-02-13T17:22:02.957Z"
   },
   {
    "duration": 23,
    "start_time": "2022-02-13T17:22:02.962Z"
   },
   {
    "duration": 14,
    "start_time": "2022-02-13T17:22:02.988Z"
   },
   {
    "duration": 33,
    "start_time": "2022-02-13T17:22:03.004Z"
   },
   {
    "duration": 10,
    "start_time": "2022-02-13T17:22:03.039Z"
   },
   {
    "duration": 37,
    "start_time": "2022-02-13T17:22:03.052Z"
   },
   {
    "duration": 8,
    "start_time": "2022-02-13T17:22:03.091Z"
   },
   {
    "duration": 13,
    "start_time": "2022-02-13T18:36:36.448Z"
   },
   {
    "duration": 293,
    "start_time": "2022-02-14T08:58:25.781Z"
   },
   {
    "duration": 3989,
    "start_time": "2022-02-14T08:58:35.814Z"
   },
   {
    "duration": 1461,
    "start_time": "2022-02-14T08:58:39.807Z"
   },
   {
    "duration": 377,
    "start_time": "2022-02-14T08:58:41.271Z"
   },
   {
    "duration": 460,
    "start_time": "2022-02-14T08:58:41.650Z"
   },
   {
    "duration": 313,
    "start_time": "2022-02-14T08:58:42.112Z"
   },
   {
    "duration": 193,
    "start_time": "2022-02-14T08:58:42.428Z"
   },
   {
    "duration": 249,
    "start_time": "2022-02-14T08:58:42.623Z"
   },
   {
    "duration": 3,
    "start_time": "2022-02-14T08:58:42.874Z"
   },
   {
    "duration": 49,
    "start_time": "2022-02-14T08:58:42.880Z"
   },
   {
    "duration": 27,
    "start_time": "2022-02-14T08:58:42.932Z"
   },
   {
    "duration": 13,
    "start_time": "2022-02-14T08:58:42.961Z"
   },
   {
    "duration": 11,
    "start_time": "2022-02-14T08:58:42.976Z"
   },
   {
    "duration": 34,
    "start_time": "2022-02-14T08:58:43.009Z"
   },
   {
    "duration": 17,
    "start_time": "2022-02-14T08:58:43.045Z"
   },
   {
    "duration": 12,
    "start_time": "2022-02-14T08:58:43.064Z"
   },
   {
    "duration": 36,
    "start_time": "2022-02-14T08:58:43.078Z"
   },
   {
    "duration": 13,
    "start_time": "2022-02-14T08:58:43.116Z"
   },
   {
    "duration": 24,
    "start_time": "2022-02-14T08:58:43.131Z"
   },
   {
    "duration": 54,
    "start_time": "2022-02-14T08:58:43.158Z"
   },
   {
    "duration": 35,
    "start_time": "2022-02-14T08:58:43.215Z"
   },
   {
    "duration": 16,
    "start_time": "2022-02-14T08:58:43.253Z"
   },
   {
    "duration": 53,
    "start_time": "2022-02-14T08:58:43.272Z"
   },
   {
    "duration": 12,
    "start_time": "2022-02-14T08:58:43.328Z"
   },
   {
    "duration": 15,
    "start_time": "2022-02-14T08:58:43.342Z"
   },
   {
    "duration": 18,
    "start_time": "2022-02-14T08:58:43.359Z"
   },
   {
    "duration": 37,
    "start_time": "2022-02-14T08:58:43.379Z"
   },
   {
    "duration": 5,
    "start_time": "2022-02-14T08:58:43.420Z"
   },
   {
    "duration": 57,
    "start_time": "2022-02-14T08:58:43.428Z"
   },
   {
    "duration": 25,
    "start_time": "2022-02-14T08:58:43.488Z"
   },
   {
    "duration": 26,
    "start_time": "2022-02-14T08:58:43.515Z"
   },
   {
    "duration": 24,
    "start_time": "2022-02-14T08:58:43.543Z"
   },
   {
    "duration": 9,
    "start_time": "2022-02-14T08:58:43.569Z"
   },
   {
    "duration": 43,
    "start_time": "2022-02-14T08:58:43.580Z"
   },
   {
    "duration": 25,
    "start_time": "2022-02-14T08:58:43.625Z"
   },
   {
    "duration": 62,
    "start_time": "2022-02-14T08:58:43.652Z"
   },
   {
    "duration": 18,
    "start_time": "2022-02-14T08:58:43.716Z"
   },
   {
    "duration": 6,
    "start_time": "2022-02-14T08:58:43.736Z"
   },
   {
    "duration": 14,
    "start_time": "2022-02-14T08:58:43.744Z"
   },
   {
    "duration": 8,
    "start_time": "2022-02-14T08:58:43.760Z"
   },
   {
    "duration": 21,
    "start_time": "2022-02-14T08:58:43.770Z"
   },
   {
    "duration": 117,
    "start_time": "2022-02-14T08:58:43.808Z"
   },
   {
    "duration": 10,
    "start_time": "2022-02-14T08:58:43.927Z"
   },
   {
    "duration": 20,
    "start_time": "2022-02-14T08:58:43.939Z"
   },
   {
    "duration": 26,
    "start_time": "2022-02-14T08:58:43.961Z"
   },
   {
    "duration": 37,
    "start_time": "2022-02-14T08:58:43.989Z"
   },
   {
    "duration": 32,
    "start_time": "2022-02-14T08:58:44.028Z"
   },
   {
    "duration": 5,
    "start_time": "2022-02-14T08:58:44.062Z"
   },
   {
    "duration": 60,
    "start_time": "2022-02-14T08:58:44.069Z"
   },
   {
    "duration": 362,
    "start_time": "2022-02-14T08:58:44.131Z"
   },
   {
    "duration": -184,
    "start_time": "2022-02-14T08:58:44.679Z"
   },
   {
    "duration": -187,
    "start_time": "2022-02-14T08:58:44.683Z"
   },
   {
    "duration": -187,
    "start_time": "2022-02-14T08:58:44.685Z"
   },
   {
    "duration": -187,
    "start_time": "2022-02-14T08:58:44.686Z"
   },
   {
    "duration": -188,
    "start_time": "2022-02-14T08:58:44.688Z"
   },
   {
    "duration": -189,
    "start_time": "2022-02-14T08:58:44.690Z"
   },
   {
    "duration": -189,
    "start_time": "2022-02-14T08:58:44.691Z"
   },
   {
    "duration": -189,
    "start_time": "2022-02-14T08:58:44.693Z"
   },
   {
    "duration": -190,
    "start_time": "2022-02-14T08:58:44.695Z"
   },
   {
    "duration": -190,
    "start_time": "2022-02-14T08:58:44.696Z"
   },
   {
    "duration": -191,
    "start_time": "2022-02-14T08:58:44.698Z"
   },
   {
    "duration": -261,
    "start_time": "2022-02-14T08:58:44.770Z"
   },
   {
    "duration": -301,
    "start_time": "2022-02-14T08:58:44.811Z"
   },
   {
    "duration": -303,
    "start_time": "2022-02-14T08:58:44.814Z"
   },
   {
    "duration": -303,
    "start_time": "2022-02-14T08:58:44.815Z"
   },
   {
    "duration": -304,
    "start_time": "2022-02-14T08:58:44.817Z"
   },
   {
    "duration": 36,
    "start_time": "2022-02-14T09:01:06.757Z"
   },
   {
    "duration": 41,
    "start_time": "2022-02-14T09:01:14.675Z"
   },
   {
    "duration": 33,
    "start_time": "2022-02-14T09:04:44.728Z"
   },
   {
    "duration": 384,
    "start_time": "2022-02-14T09:10:48.798Z"
   },
   {
    "duration": 2672,
    "start_time": "2022-02-14T09:10:58.719Z"
   },
   {
    "duration": 1290,
    "start_time": "2022-02-14T09:11:01.394Z"
   },
   {
    "duration": 283,
    "start_time": "2022-02-14T09:11:02.688Z"
   },
   {
    "duration": 272,
    "start_time": "2022-02-14T09:11:02.974Z"
   },
   {
    "duration": 250,
    "start_time": "2022-02-14T09:11:03.248Z"
   },
   {
    "duration": 219,
    "start_time": "2022-02-14T09:11:03.501Z"
   },
   {
    "duration": 188,
    "start_time": "2022-02-14T09:11:03.722Z"
   },
   {
    "duration": 5,
    "start_time": "2022-02-14T09:11:03.915Z"
   },
   {
    "duration": 77,
    "start_time": "2022-02-14T09:11:03.922Z"
   },
   {
    "duration": 36,
    "start_time": "2022-02-14T09:11:04.002Z"
   },
   {
    "duration": 18,
    "start_time": "2022-02-14T09:11:04.040Z"
   },
   {
    "duration": 27,
    "start_time": "2022-02-14T09:11:04.060Z"
   },
   {
    "duration": 67,
    "start_time": "2022-02-14T09:11:04.089Z"
   },
   {
    "duration": 18,
    "start_time": "2022-02-14T09:11:04.158Z"
   },
   {
    "duration": 56,
    "start_time": "2022-02-14T09:11:04.178Z"
   },
   {
    "duration": 13,
    "start_time": "2022-02-14T09:11:04.236Z"
   },
   {
    "duration": 26,
    "start_time": "2022-02-14T09:11:04.252Z"
   },
   {
    "duration": 29,
    "start_time": "2022-02-14T09:11:04.280Z"
   },
   {
    "duration": 29,
    "start_time": "2022-02-14T09:11:04.311Z"
   },
   {
    "duration": 33,
    "start_time": "2022-02-14T09:11:04.342Z"
   },
   {
    "duration": 33,
    "start_time": "2022-02-14T09:11:04.377Z"
   },
   {
    "duration": 23,
    "start_time": "2022-02-14T09:11:04.412Z"
   },
   {
    "duration": 15,
    "start_time": "2022-02-14T09:11:04.441Z"
   },
   {
    "duration": 10,
    "start_time": "2022-02-14T09:11:04.459Z"
   },
   {
    "duration": 37,
    "start_time": "2022-02-14T09:11:04.470Z"
   },
   {
    "duration": 34,
    "start_time": "2022-02-14T09:11:04.510Z"
   },
   {
    "duration": 5,
    "start_time": "2022-02-14T09:11:04.547Z"
   },
   {
    "duration": 85,
    "start_time": "2022-02-14T09:11:04.554Z"
   },
   {
    "duration": 11,
    "start_time": "2022-02-14T09:11:04.641Z"
   },
   {
    "duration": 28,
    "start_time": "2022-02-14T09:11:04.654Z"
   },
   {
    "duration": 41,
    "start_time": "2022-02-14T09:11:04.684Z"
   },
   {
    "duration": 10,
    "start_time": "2022-02-14T09:11:04.727Z"
   },
   {
    "duration": 32,
    "start_time": "2022-02-14T09:11:04.739Z"
   },
   {
    "duration": 38,
    "start_time": "2022-02-14T09:11:04.773Z"
   },
   {
    "duration": 33,
    "start_time": "2022-02-14T09:11:04.813Z"
   },
   {
    "duration": 26,
    "start_time": "2022-02-14T09:11:04.848Z"
   },
   {
    "duration": 12,
    "start_time": "2022-02-14T09:11:04.876Z"
   },
   {
    "duration": 8,
    "start_time": "2022-02-14T09:11:04.907Z"
   },
   {
    "duration": 15,
    "start_time": "2022-02-14T09:11:04.917Z"
   },
   {
    "duration": 27,
    "start_time": "2022-02-14T09:11:04.934Z"
   },
   {
    "duration": 127,
    "start_time": "2022-02-14T09:11:04.963Z"
   },
   {
    "duration": 19,
    "start_time": "2022-02-14T09:11:05.092Z"
   },
   {
    "duration": 31,
    "start_time": "2022-02-14T09:11:05.113Z"
   },
   {
    "duration": 79,
    "start_time": "2022-02-14T09:11:05.146Z"
   },
   {
    "duration": 39,
    "start_time": "2022-02-14T09:11:05.227Z"
   },
   {
    "duration": 47,
    "start_time": "2022-02-14T09:11:05.268Z"
   },
   {
    "duration": 18,
    "start_time": "2022-02-14T09:11:05.317Z"
   },
   {
    "duration": 85,
    "start_time": "2022-02-14T09:11:05.338Z"
   },
   {
    "duration": 40,
    "start_time": "2022-02-14T09:11:05.425Z"
   },
   {
    "duration": 411,
    "start_time": "2022-02-14T09:11:05.468Z"
   },
   {
    "duration": 35,
    "start_time": "2022-02-14T09:11:05.882Z"
   },
   {
    "duration": 51,
    "start_time": "2022-02-14T09:11:05.918Z"
   },
   {
    "duration": 5,
    "start_time": "2022-02-14T09:11:05.971Z"
   },
   {
    "duration": 533,
    "start_time": "2022-02-14T09:11:05.978Z"
   },
   {
    "duration": 34,
    "start_time": "2022-02-14T09:11:06.513Z"
   },
   {
    "duration": 31,
    "start_time": "2022-02-14T09:11:06.548Z"
   },
   {
    "duration": 6,
    "start_time": "2022-02-14T09:11:06.607Z"
   },
   {
    "duration": 483,
    "start_time": "2022-02-14T09:11:06.616Z"
   },
   {
    "duration": 8,
    "start_time": "2022-02-14T09:11:07.101Z"
   },
   {
    "duration": 20,
    "start_time": "2022-02-14T09:11:07.111Z"
   },
   {
    "duration": 17,
    "start_time": "2022-02-14T09:11:07.133Z"
   },
   {
    "duration": 10,
    "start_time": "2022-02-14T09:11:07.152Z"
   },
   {
    "duration": 8,
    "start_time": "2022-02-14T09:11:07.164Z"
   },
   {
    "duration": 45,
    "start_time": "2022-02-14T09:11:07.174Z"
   },
   {
    "duration": 5,
    "start_time": "2022-02-14T09:11:07.221Z"
   },
   {
    "duration": 2658,
    "start_time": "2022-02-14T09:12:15.622Z"
   },
   {
    "duration": 1176,
    "start_time": "2022-02-14T09:12:18.282Z"
   },
   {
    "duration": 274,
    "start_time": "2022-02-14T09:12:19.461Z"
   },
   {
    "duration": 262,
    "start_time": "2022-02-14T09:12:19.737Z"
   },
   {
    "duration": 296,
    "start_time": "2022-02-14T09:12:20.001Z"
   },
   {
    "duration": 295,
    "start_time": "2022-02-14T09:12:20.299Z"
   },
   {
    "duration": 211,
    "start_time": "2022-02-14T09:12:20.596Z"
   },
   {
    "duration": 3,
    "start_time": "2022-02-14T09:12:20.809Z"
   },
   {
    "duration": 84,
    "start_time": "2022-02-14T09:12:20.815Z"
   },
   {
    "duration": 31,
    "start_time": "2022-02-14T09:12:20.902Z"
   },
   {
    "duration": 28,
    "start_time": "2022-02-14T09:12:20.935Z"
   },
   {
    "duration": 19,
    "start_time": "2022-02-14T09:12:20.966Z"
   },
   {
    "duration": 72,
    "start_time": "2022-02-14T09:12:20.988Z"
   },
   {
    "duration": 20,
    "start_time": "2022-02-14T09:12:21.062Z"
   },
   {
    "duration": 13,
    "start_time": "2022-02-14T09:12:21.084Z"
   },
   {
    "duration": 27,
    "start_time": "2022-02-14T09:12:21.099Z"
   },
   {
    "duration": 40,
    "start_time": "2022-02-14T09:12:21.128Z"
   },
   {
    "duration": 27,
    "start_time": "2022-02-14T09:12:21.170Z"
   },
   {
    "duration": 39,
    "start_time": "2022-02-14T09:12:21.199Z"
   },
   {
    "duration": 53,
    "start_time": "2022-02-14T09:12:21.240Z"
   },
   {
    "duration": 20,
    "start_time": "2022-02-14T09:12:21.295Z"
   },
   {
    "duration": 39,
    "start_time": "2022-02-14T09:12:21.317Z"
   },
   {
    "duration": 46,
    "start_time": "2022-02-14T09:12:21.358Z"
   },
   {
    "duration": 24,
    "start_time": "2022-02-14T09:12:21.406Z"
   },
   {
    "duration": 38,
    "start_time": "2022-02-14T09:12:21.433Z"
   },
   {
    "duration": 60,
    "start_time": "2022-02-14T09:12:21.474Z"
   },
   {
    "duration": 5,
    "start_time": "2022-02-14T09:12:21.538Z"
   },
   {
    "duration": 67,
    "start_time": "2022-02-14T09:12:21.545Z"
   },
   {
    "duration": 8,
    "start_time": "2022-02-14T09:12:21.615Z"
   },
   {
    "duration": 21,
    "start_time": "2022-02-14T09:12:21.625Z"
   },
   {
    "duration": 24,
    "start_time": "2022-02-14T09:12:21.648Z"
   },
   {
    "duration": 35,
    "start_time": "2022-02-14T09:12:21.674Z"
   },
   {
    "duration": 21,
    "start_time": "2022-02-14T09:12:21.711Z"
   },
   {
    "duration": 24,
    "start_time": "2022-02-14T09:12:21.734Z"
   },
   {
    "duration": 66,
    "start_time": "2022-02-14T09:12:21.760Z"
   },
   {
    "duration": 18,
    "start_time": "2022-02-14T09:12:21.828Z"
   },
   {
    "duration": 7,
    "start_time": "2022-02-14T09:12:21.848Z"
   },
   {
    "duration": 12,
    "start_time": "2022-02-14T09:12:21.857Z"
   },
   {
    "duration": 37,
    "start_time": "2022-02-14T09:12:21.871Z"
   },
   {
    "duration": 7,
    "start_time": "2022-02-14T09:12:21.910Z"
   },
   {
    "duration": 117,
    "start_time": "2022-02-14T09:12:21.919Z"
   },
   {
    "duration": 10,
    "start_time": "2022-02-14T09:12:22.039Z"
   },
   {
    "duration": 18,
    "start_time": "2022-02-14T09:12:22.051Z"
   },
   {
    "duration": 41,
    "start_time": "2022-02-14T09:12:22.071Z"
   },
   {
    "duration": 20,
    "start_time": "2022-02-14T09:12:22.114Z"
   },
   {
    "duration": 62,
    "start_time": "2022-02-14T09:12:22.136Z"
   },
   {
    "duration": 42,
    "start_time": "2022-02-14T09:12:22.200Z"
   },
   {
    "duration": 42,
    "start_time": "2022-02-14T09:12:22.245Z"
   },
   {
    "duration": 34,
    "start_time": "2022-02-14T09:12:22.289Z"
   },
   {
    "duration": 393,
    "start_time": "2022-02-14T09:12:22.325Z"
   },
   {
    "duration": 35,
    "start_time": "2022-02-14T09:12:22.720Z"
   },
   {
    "duration": 59,
    "start_time": "2022-02-14T09:12:22.757Z"
   },
   {
    "duration": 8,
    "start_time": "2022-02-14T09:12:22.818Z"
   },
   {
    "duration": 380,
    "start_time": "2022-02-14T09:12:22.827Z"
   },
   {
    "duration": 34,
    "start_time": "2022-02-14T09:12:23.209Z"
   },
   {
    "duration": 33,
    "start_time": "2022-02-14T09:12:23.245Z"
   },
   {
    "duration": 27,
    "start_time": "2022-02-14T09:12:23.281Z"
   },
   {
    "duration": 394,
    "start_time": "2022-02-14T09:12:23.310Z"
   },
   {
    "duration": 2,
    "start_time": "2022-02-14T09:12:23.708Z"
   },
   {
    "duration": 39,
    "start_time": "2022-02-14T09:12:23.712Z"
   },
   {
    "duration": 30,
    "start_time": "2022-02-14T09:12:23.754Z"
   },
   {
    "duration": 26,
    "start_time": "2022-02-14T09:12:23.786Z"
   },
   {
    "duration": 20,
    "start_time": "2022-02-14T09:12:23.814Z"
   },
   {
    "duration": 68,
    "start_time": "2022-02-14T09:12:23.836Z"
   },
   {
    "duration": 22,
    "start_time": "2022-02-14T09:12:23.906Z"
   },
   {
    "duration": 6,
    "start_time": "2022-02-14T09:21:18.767Z"
   },
   {
    "duration": 6,
    "start_time": "2022-02-14T09:23:07.842Z"
   },
   {
    "duration": 6,
    "start_time": "2022-02-14T09:23:32.560Z"
   },
   {
    "duration": 2523,
    "start_time": "2022-02-14T09:23:41.142Z"
   },
   {
    "duration": 1259,
    "start_time": "2022-02-14T09:23:43.667Z"
   },
   {
    "duration": 283,
    "start_time": "2022-02-14T09:23:44.928Z"
   },
   {
    "duration": 258,
    "start_time": "2022-02-14T09:23:45.214Z"
   },
   {
    "duration": 220,
    "start_time": "2022-02-14T09:23:45.474Z"
   },
   {
    "duration": 169,
    "start_time": "2022-02-14T09:23:45.696Z"
   },
   {
    "duration": 174,
    "start_time": "2022-02-14T09:23:45.867Z"
   },
   {
    "duration": 4,
    "start_time": "2022-02-14T09:23:46.044Z"
   },
   {
    "duration": 72,
    "start_time": "2022-02-14T09:23:46.050Z"
   },
   {
    "duration": 25,
    "start_time": "2022-02-14T09:23:46.124Z"
   },
   {
    "duration": 13,
    "start_time": "2022-02-14T09:23:46.151Z"
   },
   {
    "duration": 16,
    "start_time": "2022-02-14T09:23:46.166Z"
   },
   {
    "duration": 56,
    "start_time": "2022-02-14T09:23:46.184Z"
   },
   {
    "duration": 20,
    "start_time": "2022-02-14T09:23:46.242Z"
   },
   {
    "duration": 13,
    "start_time": "2022-02-14T09:23:46.264Z"
   },
   {
    "duration": 9,
    "start_time": "2022-02-14T09:23:46.307Z"
   },
   {
    "duration": 20,
    "start_time": "2022-02-14T09:23:46.318Z"
   },
   {
    "duration": 32,
    "start_time": "2022-02-14T09:23:46.340Z"
   },
   {
    "duration": 59,
    "start_time": "2022-02-14T09:23:46.374Z"
   },
   {
    "duration": 33,
    "start_time": "2022-02-14T09:23:46.435Z"
   },
   {
    "duration": 13,
    "start_time": "2022-02-14T09:23:46.469Z"
   },
   {
    "duration": 41,
    "start_time": "2022-02-14T09:23:46.484Z"
   },
   {
    "duration": 13,
    "start_time": "2022-02-14T09:23:46.530Z"
   },
   {
    "duration": 26,
    "start_time": "2022-02-14T09:23:46.545Z"
   },
   {
    "duration": 25,
    "start_time": "2022-02-14T09:23:46.573Z"
   },
   {
    "duration": 37,
    "start_time": "2022-02-14T09:23:46.600Z"
   },
   {
    "duration": 3,
    "start_time": "2022-02-14T09:23:46.639Z"
   },
   {
    "duration": 80,
    "start_time": "2022-02-14T09:23:46.644Z"
   },
   {
    "duration": 11,
    "start_time": "2022-02-14T09:23:46.726Z"
   },
   {
    "duration": 40,
    "start_time": "2022-02-14T09:23:46.739Z"
   },
   {
    "duration": 34,
    "start_time": "2022-02-14T09:23:46.781Z"
   },
   {
    "duration": 9,
    "start_time": "2022-02-14T09:23:46.817Z"
   },
   {
    "duration": 32,
    "start_time": "2022-02-14T09:23:46.828Z"
   },
   {
    "duration": 27,
    "start_time": "2022-02-14T09:23:46.862Z"
   },
   {
    "duration": 47,
    "start_time": "2022-02-14T09:23:46.891Z"
   },
   {
    "duration": 18,
    "start_time": "2022-02-14T09:23:46.940Z"
   },
   {
    "duration": 8,
    "start_time": "2022-02-14T09:23:46.960Z"
   },
   {
    "duration": 37,
    "start_time": "2022-02-14T09:23:46.970Z"
   },
   {
    "duration": 9,
    "start_time": "2022-02-14T09:23:47.010Z"
   },
   {
    "duration": 16,
    "start_time": "2022-02-14T09:23:47.021Z"
   },
   {
    "duration": 123,
    "start_time": "2022-02-14T09:23:47.039Z"
   },
   {
    "duration": 10,
    "start_time": "2022-02-14T09:23:47.164Z"
   },
   {
    "duration": 26,
    "start_time": "2022-02-14T09:23:47.176Z"
   },
   {
    "duration": 37,
    "start_time": "2022-02-14T09:23:47.207Z"
   },
   {
    "duration": 18,
    "start_time": "2022-02-14T09:23:47.246Z"
   },
   {
    "duration": 40,
    "start_time": "2022-02-14T09:23:47.267Z"
   },
   {
    "duration": 8,
    "start_time": "2022-02-14T09:23:47.309Z"
   },
   {
    "duration": 54,
    "start_time": "2022-02-14T09:23:47.319Z"
   },
   {
    "duration": 33,
    "start_time": "2022-02-14T09:23:47.376Z"
   },
   {
    "duration": 404,
    "start_time": "2022-02-14T09:23:47.412Z"
   },
   {
    "duration": 33,
    "start_time": "2022-02-14T09:23:47.819Z"
   },
   {
    "duration": 56,
    "start_time": "2022-02-14T09:23:47.854Z"
   },
   {
    "duration": 6,
    "start_time": "2022-02-14T09:23:47.912Z"
   },
   {
    "duration": 496,
    "start_time": "2022-02-14T09:23:47.920Z"
   },
   {
    "duration": 34,
    "start_time": "2022-02-14T09:23:48.418Z"
   },
   {
    "duration": 61,
    "start_time": "2022-02-14T09:23:48.455Z"
   },
   {
    "duration": 6,
    "start_time": "2022-02-14T09:23:48.517Z"
   },
   {
    "duration": 413,
    "start_time": "2022-02-14T09:23:48.525Z"
   },
   {
    "duration": 3,
    "start_time": "2022-02-14T09:23:48.940Z"
   },
   {
    "duration": 14,
    "start_time": "2022-02-14T09:23:48.945Z"
   },
   {
    "duration": 8,
    "start_time": "2022-02-14T09:23:48.961Z"
   },
   {
    "duration": 43,
    "start_time": "2022-02-14T09:23:48.971Z"
   },
   {
    "duration": 5,
    "start_time": "2022-02-14T09:23:49.016Z"
   },
   {
    "duration": 6,
    "start_time": "2022-02-14T09:24:26.451Z"
   },
   {
    "duration": 12,
    "start_time": "2022-02-14T09:25:09.388Z"
   },
   {
    "duration": 8,
    "start_time": "2022-02-14T09:25:24.582Z"
   },
   {
    "duration": 7,
    "start_time": "2022-02-14T09:25:28.478Z"
   },
   {
    "duration": 2575,
    "start_time": "2022-02-14T09:25:54.794Z"
   },
   {
    "duration": 1193,
    "start_time": "2022-02-14T09:25:57.371Z"
   },
   {
    "duration": 274,
    "start_time": "2022-02-14T09:25:58.566Z"
   },
   {
    "duration": 324,
    "start_time": "2022-02-14T09:25:58.842Z"
   },
   {
    "duration": 227,
    "start_time": "2022-02-14T09:25:59.169Z"
   },
   {
    "duration": 172,
    "start_time": "2022-02-14T09:25:59.398Z"
   },
   {
    "duration": 175,
    "start_time": "2022-02-14T09:25:59.572Z"
   },
   {
    "duration": 4,
    "start_time": "2022-02-14T09:25:59.749Z"
   },
   {
    "duration": 45,
    "start_time": "2022-02-14T09:25:59.756Z"
   },
   {
    "duration": 24,
    "start_time": "2022-02-14T09:25:59.803Z"
   },
   {
    "duration": 13,
    "start_time": "2022-02-14T09:25:59.829Z"
   },
   {
    "duration": 8,
    "start_time": "2022-02-14T09:25:59.844Z"
   },
   {
    "duration": 64,
    "start_time": "2022-02-14T09:25:59.854Z"
   },
   {
    "duration": 18,
    "start_time": "2022-02-14T09:25:59.920Z"
   },
   {
    "duration": 11,
    "start_time": "2022-02-14T09:25:59.940Z"
   },
   {
    "duration": 10,
    "start_time": "2022-02-14T09:25:59.953Z"
   },
   {
    "duration": 46,
    "start_time": "2022-02-14T09:25:59.965Z"
   },
   {
    "duration": 25,
    "start_time": "2022-02-14T09:26:00.014Z"
   },
   {
    "duration": 23,
    "start_time": "2022-02-14T09:26:00.042Z"
   },
   {
    "duration": 59,
    "start_time": "2022-02-14T09:26:00.067Z"
   },
   {
    "duration": 13,
    "start_time": "2022-02-14T09:26:00.128Z"
   },
   {
    "duration": 37,
    "start_time": "2022-02-14T09:26:00.144Z"
   },
   {
    "duration": 23,
    "start_time": "2022-02-14T09:26:00.184Z"
   },
   {
    "duration": 7,
    "start_time": "2022-02-14T09:26:00.210Z"
   },
   {
    "duration": 26,
    "start_time": "2022-02-14T09:26:00.219Z"
   },
   {
    "duration": 35,
    "start_time": "2022-02-14T09:26:00.247Z"
   },
   {
    "duration": 4,
    "start_time": "2022-02-14T09:26:00.287Z"
   },
   {
    "duration": 72,
    "start_time": "2022-02-14T09:26:00.294Z"
   },
   {
    "duration": 9,
    "start_time": "2022-02-14T09:26:00.368Z"
   },
   {
    "duration": 30,
    "start_time": "2022-02-14T09:26:00.379Z"
   },
   {
    "duration": 25,
    "start_time": "2022-02-14T09:26:00.411Z"
   },
   {
    "duration": 9,
    "start_time": "2022-02-14T09:26:00.438Z"
   },
   {
    "duration": 33,
    "start_time": "2022-02-14T09:26:00.448Z"
   },
   {
    "duration": 51,
    "start_time": "2022-02-14T09:26:00.483Z"
   },
   {
    "duration": 51,
    "start_time": "2022-02-14T09:26:00.536Z"
   },
   {
    "duration": 24,
    "start_time": "2022-02-14T09:26:00.607Z"
   },
   {
    "duration": 8,
    "start_time": "2022-02-14T09:26:00.633Z"
   },
   {
    "duration": 43,
    "start_time": "2022-02-14T09:26:00.643Z"
   },
   {
    "duration": 20,
    "start_time": "2022-02-14T09:26:00.688Z"
   },
   {
    "duration": 31,
    "start_time": "2022-02-14T09:26:00.710Z"
   },
   {
    "duration": 125,
    "start_time": "2022-02-14T09:26:00.743Z"
   },
   {
    "duration": 10,
    "start_time": "2022-02-14T09:26:00.870Z"
   },
   {
    "duration": 35,
    "start_time": "2022-02-14T09:26:00.881Z"
   },
   {
    "duration": 33,
    "start_time": "2022-02-14T09:26:00.918Z"
   },
   {
    "duration": 21,
    "start_time": "2022-02-14T09:26:00.953Z"
   },
   {
    "duration": 52,
    "start_time": "2022-02-14T09:26:00.977Z"
   },
   {
    "duration": 6,
    "start_time": "2022-02-14T09:26:01.031Z"
   },
   {
    "duration": 59,
    "start_time": "2022-02-14T09:26:01.039Z"
   },
   {
    "duration": 36,
    "start_time": "2022-02-14T09:26:01.100Z"
   },
   {
    "duration": 419,
    "start_time": "2022-02-14T09:26:01.138Z"
   },
   {
    "duration": 34,
    "start_time": "2022-02-14T09:26:01.559Z"
   },
   {
    "duration": 35,
    "start_time": "2022-02-14T09:26:01.608Z"
   },
   {
    "duration": 28,
    "start_time": "2022-02-14T09:26:01.646Z"
   },
   {
    "duration": 387,
    "start_time": "2022-02-14T09:26:01.676Z"
   },
   {
    "duration": 45,
    "start_time": "2022-02-14T09:26:02.066Z"
   },
   {
    "duration": 34,
    "start_time": "2022-02-14T09:26:02.114Z"
   },
   {
    "duration": 7,
    "start_time": "2022-02-14T09:26:02.150Z"
   },
   {
    "duration": 431,
    "start_time": "2022-02-14T09:26:02.159Z"
   },
   {
    "duration": 3,
    "start_time": "2022-02-14T09:26:02.593Z"
   },
   {
    "duration": 25,
    "start_time": "2022-02-14T09:26:02.598Z"
   },
   {
    "duration": 29,
    "start_time": "2022-02-14T09:26:02.625Z"
   },
   {
    "duration": 46,
    "start_time": "2022-02-14T09:26:02.656Z"
   },
   {
    "duration": 22,
    "start_time": "2022-02-14T09:26:02.704Z"
   },
   {
    "duration": 6,
    "start_time": "2022-02-14T09:35:36.197Z"
   },
   {
    "duration": 6,
    "start_time": "2022-02-14T09:36:08.814Z"
   },
   {
    "duration": 2623,
    "start_time": "2022-02-14T09:36:15.288Z"
   },
   {
    "duration": 1146,
    "start_time": "2022-02-14T09:36:17.914Z"
   },
   {
    "duration": 297,
    "start_time": "2022-02-14T09:36:19.062Z"
   },
   {
    "duration": 257,
    "start_time": "2022-02-14T09:36:19.361Z"
   },
   {
    "duration": 207,
    "start_time": "2022-02-14T09:36:19.620Z"
   },
   {
    "duration": 171,
    "start_time": "2022-02-14T09:36:19.829Z"
   },
   {
    "duration": 187,
    "start_time": "2022-02-14T09:36:20.002Z"
   },
   {
    "duration": 4,
    "start_time": "2022-02-14T09:36:20.192Z"
   },
   {
    "duration": 51,
    "start_time": "2022-02-14T09:36:20.198Z"
   },
   {
    "duration": 37,
    "start_time": "2022-02-14T09:36:20.250Z"
   },
   {
    "duration": 18,
    "start_time": "2022-02-14T09:36:20.289Z"
   },
   {
    "duration": 9,
    "start_time": "2022-02-14T09:36:20.309Z"
   },
   {
    "duration": 37,
    "start_time": "2022-02-14T09:36:20.320Z"
   },
   {
    "duration": 19,
    "start_time": "2022-02-14T09:36:20.359Z"
   },
   {
    "duration": 37,
    "start_time": "2022-02-14T09:36:20.380Z"
   },
   {
    "duration": 9,
    "start_time": "2022-02-14T09:36:20.419Z"
   },
   {
    "duration": 12,
    "start_time": "2022-02-14T09:36:20.430Z"
   },
   {
    "duration": 23,
    "start_time": "2022-02-14T09:36:20.445Z"
   },
   {
    "duration": 55,
    "start_time": "2022-02-14T09:36:20.470Z"
   },
   {
    "duration": 34,
    "start_time": "2022-02-14T09:36:20.527Z"
   },
   {
    "duration": 12,
    "start_time": "2022-02-14T09:36:20.563Z"
   },
   {
    "duration": 46,
    "start_time": "2022-02-14T09:36:20.577Z"
   },
   {
    "duration": 12,
    "start_time": "2022-02-14T09:36:20.628Z"
   },
   {
    "duration": 5,
    "start_time": "2022-02-14T09:36:20.642Z"
   },
   {
    "duration": 11,
    "start_time": "2022-02-14T09:36:20.649Z"
   },
   {
    "duration": 60,
    "start_time": "2022-02-14T09:36:20.662Z"
   },
   {
    "duration": 4,
    "start_time": "2022-02-14T09:36:20.724Z"
   },
   {
    "duration": 64,
    "start_time": "2022-02-14T09:36:20.729Z"
   },
   {
    "duration": 18,
    "start_time": "2022-02-14T09:36:20.794Z"
   },
   {
    "duration": 36,
    "start_time": "2022-02-14T09:36:20.814Z"
   },
   {
    "duration": 32,
    "start_time": "2022-02-14T09:36:20.852Z"
   },
   {
    "duration": 16,
    "start_time": "2022-02-14T09:36:20.886Z"
   },
   {
    "duration": 40,
    "start_time": "2022-02-14T09:36:20.904Z"
   },
   {
    "duration": 37,
    "start_time": "2022-02-14T09:36:20.947Z"
   },
   {
    "duration": 47,
    "start_time": "2022-02-14T09:36:20.987Z"
   },
   {
    "duration": 24,
    "start_time": "2022-02-14T09:36:21.036Z"
   },
   {
    "duration": 8,
    "start_time": "2022-02-14T09:36:21.062Z"
   },
   {
    "duration": 21,
    "start_time": "2022-02-14T09:36:21.072Z"
   },
   {
    "duration": 16,
    "start_time": "2022-02-14T09:36:21.096Z"
   },
   {
    "duration": 8,
    "start_time": "2022-02-14T09:36:21.115Z"
   },
   {
    "duration": 123,
    "start_time": "2022-02-14T09:36:21.126Z"
   },
   {
    "duration": 11,
    "start_time": "2022-02-14T09:36:21.251Z"
   },
   {
    "duration": 17,
    "start_time": "2022-02-14T09:36:21.264Z"
   },
   {
    "duration": 46,
    "start_time": "2022-02-14T09:36:21.283Z"
   },
   {
    "duration": 19,
    "start_time": "2022-02-14T09:36:21.331Z"
   },
   {
    "duration": 56,
    "start_time": "2022-02-14T09:36:21.353Z"
   },
   {
    "duration": 7,
    "start_time": "2022-02-14T09:36:21.411Z"
   },
   {
    "duration": 36,
    "start_time": "2022-02-14T09:36:21.420Z"
   },
   {
    "duration": 61,
    "start_time": "2022-02-14T09:36:21.458Z"
   },
   {
    "duration": 394,
    "start_time": "2022-02-14T09:36:21.521Z"
   },
   {
    "duration": 34,
    "start_time": "2022-02-14T09:36:21.916Z"
   },
   {
    "duration": 58,
    "start_time": "2022-02-14T09:36:21.952Z"
   },
   {
    "duration": 6,
    "start_time": "2022-02-14T09:36:22.012Z"
   },
   {
    "duration": 387,
    "start_time": "2022-02-14T09:36:22.020Z"
   },
   {
    "duration": 36,
    "start_time": "2022-02-14T09:36:22.409Z"
   },
   {
    "duration": 34,
    "start_time": "2022-02-14T09:36:22.447Z"
   },
   {
    "duration": 7,
    "start_time": "2022-02-14T09:36:22.508Z"
   },
   {
    "duration": 400,
    "start_time": "2022-02-14T09:36:22.517Z"
   },
   {
    "duration": 3,
    "start_time": "2022-02-14T09:36:22.919Z"
   },
   {
    "duration": 11,
    "start_time": "2022-02-14T09:36:22.923Z"
   },
   {
    "duration": 18,
    "start_time": "2022-02-14T09:36:22.936Z"
   },
   {
    "duration": 12,
    "start_time": "2022-02-14T09:36:22.956Z"
   },
   {
    "duration": 13,
    "start_time": "2022-02-14T09:36:22.970Z"
   },
   {
    "duration": 398,
    "start_time": "2022-02-14T13:44:36.457Z"
   },
   {
    "duration": 5313,
    "start_time": "2022-02-14T13:44:41.284Z"
   },
   {
    "duration": 1418,
    "start_time": "2022-02-14T13:44:46.600Z"
   },
   {
    "duration": 859,
    "start_time": "2022-02-14T13:44:48.021Z"
   },
   {
    "duration": 383,
    "start_time": "2022-02-14T13:44:48.883Z"
   },
   {
    "duration": 402,
    "start_time": "2022-02-14T13:44:49.268Z"
   },
   {
    "duration": 294,
    "start_time": "2022-02-14T13:44:49.672Z"
   },
   {
    "duration": 241,
    "start_time": "2022-02-14T13:44:49.969Z"
   },
   {
    "duration": 4,
    "start_time": "2022-02-14T13:44:50.213Z"
   },
   {
    "duration": 57,
    "start_time": "2022-02-14T13:44:50.220Z"
   },
   {
    "duration": 33,
    "start_time": "2022-02-14T13:44:50.279Z"
   },
   {
    "duration": 16,
    "start_time": "2022-02-14T13:44:50.315Z"
   },
   {
    "duration": 41,
    "start_time": "2022-02-14T13:44:50.333Z"
   },
   {
    "duration": 44,
    "start_time": "2022-02-14T13:44:50.377Z"
   },
   {
    "duration": 50,
    "start_time": "2022-02-14T13:44:50.423Z"
   },
   {
    "duration": 15,
    "start_time": "2022-02-14T13:44:50.475Z"
   },
   {
    "duration": 12,
    "start_time": "2022-02-14T13:44:50.494Z"
   },
   {
    "duration": 17,
    "start_time": "2022-02-14T13:44:50.509Z"
   },
   {
    "duration": 70,
    "start_time": "2022-02-14T13:44:50.529Z"
   },
   {
    "duration": 28,
    "start_time": "2022-02-14T13:44:50.603Z"
   },
   {
    "duration": 79,
    "start_time": "2022-02-14T13:44:50.634Z"
   },
   {
    "duration": 19,
    "start_time": "2022-02-14T13:44:50.716Z"
   },
   {
    "duration": 30,
    "start_time": "2022-02-14T13:44:50.771Z"
   },
   {
    "duration": 16,
    "start_time": "2022-02-14T13:44:50.808Z"
   },
   {
    "duration": 41,
    "start_time": "2022-02-14T13:44:50.828Z"
   },
   {
    "duration": 15,
    "start_time": "2022-02-14T13:44:50.872Z"
   },
   {
    "duration": 35,
    "start_time": "2022-02-14T13:44:50.889Z"
   },
   {
    "duration": 5,
    "start_time": "2022-02-14T13:44:50.926Z"
   },
   {
    "duration": 105,
    "start_time": "2022-02-14T13:44:50.934Z"
   },
   {
    "duration": 27,
    "start_time": "2022-02-14T13:44:51.042Z"
   },
   {
    "duration": 24,
    "start_time": "2022-02-14T13:44:51.072Z"
   },
   {
    "duration": 30,
    "start_time": "2022-02-14T13:44:51.099Z"
   },
   {
    "duration": 46,
    "start_time": "2022-02-14T13:44:51.131Z"
   },
   {
    "duration": 32,
    "start_time": "2022-02-14T13:44:51.180Z"
   },
   {
    "duration": 60,
    "start_time": "2022-02-14T13:44:51.216Z"
   },
   {
    "duration": 52,
    "start_time": "2022-02-14T13:44:51.279Z"
   },
   {
    "duration": 51,
    "start_time": "2022-02-14T13:44:51.335Z"
   },
   {
    "duration": 9,
    "start_time": "2022-02-14T13:44:51.389Z"
   },
   {
    "duration": 20,
    "start_time": "2022-02-14T13:44:51.402Z"
   },
   {
    "duration": 10,
    "start_time": "2022-02-14T13:44:51.425Z"
   },
   {
    "duration": 38,
    "start_time": "2022-02-14T13:44:51.437Z"
   },
   {
    "duration": 185,
    "start_time": "2022-02-14T13:44:51.478Z"
   },
   {
    "duration": 16,
    "start_time": "2022-02-14T13:44:51.669Z"
   },
   {
    "duration": 23,
    "start_time": "2022-02-14T13:44:51.688Z"
   },
   {
    "duration": 65,
    "start_time": "2022-02-14T13:44:51.714Z"
   },
   {
    "duration": 27,
    "start_time": "2022-02-14T13:44:51.781Z"
   },
   {
    "duration": 75,
    "start_time": "2022-02-14T13:44:51.811Z"
   },
   {
    "duration": 8,
    "start_time": "2022-02-14T13:44:51.888Z"
   },
   {
    "duration": 51,
    "start_time": "2022-02-14T13:44:51.899Z"
   },
   {
    "duration": 50,
    "start_time": "2022-02-14T13:44:51.969Z"
   },
   {
    "duration": 8703,
    "start_time": "2022-02-14T13:44:52.021Z"
   },
   {
    "duration": -656,
    "start_time": "2022-02-14T13:45:01.385Z"
   },
   {
    "duration": -658,
    "start_time": "2022-02-14T13:45:01.388Z"
   },
   {
    "duration": -659,
    "start_time": "2022-02-14T13:45:01.390Z"
   },
   {
    "duration": -659,
    "start_time": "2022-02-14T13:45:01.392Z"
   },
   {
    "duration": -669,
    "start_time": "2022-02-14T13:45:01.403Z"
   },
   {
    "duration": -670,
    "start_time": "2022-02-14T13:45:01.405Z"
   },
   {
    "duration": -671,
    "start_time": "2022-02-14T13:45:01.408Z"
   },
   {
    "duration": -671,
    "start_time": "2022-02-14T13:45:01.411Z"
   },
   {
    "duration": -671,
    "start_time": "2022-02-14T13:45:01.413Z"
   },
   {
    "duration": -673,
    "start_time": "2022-02-14T13:45:01.417Z"
   },
   {
    "duration": -671,
    "start_time": "2022-02-14T13:45:01.419Z"
   },
   {
    "duration": -671,
    "start_time": "2022-02-14T13:45:01.422Z"
   },
   {
    "duration": -672,
    "start_time": "2022-02-14T13:45:01.424Z"
   },
   {
    "duration": -672,
    "start_time": "2022-02-14T13:45:01.426Z"
   },
   {
    "duration": 7,
    "start_time": "2022-02-14T13:45:16.047Z"
   },
   {
    "duration": 7,
    "start_time": "2022-02-14T13:45:26.869Z"
   },
   {
    "duration": 613,
    "start_time": "2022-02-14T13:45:26.878Z"
   },
   {
    "duration": 47,
    "start_time": "2022-02-14T13:45:27.495Z"
   },
   {
    "duration": 71,
    "start_time": "2022-02-14T13:45:27.544Z"
   },
   {
    "duration": 7,
    "start_time": "2022-02-14T13:45:27.617Z"
   },
   {
    "duration": 596,
    "start_time": "2022-02-14T13:45:27.626Z"
   },
   {
    "duration": 71,
    "start_time": "2022-02-14T13:45:28.224Z"
   },
   {
    "duration": 70,
    "start_time": "2022-02-14T13:45:28.299Z"
   },
   {
    "duration": 8,
    "start_time": "2022-02-14T13:45:28.373Z"
   },
   {
    "duration": 637,
    "start_time": "2022-02-14T13:45:28.383Z"
   },
   {
    "duration": 3,
    "start_time": "2022-02-14T13:45:29.022Z"
   },
   {
    "duration": 10,
    "start_time": "2022-02-14T13:45:29.028Z"
   },
   {
    "duration": 33,
    "start_time": "2022-02-14T13:45:29.041Z"
   },
   {
    "duration": 13,
    "start_time": "2022-02-14T13:45:29.077Z"
   },
   {
    "duration": 8,
    "start_time": "2022-02-14T13:45:29.093Z"
   }
  ],
  "kernelspec": {
   "display_name": "Python 3",
   "language": "python",
   "name": "python3"
  },
  "language_info": {
   "codemirror_mode": {
    "name": "ipython",
    "version": 3
   },
   "file_extension": ".py",
   "mimetype": "text/x-python",
   "name": "python",
   "nbconvert_exporter": "python",
   "pygments_lexer": "ipython3",
   "version": "3.8.8"
  },
  "toc": {
   "base_numbering": 1,
   "nav_menu": {},
   "number_sections": true,
   "sideBar": true,
   "skip_h1_title": true,
   "title_cell": "Table of Contents",
   "title_sidebar": "Contents",
   "toc_cell": false,
   "toc_position": {
    "height": "calc(100% - 180px)",
    "left": "10px",
    "top": "150px",
    "width": "319.521px"
   },
   "toc_section_display": true,
   "toc_window_display": true
  },
  "varInspector": {
   "cols": {
    "lenName": 16,
    "lenType": 16,
    "lenVar": 40
   },
   "kernels_config": {
    "python": {
     "delete_cmd_postfix": "",
     "delete_cmd_prefix": "del ",
     "library": "var_list.py",
     "varRefreshCmd": "print(var_dic_list())"
    },
    "r": {
     "delete_cmd_postfix": ") ",
     "delete_cmd_prefix": "rm(",
     "library": "var_list.r",
     "varRefreshCmd": "cat(var_dic_list()) "
    }
   },
   "types_to_exclude": [
    "module",
    "function",
    "builtin_function_or_method",
    "instance",
    "_Feature"
   ],
   "window_display": false
  }
 },
 "nbformat": 4,
 "nbformat_minor": 5
}
